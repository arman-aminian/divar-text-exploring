{
 "cells": [
  {
   "cell_type": "markdown",
   "id": "127940d5",
   "metadata": {},
   "source": [
    "# Install packages"
   ]
  },
  {
   "cell_type": "code",
   "execution_count": 46,
   "id": "6f28dca2",
   "metadata": {},
   "outputs": [],
   "source": [
    "###\n",
    "###\n",
    "# install requirements\n",
    "###\n",
    "###"
   ]
  },
  {
   "cell_type": "markdown",
   "id": "9bed4272",
   "metadata": {},
   "source": [
    "# Import packages"
   ]
  },
  {
   "cell_type": "code",
   "execution_count": 290,
   "id": "da529212",
   "metadata": {},
   "outputs": [],
   "source": [
    "import random\n",
    "import numpy as np\n",
    "import pandas as pd\n",
    "import re\n",
    "import tqdm\n",
    "from nltk import FreqDist\n",
    "\n",
    "from sklearn.base import BaseEstimator, TransformerMixin\n",
    "\n",
    "from hazm import Normalizer, Stemmer, Lemmatizer\n",
    "from hazm import WordTokenizer, SentenceTokenizer\n",
    "import emoji"
   ]
  },
  {
   "cell_type": "markdown",
   "id": "6b3bc10f",
   "metadata": {},
   "source": [
    "# Data loading"
   ]
  },
  {
   "cell_type": "code",
   "execution_count": 241,
   "id": "8a1bf0a7",
   "metadata": {},
   "outputs": [],
   "source": [
    "tehran_posts = pd.read_csv('data/tehran-apartment-sell-posts.csv')\n",
    "mashhad_posts = pd.read_csv('data/mashhad-apartment-sell-posts.csv')\n",
    "isfahan_posts = pd.read_csv('data/isfahan-apartment-sell-posts.csv')\n",
    "ardabil_posts = pd.read_csv('data/ardabil-apartment-sell-posts.csv')"
   ]
  },
  {
   "cell_type": "code",
   "execution_count": 254,
   "id": "e3aecaa3",
   "metadata": {},
   "outputs": [],
   "source": [
    "tehran_posts['city'] = 'tehran'\n",
    "mashhad_posts['city'] = 'mashhad'\n",
    "isfahan_posts['city'] = 'isfahan'\n",
    "ardabil_posts['city'] = 'ardabil'"
   ]
  },
  {
   "cell_type": "code",
   "execution_count": 255,
   "id": "a7774caf",
   "metadata": {},
   "outputs": [],
   "source": [
    "posts = pd.concat([tehran_posts, mashhad_posts, isfahan_posts, ardabil_posts], ignore_index=True)"
   ]
  },
  {
   "cell_type": "markdown",
   "id": "e561cf72",
   "metadata": {},
   "source": [
    "# Clean data"
   ]
  },
  {
   "cell_type": "code",
   "execution_count": 256,
   "id": "610760c0",
   "metadata": {},
   "outputs": [
    {
     "data": {
      "text/html": [
       "<div>\n",
       "<style scoped>\n",
       "    .dataframe tbody tr th:only-of-type {\n",
       "        vertical-align: middle;\n",
       "    }\n",
       "\n",
       "    .dataframe tbody tr th {\n",
       "        vertical-align: top;\n",
       "    }\n",
       "\n",
       "    .dataframe thead th {\n",
       "        text-align: right;\n",
       "    }\n",
       "</style>\n",
       "<table border=\"1\" class=\"dataframe\">\n",
       "  <thead>\n",
       "    <tr style=\"text-align: right;\">\n",
       "      <th></th>\n",
       "      <th>Area</th>\n",
       "      <th>Construction</th>\n",
       "      <th>Room</th>\n",
       "      <th>Warehouse</th>\n",
       "      <th>Parking</th>\n",
       "      <th>Elevator</th>\n",
       "      <th>Address</th>\n",
       "      <th>Price</th>\n",
       "      <th>Description</th>\n",
       "      <th>city</th>\n",
       "    </tr>\n",
       "  </thead>\n",
       "  <tbody>\n",
       "    <tr>\n",
       "      <th>0</th>\n",
       "      <td>63</td>\n",
       "      <td>1375</td>\n",
       "      <td>1</td>\n",
       "      <td>False</td>\n",
       "      <td>False</td>\n",
       "      <td>True</td>\n",
       "      <td>دقایقی پیش در تهران، شمشیری، خیابان شمشیری (ب....</td>\n",
       "      <td>۱٬۶۰۰٬۰۰۰٬۰۰۰ تومان</td>\n",
       "      <td>&lt;p class=\"kt-description-row__text kt-descript...</td>\n",
       "      <td>tehran</td>\n",
       "    </tr>\n",
       "    <tr>\n",
       "      <th>1</th>\n",
       "      <td>180</td>\n",
       "      <td>1393</td>\n",
       "      <td>3</td>\n",
       "      <td>True</td>\n",
       "      <td>True</td>\n",
       "      <td>True</td>\n",
       "      <td>دقایقی پیش در تهران، شیان | فروش آپارتمان</td>\n",
       "      <td>۱۴٬۰۰۰٬۰۰۰٬۰۰۰ تومان</td>\n",
       "      <td>&lt;p class=\"kt-description-row__text kt-descript...</td>\n",
       "      <td>tehran</td>\n",
       "    </tr>\n",
       "    <tr>\n",
       "      <th>2</th>\n",
       "      <td>38</td>\n",
       "      <td>1380</td>\n",
       "      <td>1</td>\n",
       "      <td>False</td>\n",
       "      <td>False</td>\n",
       "      <td>True</td>\n",
       "      <td>دقایقی پیش در تهران، پلیس | فروش آپارتمان</td>\n",
       "      <td>۱٬۳۸۰٬۰۰۰٬۰۰۰ تومان</td>\n",
       "      <td>&lt;p class=\"kt-description-row__text kt-descript...</td>\n",
       "      <td>tehran</td>\n",
       "    </tr>\n",
       "    <tr>\n",
       "      <th>3</th>\n",
       "      <td>88</td>\n",
       "      <td>1384</td>\n",
       "      <td>2</td>\n",
       "      <td>True</td>\n",
       "      <td>True</td>\n",
       "      <td>True</td>\n",
       "      <td>دقایقی پیش در تهران، تهران‌نو | فروش آپارتمان</td>\n",
       "      <td>۳٬۵۰۰٬۰۰۰٬۰۰۰ تومان</td>\n",
       "      <td>&lt;p class=\"kt-description-row__text kt-descript...</td>\n",
       "      <td>tehran</td>\n",
       "    </tr>\n",
       "    <tr>\n",
       "      <th>4</th>\n",
       "      <td>40</td>\n",
       "      <td>1393</td>\n",
       "      <td>1</td>\n",
       "      <td>True</td>\n",
       "      <td>True</td>\n",
       "      <td>True</td>\n",
       "      <td>دقایقی پیش در تهران، بریانک | فروش آپارتمان</td>\n",
       "      <td>۱٬۴۲۰٬۰۰۰٬۰۰۰ تومان</td>\n",
       "      <td>&lt;p class=\"kt-description-row__text kt-descript...</td>\n",
       "      <td>tehran</td>\n",
       "    </tr>\n",
       "  </tbody>\n",
       "</table>\n",
       "</div>"
      ],
      "text/plain": [
       "  Area Construction Room Warehouse Parking Elevator  \\\n",
       "0   63         1375    1     False   False     True   \n",
       "1  180         1393    3      True    True     True   \n",
       "2   38         1380    1     False   False     True   \n",
       "3   88         1384    2      True    True     True   \n",
       "4   40         1393    1      True    True     True   \n",
       "\n",
       "                                             Address                 Price  \\\n",
       "0  دقایقی پیش در تهران، شمشیری، خیابان شمشیری (ب....   ۱٬۶۰۰٬۰۰۰٬۰۰۰ تومان   \n",
       "1          دقایقی پیش در تهران، شیان | فروش آپارتمان  ۱۴٬۰۰۰٬۰۰۰٬۰۰۰ تومان   \n",
       "2          دقایقی پیش در تهران، پلیس | فروش آپارتمان   ۱٬۳۸۰٬۰۰۰٬۰۰۰ تومان   \n",
       "3      دقایقی پیش در تهران، تهران‌نو | فروش آپارتمان   ۳٬۵۰۰٬۰۰۰٬۰۰۰ تومان   \n",
       "4        دقایقی پیش در تهران، بریانک | فروش آپارتمان   ۱٬۴۲۰٬۰۰۰٬۰۰۰ تومان   \n",
       "\n",
       "                                         Description    city  \n",
       "0  <p class=\"kt-description-row__text kt-descript...  tehran  \n",
       "1  <p class=\"kt-description-row__text kt-descript...  tehran  \n",
       "2  <p class=\"kt-description-row__text kt-descript...  tehran  \n",
       "3  <p class=\"kt-description-row__text kt-descript...  tehran  \n",
       "4  <p class=\"kt-description-row__text kt-descript...  tehran  "
      ]
     },
     "execution_count": 256,
     "metadata": {},
     "output_type": "execute_result"
    }
   ],
   "source": [
    "posts.head()"
   ]
  },
  {
   "cell_type": "code",
   "execution_count": 257,
   "id": "de1c038f",
   "metadata": {},
   "outputs": [
    {
     "name": "stdout",
     "output_type": "stream",
     "text": [
      "<class 'pandas.core.frame.DataFrame'>\n",
      "RangeIndex: 2268 entries, 0 to 2267\n",
      "Data columns (total 10 columns):\n",
      " #   Column        Non-Null Count  Dtype \n",
      "---  ------        --------------  ----- \n",
      " 0   Area          2268 non-null   object\n",
      " 1   Construction  2268 non-null   object\n",
      " 2   Room          2268 non-null   object\n",
      " 3   Warehouse     2268 non-null   object\n",
      " 4   Parking       2268 non-null   object\n",
      " 5   Elevator      2268 non-null   object\n",
      " 6   Address       2268 non-null   object\n",
      " 7   Price         2268 non-null   object\n",
      " 8   Description   2268 non-null   object\n",
      " 9   city          2268 non-null   object\n",
      "dtypes: object(10)\n",
      "memory usage: 177.3+ KB\n"
     ]
    }
   ],
   "source": [
    "posts.info()"
   ]
  },
  {
   "cell_type": "code",
   "execution_count": 264,
   "id": "ff21256e",
   "metadata": {
    "scrolled": false
   },
   "outputs": [
    {
     "name": "stdout",
     "output_type": "stream",
     "text": [
      "<p class=\"kt-description-row__text kt-description-row__text--primary\">⚜⚜مشاورین املاک خانه نو⚜⚜\n",
      "✅کارشناس :آقای سلطانی \n",
      "____________________________________________\n",
      "✅۱۹۵ متر\n",
      "✅۳ خواب (یکیش‌مستر)\n",
      "✅طبقه ۲\n",
      "✅تک واحدی \n",
      "✅فوق العاده شیک و لوکس\n",
      "✅شخصی ساز با بهترین متریال روز \n",
      "✅نقشه و ساخت در خور تحسین \n",
      "✅روف گاردن (بام سبز ) همراه با آلاچیق وباربیکو \n",
      "✅سیستم تهویه چیلر مرکزی ، کف سرامیک اسلب\n",
      "✅آسانسور ۸ نفره / لابی ورودی مجلل و شیک \n",
      "✅دارای ۳ عدد تراس و ۲ عدد پارکینگ \n",
      "✅نمونه ای کم نظیر در منطقه \n",
      "\n",
      "✅فروشنده واقعی \n",
      "✅فروش فوری و نقدی !!\n",
      "\n",
      "⭐بازدید این ملک را از دست ندهید \n",
      "\n",
      "✅موارد مشابه موجود میباشد. \n",
      "____________________________________________\n",
      "❌لطفا مشاور املاک تماس نگیرد❌</p>\n",
      "####################################################################################################\n",
      "<p class=\"kt-description-row__text kt-description-row__text--primary\">✅آپارتمان ۱۱۷ متری ۲ خواب\n",
      "✅فول امکانات (آسانسور،پارکینگ،انباری)\n",
      "✅لوکیشن خوب \n",
      "✅دسترسی عالی \n",
      "✅متریال عالی\n",
      "✅خوش نقشه \n",
      "✅مهندسی ساز\n",
      "✅سالنی پرده خور با پنجره های قدی\n",
      "✅نورگیر عالی\n",
      "………………………………………………………\n",
      "-عکس های واحد موجود میباشد.\n",
      "-جهت کسب اطلاعات بیشتر تماس حاصل فرمایید.\n",
      "-پاسخگوی تماس شما در کلیه ساعات شبانه روز.\n",
      "-آپارتمان های زیر قیمت منطقه و متناسب با بودجه شما موجود میباشد.\n",
      "-با یک تماس به خواسته خود برسید.\n",
      "\n",
      "مشاور شما : کیا\n",
      "⚜️⚜️⚜️املاک بزرگ آنتیک⚜️⚜️⚜️</p>\n",
      "####################################################################################################\n",
      "<p class=\"kt-description-row__text kt-description-row__text--primary\">سند آزاد..پارکینگ محوطه..آسانسور ندارد..واحد از لحاظ موقعیت مکانی بهترین جا ومجتمع میباشد قیمت کف زدم مناسب چون فروشنده هستم ومناسب برای سرمایه گذاری هست ...مبلغ ۸۰ میلیون رهن مستاجر داخلشه که از مبلغ کم میشه..طبقه ۲...خ زهره ۸ مجتمع فردیس...</p>\n",
      "####################################################################################################\n",
      "<p class=\"kt-description-row__text kt-description-row__text--primary\">⭐⭐⭐ خانه ای فول امکانات و استثنایی ⭐⭐⭐\n",
      "✅ ۱۰۹متر \n",
      "✅طبقه چهارم\n",
      "✅جنوبی شرقی\n",
      "✅ ۲خواب ( دارای پنجره و کمد دیواری)\n",
      "✅ تعداد طبقات:کلا ۵طبقه و هرطبقه ۶واحدبا فاصله زیاد\n",
      "✅ سند:تک برگ\n",
      "✅کابینت با ظرفیت بسیار بالا\n",
      "✅ پارکینگ:مسقف دارد و بدون مزاحم\n",
      "✅ انباری: دارد\n",
      "✅ سالن یک تیکه مربع \n",
      "✅سال ساخت:۸۶\n",
      "✅ کف:پارکت\n",
      "✅سقف کناف و نورپردازی بسیار زیبا\n",
      "✅ دارای تراس بسیار بزرگ\n",
      "✅ سیستم زد حریق ساختمان و واحدها\n",
      "✅ محله ای بسیار آرام و نوساز\n",
      "⭐⭐⭐⭐⭐⭐⭐⭐⭐⭐⭐⭐⭐⭐\n",
      "✅ بسیارخوش نقشه و بدون پرتی\n",
      "✅قابلیت رهن تا ۲۵۰میلیون\n",
      "⭐⭐⭐⭐⭐⭐⭐⭐⭐⭐⭐⭐⭐⭐\n",
      "✅تخفیف در زمان عقد قرار داد\n",
      "\n",
      "آدرس دفتر:خیابان اشراق شمالی،حدفاصل چهارراه فلاطوری و چهارراه ابوریحان،املاک لوتوس\n",
      "\n",
      "کارشناس شما\n",
      "مهندس محمودزاده</p>\n",
      "####################################################################################################\n",
      "<p class=\"kt-description-row__text kt-description-row__text--primary\">## فروش فوری....فروش فوری##\n",
      "بینظیر ترین واحد منطقه\n",
      "استثنایی ترین و زیر قیمت ترین واحد منطقه\n",
      "فوق العاده زیبا و به قیمت\n",
      "بازدید= خرید\n",
      "امین شما\n",
      "آریا</p>\n",
      "####################################################################################################\n"
     ]
    }
   ],
   "source": [
    "for desc in random.sample(list(posts.Description.values), 5):\n",
    "    print(desc)\n",
    "    print('#'*100)"
   ]
  },
  {
   "cell_type": "markdown",
   "id": "43ea138b",
   "metadata": {},
   "source": [
    "### Clean Address feature"
   ]
  },
  {
   "cell_type": "code",
   "execution_count": 265,
   "id": "4fbfeab5",
   "metadata": {
    "scrolled": false
   },
   "outputs": [
    {
     "data": {
      "text/plain": [
       "'دقایقی پیش در تهران، شمشیری، خیابان شمشیری (ب. ایت الله سعیدی) | فروش آپارتمان'"
      ]
     },
     "execution_count": 265,
     "metadata": {},
     "output_type": "execute_result"
    }
   ],
   "source": [
    "posts.Address[0]"
   ]
  },
  {
   "cell_type": "code",
   "execution_count": 266,
   "id": "bbd7d22e",
   "metadata": {},
   "outputs": [],
   "source": [
    "class extractAddressTransformer(BaseEstimator, TransformerMixin):\n",
    "    def fit(self, X, y=None):\n",
    "        return self\n",
    "    def transform(self, X):\n",
    "        X.Address = X.Address.apply(\n",
    "            lambda adress: '،'.join(adress.split('|')[0].split('،')[1:])\n",
    "        )\n",
    "        return X"
   ]
  },
  {
   "cell_type": "code",
   "execution_count": 267,
   "id": "4d60c0ed",
   "metadata": {},
   "outputs": [],
   "source": [
    "t = extractAddressTransformer()"
   ]
  },
  {
   "cell_type": "code",
   "execution_count": 268,
   "id": "d11f6b48",
   "metadata": {},
   "outputs": [],
   "source": [
    "posts = t.fit_transform(posts)"
   ]
  },
  {
   "cell_type": "code",
   "execution_count": 269,
   "id": "eb9912eb",
   "metadata": {},
   "outputs": [
    {
     "data": {
      "text/plain": [
       "' شمشیری، خیابان شمشیری (ب. ایت الله سعیدی) '"
      ]
     },
     "execution_count": 269,
     "metadata": {},
     "output_type": "execute_result"
    }
   ],
   "source": [
    "posts.Address[0]"
   ]
  },
  {
   "cell_type": "markdown",
   "id": "6fda36e2",
   "metadata": {},
   "source": [
    "### Clean Description feature"
   ]
  },
  {
   "cell_type": "code",
   "execution_count": 270,
   "id": "32e17378",
   "metadata": {},
   "outputs": [
    {
     "data": {
      "text/plain": [
       "'<p class=\"kt-description-row__text kt-description-row__text--primary\">برج باغ با موقعیت دنج و آرام/ چشم انداز پارک جنگلی و قله دماوند/ 3خواب، یک مستر/ لابی بزرگ/ سرایدار مقیم/ بالکن مفید/ ژنراتور برق/ چیلر مرکزی/ اطفای حریق/دوربین مداربسته/ بدون دیوار مشترک/ نورگیر از شمال، شرق و غرب واحد/ حیاط بزرگ و مشجر با آبنما، آلاچیق و چاه آب/ روف گاردن/ پیاده تا پارک جنگلی ده دقیقه.\\nلطفا املاک تماس نگیرند.</p>'"
      ]
     },
     "execution_count": 270,
     "metadata": {},
     "output_type": "execute_result"
    }
   ],
   "source": [
    "posts.Description[1]"
   ]
  },
  {
   "cell_type": "code",
   "execution_count": 271,
   "id": "ecf1a807",
   "metadata": {},
   "outputs": [],
   "source": [
    "class removeTagTransformer(BaseEstimator, TransformerMixin):\n",
    "    def fit(self, X, y=None):\n",
    "        self.cleanre = re.compile('<.*?>') \n",
    "        return self\n",
    "    def transform(self, X):\n",
    "        X.Description = X.Description.apply(\n",
    "            lambda desc: re.sub(self.cleanre, '', desc)\n",
    "        )\n",
    "        return X"
   ]
  },
  {
   "cell_type": "code",
   "execution_count": 272,
   "id": "2ba1e717",
   "metadata": {
    "scrolled": true
   },
   "outputs": [],
   "source": [
    "t = removeTagTransformer()\n",
    "posts = t.fit_transform(posts)"
   ]
  },
  {
   "cell_type": "code",
   "execution_count": 273,
   "id": "1196563c",
   "metadata": {},
   "outputs": [
    {
     "data": {
      "text/plain": [
       "'برج باغ با موقعیت دنج و آرام/ چشم انداز پارک جنگلی و قله دماوند/ 3خواب، یک مستر/ لابی بزرگ/ سرایدار مقیم/ بالکن مفید/ ژنراتور برق/ چیلر مرکزی/ اطفای حریق/دوربین مداربسته/ بدون دیوار مشترک/ نورگیر از شمال، شرق و غرب واحد/ حیاط بزرگ و مشجر با آبنما، آلاچیق و چاه آب/ روف گاردن/ پیاده تا پارک جنگلی ده دقیقه.\\nلطفا املاک تماس نگیرند.'"
      ]
     },
     "execution_count": 273,
     "metadata": {},
     "output_type": "execute_result"
    }
   ],
   "source": [
    "posts.Description[1]"
   ]
  },
  {
   "cell_type": "markdown",
   "id": "85f1fad9",
   "metadata": {},
   "source": [
    "# Preprocess"
   ]
  },
  {
   "cell_type": "markdown",
   "id": "94d31c12",
   "metadata": {},
   "source": [
    "### Remove imojies"
   ]
  },
  {
   "cell_type": "code",
   "execution_count": 231,
   "id": "7b8a31df",
   "metadata": {},
   "outputs": [],
   "source": [
    "class DescriptionTransformer(BaseEstimator, TransformerMixin):\n",
    "    def __init__(self, column_name):\n",
    "        self.column_name = column_name\n",
    "    \n",
    "    def fit(self, X, y=None):\n",
    "        return self\n",
    "    \n",
    "    def transform(self, X):\n",
    "        X[self.column_name] = X[self.column_name].apply(\n",
    "            lambda text: emoji.get_emoji_regexp().sub(r'', text)\n",
    "        )\n",
    "        return X"
   ]
  },
  {
   "cell_type": "code",
   "execution_count": null,
   "id": "7f8f9681",
   "metadata": {},
   "outputs": [],
   "source": []
  },
  {
   "cell_type": "markdown",
   "id": "8caf96ae",
   "metadata": {},
   "source": [
    "### Description Transformer"
   ]
  },
  {
   "cell_type": "code",
   "execution_count": 154,
   "id": "3718054a",
   "metadata": {},
   "outputs": [],
   "source": [
    "def hasNumbers(inputString):\n",
    "    return any(char.isdigit() for char in inputString)\n",
    "\n",
    "def isEnglish(s):\n",
    "    return s.lower().islower()"
   ]
  },
  {
   "cell_type": "code",
   "execution_count": 171,
   "id": "a6da4b56",
   "metadata": {},
   "outputs": [],
   "source": [
    "class DescriptionTransformer(BaseEstimator, TransformerMixin):\n",
    "    def __init__(self, column_name):\n",
    "        self.column_name = column_name\n",
    "    \n",
    "    def fit(self, X, y=None):\n",
    "        stop_words_file = open(\"stopwords.txt\", \"r\")\n",
    "        content = stop_words_file.read()\n",
    "        self.stopwords = content.split(\"\\n\")\n",
    "        \n",
    "        self.normalizer = Normalizer()\n",
    "        self.lemmatizer = Lemmatizer()\n",
    "        \n",
    "        self.tokenizer = WordTokenizer(join_verb_parts=False, replace_links=True, replace_numbers=True)\n",
    "        return self\n",
    "    \n",
    "    def transform(self, X):\n",
    "        cleaned = []\n",
    "        \n",
    "        for text in X[self.column_name]:\n",
    "            # tokenize - replace link-number\n",
    "            words = self.tokenizer.tokenize(' '.join(self.tokenizer.tokenize(text)))\n",
    "            # replace ي with ی and remove arabic symbols\n",
    "            words = [self.normalizer.character_refinement(word) for word in words]\n",
    "\n",
    "            words = [word for word in words if not isEnglish(word)]\n",
    "#             words = [word for word in words if not hasNumbers(word)]\n",
    "\n",
    "            text = ' '.join([self.lemmatizer.lemmatize(word) for word in words])\n",
    "            cleaned.append(text)\n",
    "        \n",
    "        X[self.column_name] = cleaned\n",
    "        return X"
   ]
  },
  {
   "cell_type": "code",
   "execution_count": 156,
   "id": "ad1957fd",
   "metadata": {},
   "outputs": [],
   "source": [
    "desc_transformer = DescriptionTransformer(column_name='Description')"
   ]
  },
  {
   "cell_type": "code",
   "execution_count": 157,
   "id": "31db10c8",
   "metadata": {},
   "outputs": [],
   "source": [
    "posts = desc_transformer.fit_transform(posts)"
   ]
  },
  {
   "cell_type": "code",
   "execution_count": 158,
   "id": "97be9150",
   "metadata": {
    "collapsed": true
   },
   "outputs": [
    {
     "data": {
      "text/html": [
       "<div>\n",
       "<style scoped>\n",
       "    .dataframe tbody tr th:only-of-type {\n",
       "        vertical-align: middle;\n",
       "    }\n",
       "\n",
       "    .dataframe tbody tr th {\n",
       "        vertical-align: top;\n",
       "    }\n",
       "\n",
       "    .dataframe thead th {\n",
       "        text-align: right;\n",
       "    }\n",
       "</style>\n",
       "<table border=\"1\" class=\"dataframe\">\n",
       "  <thead>\n",
       "    <tr style=\"text-align: right;\">\n",
       "      <th></th>\n",
       "      <th>Area</th>\n",
       "      <th>Construction</th>\n",
       "      <th>Room</th>\n",
       "      <th>Warehouse</th>\n",
       "      <th>Parking</th>\n",
       "      <th>Elevator</th>\n",
       "      <th>Address</th>\n",
       "      <th>Price</th>\n",
       "      <th>Description</th>\n",
       "    </tr>\n",
       "  </thead>\n",
       "  <tbody>\n",
       "    <tr>\n",
       "      <th>0</th>\n",
       "      <td>63</td>\n",
       "      <td>1375</td>\n",
       "      <td>1</td>\n",
       "      <td>False</td>\n",
       "      <td>False</td>\n",
       "      <td>True</td>\n",
       "      <td>شمشیری، خیابان شمشیری (ب. ایت الله سعیدی)</td>\n",
       "      <td>۱٬۶۰۰٬۰۰۰٬۰۰۰ تومان</td>\n",
       "      <td>دونبش تک واحد سه غرق نور دسترس لوکیشن عالی باز...</td>\n",
       "    </tr>\n",
       "    <tr>\n",
       "      <th>1</th>\n",
       "      <td>180</td>\n",
       "      <td>1393</td>\n",
       "      <td>3</td>\n",
       "      <td>True</td>\n",
       "      <td>True</td>\n",
       "      <td>True</td>\n",
       "      <td>شیان</td>\n",
       "      <td>۱۴٬۰۰۰٬۰۰۰٬۰۰۰ تومان</td>\n",
       "      <td>برج باغ موقعیت دنج آرام/ چشم انداز پارک جنگل ق...</td>\n",
       "    </tr>\n",
       "    <tr>\n",
       "      <th>2</th>\n",
       "      <td>38</td>\n",
       "      <td>1380</td>\n",
       "      <td>1</td>\n",
       "      <td>False</td>\n",
       "      <td>False</td>\n",
       "      <td>True</td>\n",
       "      <td>پلیس</td>\n",
       "      <td>۱٬۳۸۰٬۰۰۰٬۰۰۰ تومان</td>\n",
       "      <td>اپارتمان متری پلیس-کلیم کاشان تکواحدی طبقه انب...</td>\n",
       "    </tr>\n",
       "    <tr>\n",
       "      <th>3</th>\n",
       "      <td>88</td>\n",
       "      <td>1384</td>\n",
       "      <td>2</td>\n",
       "      <td>True</td>\n",
       "      <td>True</td>\n",
       "      <td>True</td>\n",
       "      <td>تهران‌نو</td>\n",
       "      <td>۳٬۵۰۰٬۰۰۰٬۰۰۰ تومان</td>\n",
       "      <td>مشاورین املاک یونس آدرس املاک فلکه چایچی سفیدک...</td>\n",
       "    </tr>\n",
       "    <tr>\n",
       "      <th>4</th>\n",
       "      <td>40</td>\n",
       "      <td>1393</td>\n",
       "      <td>1</td>\n",
       "      <td>True</td>\n",
       "      <td>True</td>\n",
       "      <td>True</td>\n",
       "      <td>بریانک</td>\n",
       "      <td>۱٬۴۲۰٬۰۰۰٬۰۰۰ تومان</td>\n",
       "      <td>هوالرزاق بربانک ابراهیم حسینی متر تک خواب طبقه...</td>\n",
       "    </tr>\n",
       "    <tr>\n",
       "      <th>...</th>\n",
       "      <td>...</td>\n",
       "      <td>...</td>\n",
       "      <td>...</td>\n",
       "      <td>...</td>\n",
       "      <td>...</td>\n",
       "      <td>...</td>\n",
       "      <td>...</td>\n",
       "      <td>...</td>\n",
       "      <td>...</td>\n",
       "    </tr>\n",
       "    <tr>\n",
       "      <th>1354</th>\n",
       "      <td>87</td>\n",
       "      <td>1396</td>\n",
       "      <td>2</td>\n",
       "      <td>True</td>\n",
       "      <td>True</td>\n",
       "      <td>True</td>\n",
       "      <td>بهارستان</td>\n",
       "      <td>۱٬۰۸۰٬۰۰۰٬۰۰۰ تومان</td>\n",
       "      <td>سلام اپارتمان متری خوابه مسکن مهر جنوبی پرنور ...</td>\n",
       "    </tr>\n",
       "    <tr>\n",
       "      <th>1355</th>\n",
       "      <td>130</td>\n",
       "      <td>1401</td>\n",
       "      <td>3</td>\n",
       "      <td>True</td>\n",
       "      <td>True</td>\n",
       "      <td>True</td>\n",
       "      <td>آفاران</td>\n",
       "      <td>۲٬۸۰۰٬۰۰۰٬۰۰۰ تومان</td>\n",
       "      <td>املاک آسمان آب مشاور عزیز انواع ملک تماس عزیز ...</td>\n",
       "    </tr>\n",
       "    <tr>\n",
       "      <th>1356</th>\n",
       "      <td>122</td>\n",
       "      <td>1393</td>\n",
       "      <td>2</td>\n",
       "      <td>True</td>\n",
       "      <td>True</td>\n",
       "      <td>True</td>\n",
       "      <td>اشراق</td>\n",
       "      <td>۲٬۷۰۰٬۰۰۰٬۰۰۰ تومان</td>\n",
       "      <td>آپارتمان واحد نور عالی ۵طبقه واحد-متراژ متر-طب...</td>\n",
       "    </tr>\n",
       "    <tr>\n",
       "      <th>1357</th>\n",
       "      <td>105</td>\n",
       "      <td>1389</td>\n",
       "      <td>2</td>\n",
       "      <td>True</td>\n",
       "      <td>True</td>\n",
       "      <td>True</td>\n",
       "      <td>خانه اصفهان</td>\n",
       "      <td>۲٬۷۰۰٬۰۰۰٬۰۰۰ تومان</td>\n",
       "      <td>واقع لوکیشن خانه اصفهان دسترس عالی جنوبی فول ا...</td>\n",
       "    </tr>\n",
       "    <tr>\n",
       "      <th>1358</th>\n",
       "      <td>145</td>\n",
       "      <td>1401</td>\n",
       "      <td>3</td>\n",
       "      <td>True</td>\n",
       "      <td>True</td>\n",
       "      <td>True</td>\n",
       "      <td>اشراق</td>\n",
       "      <td>۴٬۹۰۰٬۰۰۰٬۰۰۰ تومان</td>\n",
       "      <td>هدف فروش آپارتمان توجه !!!!!! توجه !!!! توجه !...</td>\n",
       "    </tr>\n",
       "  </tbody>\n",
       "</table>\n",
       "<p>1359 rows × 9 columns</p>\n",
       "</div>"
      ],
      "text/plain": [
       "      Area  Construction  Room  Warehouse  Parking  Elevator  \\\n",
       "0       63          1375     1      False    False      True   \n",
       "1      180          1393     3       True     True      True   \n",
       "2       38          1380     1      False    False      True   \n",
       "3       88          1384     2       True     True      True   \n",
       "4       40          1393     1       True     True      True   \n",
       "...    ...           ...   ...        ...      ...       ...   \n",
       "1354    87          1396     2       True     True      True   \n",
       "1355   130          1401     3       True     True      True   \n",
       "1356   122          1393     2       True     True      True   \n",
       "1357   105          1389     2       True     True      True   \n",
       "1358   145          1401     3       True     True      True   \n",
       "\n",
       "                                          Address                 Price  \\\n",
       "0      شمشیری، خیابان شمشیری (ب. ایت الله سعیدی)    ۱٬۶۰۰٬۰۰۰٬۰۰۰ تومان   \n",
       "1                                           شیان   ۱۴٬۰۰۰٬۰۰۰٬۰۰۰ تومان   \n",
       "2                                           پلیس    ۱٬۳۸۰٬۰۰۰٬۰۰۰ تومان   \n",
       "3                                       تهران‌نو    ۳٬۵۰۰٬۰۰۰٬۰۰۰ تومان   \n",
       "4                                         بریانک    ۱٬۴۲۰٬۰۰۰٬۰۰۰ تومان   \n",
       "...                                           ...                   ...   \n",
       "1354                                    بهارستان    ۱٬۰۸۰٬۰۰۰٬۰۰۰ تومان   \n",
       "1355                                      آفاران    ۲٬۸۰۰٬۰۰۰٬۰۰۰ تومان   \n",
       "1356                                       اشراق    ۲٬۷۰۰٬۰۰۰٬۰۰۰ تومان   \n",
       "1357                                 خانه اصفهان    ۲٬۷۰۰٬۰۰۰٬۰۰۰ تومان   \n",
       "1358                                       اشراق    ۴٬۹۰۰٬۰۰۰٬۰۰۰ تومان   \n",
       "\n",
       "                                            Description  \n",
       "0     دونبش تک واحد سه غرق نور دسترس لوکیشن عالی باز...  \n",
       "1     برج باغ موقعیت دنج آرام/ چشم انداز پارک جنگل ق...  \n",
       "2     اپارتمان متری پلیس-کلیم کاشان تکواحدی طبقه انب...  \n",
       "3     مشاورین املاک یونس آدرس املاک فلکه چایچی سفیدک...  \n",
       "4     هوالرزاق بربانک ابراهیم حسینی متر تک خواب طبقه...  \n",
       "...                                                 ...  \n",
       "1354  سلام اپارتمان متری خوابه مسکن مهر جنوبی پرنور ...  \n",
       "1355  املاک آسمان آب مشاور عزیز انواع ملک تماس عزیز ...  \n",
       "1356  آپارتمان واحد نور عالی ۵طبقه واحد-متراژ متر-طب...  \n",
       "1357  واقع لوکیشن خانه اصفهان دسترس عالی جنوبی فول ا...  \n",
       "1358  هدف فروش آپارتمان توجه !!!!!! توجه !!!! توجه !...  \n",
       "\n",
       "[1359 rows x 9 columns]"
      ]
     },
     "execution_count": 158,
     "metadata": {},
     "output_type": "execute_result"
    }
   ],
   "source": [
    "posts"
   ]
  },
  {
   "cell_type": "markdown",
   "id": "5a8de5bc",
   "metadata": {},
   "source": [
    "# Remove stopwords transformer"
   ]
  },
  {
   "cell_type": "code",
   "execution_count": 169,
   "id": "1a6417fc",
   "metadata": {},
   "outputs": [],
   "source": [
    "class RemoveStopwordsTransformer(BaseEstimator, TransformerMixin):\n",
    "    def __init__(self, column_name):\n",
    "        self.column_name = column_name\n",
    "    \n",
    "    def fit(self, X, y=None):\n",
    "        stop_words_file = open(\"stopwords.txt\", \"r\")\n",
    "        content = stop_words_file.read()\n",
    "        self.stopwords = content.split(\"\\n\")\n",
    "        \n",
    "        self.tokenizer = WordTokenizer(join_verb_parts=False, replace_links=True, replace_numbers=True)\n",
    "        return self\n",
    "    \n",
    "    def transform(self, X):\n",
    "        cleaned = []\n",
    "        \n",
    "        for text in X[self.column_name]:\n",
    "            words = self.tokenizer.tokenize(' '.join(self.tokenizer.tokenize(text)))\n",
    "            words = [word for word in words if word not in self.stopwords]\n",
    "\n",
    "            text = ' '.join(words)\n",
    "            cleaned.append(text)\n",
    "        \n",
    "        X[self.column_name] = cleaned\n",
    "        return X"
   ]
  },
  {
   "cell_type": "code",
   "execution_count": null,
   "id": "4c55338d",
   "metadata": {},
   "outputs": [],
   "source": []
  },
  {
   "cell_type": "markdown",
   "id": "d2486fa9",
   "metadata": {},
   "source": [
    "# Notebook body"
   ]
  },
  {
   "cell_type": "code",
   "execution_count": 274,
   "id": "ddb1d885",
   "metadata": {
    "scrolled": true
   },
   "outputs": [
    {
     "name": "stderr",
     "output_type": "stream",
     "text": [
      "100%|██████████| 2268/2268 [00:00<00:00, 8042.38it/s]\n"
     ]
    }
   ],
   "source": [
    "normalizer = Normalizer()\n",
    "posts.Description = [normalizer.normalize(desc) for desc in tqdm.tqdm(posts.Description)]"
   ]
  },
  {
   "cell_type": "code",
   "execution_count": 275,
   "id": "b57b5010",
   "metadata": {},
   "outputs": [
    {
     "data": {
      "text/html": [
       "<div>\n",
       "<style scoped>\n",
       "    .dataframe tbody tr th:only-of-type {\n",
       "        vertical-align: middle;\n",
       "    }\n",
       "\n",
       "    .dataframe tbody tr th {\n",
       "        vertical-align: top;\n",
       "    }\n",
       "\n",
       "    .dataframe thead th {\n",
       "        text-align: right;\n",
       "    }\n",
       "</style>\n",
       "<table border=\"1\" class=\"dataframe\">\n",
       "  <thead>\n",
       "    <tr style=\"text-align: right;\">\n",
       "      <th></th>\n",
       "      <th>Area</th>\n",
       "      <th>Construction</th>\n",
       "      <th>Room</th>\n",
       "      <th>Warehouse</th>\n",
       "      <th>Parking</th>\n",
       "      <th>Elevator</th>\n",
       "      <th>Address</th>\n",
       "      <th>Price</th>\n",
       "      <th>Description</th>\n",
       "      <th>city</th>\n",
       "    </tr>\n",
       "  </thead>\n",
       "  <tbody>\n",
       "    <tr>\n",
       "      <th>0</th>\n",
       "      <td>63</td>\n",
       "      <td>1375</td>\n",
       "      <td>1</td>\n",
       "      <td>False</td>\n",
       "      <td>False</td>\n",
       "      <td>True</td>\n",
       "      <td>شمشیری، خیابان شمشیری (ب. ایت الله سعیدی)</td>\n",
       "      <td>۱٬۶۰۰٬۰۰۰٬۰۰۰ تومان</td>\n",
       "      <td>✴️دونبش\\n✴️ تک واحدی \\n✴️ از سه جهت غرق در نور...</td>\n",
       "      <td>tehran</td>\n",
       "    </tr>\n",
       "    <tr>\n",
       "      <th>1</th>\n",
       "      <td>180</td>\n",
       "      <td>1393</td>\n",
       "      <td>3</td>\n",
       "      <td>True</td>\n",
       "      <td>True</td>\n",
       "      <td>True</td>\n",
       "      <td>شیان</td>\n",
       "      <td>۱۴٬۰۰۰٬۰۰۰٬۰۰۰ تومان</td>\n",
       "      <td>برج باغ با موقعیت دنج و آرام/ چشم انداز پارک ج...</td>\n",
       "      <td>tehran</td>\n",
       "    </tr>\n",
       "    <tr>\n",
       "      <th>2</th>\n",
       "      <td>38</td>\n",
       "      <td>1380</td>\n",
       "      <td>1</td>\n",
       "      <td>False</td>\n",
       "      <td>False</td>\n",
       "      <td>True</td>\n",
       "      <td>پلیس</td>\n",
       "      <td>۱٬۳۸۰٬۰۰۰٬۰۰۰ تومان</td>\n",
       "      <td>اپارتمان ۳۸ متری پلیس-کلیم کاشانی \\nتکواحدی \\n...</td>\n",
       "      <td>tehran</td>\n",
       "    </tr>\n",
       "    <tr>\n",
       "      <th>3</th>\n",
       "      <td>88</td>\n",
       "      <td>1384</td>\n",
       "      <td>2</td>\n",
       "      <td>True</td>\n",
       "      <td>True</td>\n",
       "      <td>True</td>\n",
       "      <td>تهران‌نو</td>\n",
       "      <td>۳٬۵۰۰٬۰۰۰٬۰۰۰ تومان</td>\n",
       "      <td>مشاورین املاک یونسی\\nآدرس املاک: فلکه چایچی خ ...</td>\n",
       "      <td>tehran</td>\n",
       "    </tr>\n",
       "    <tr>\n",
       "      <th>4</th>\n",
       "      <td>40</td>\n",
       "      <td>1393</td>\n",
       "      <td>1</td>\n",
       "      <td>True</td>\n",
       "      <td>True</td>\n",
       "      <td>True</td>\n",
       "      <td>بریانک</td>\n",
       "      <td>۱٬۴۲۰٬۰۰۰٬۰۰۰ تومان</td>\n",
       "      <td>هوالرزاق\\n\\nبربانک\\nابراهیم حسینی\\n\\n۴۰ متر\\nت...</td>\n",
       "      <td>tehran</td>\n",
       "    </tr>\n",
       "  </tbody>\n",
       "</table>\n",
       "</div>"
      ],
      "text/plain": [
       "  Area Construction Room Warehouse Parking Elevator  \\\n",
       "0   63         1375    1     False   False     True   \n",
       "1  180         1393    3      True    True     True   \n",
       "2   38         1380    1     False   False     True   \n",
       "3   88         1384    2      True    True     True   \n",
       "4   40         1393    1      True    True     True   \n",
       "\n",
       "                                       Address                 Price  \\\n",
       "0   شمشیری، خیابان شمشیری (ب. ایت الله سعیدی)    ۱٬۶۰۰٬۰۰۰٬۰۰۰ تومان   \n",
       "1                                        شیان   ۱۴٬۰۰۰٬۰۰۰٬۰۰۰ تومان   \n",
       "2                                        پلیس    ۱٬۳۸۰٬۰۰۰٬۰۰۰ تومان   \n",
       "3                                    تهران‌نو    ۳٬۵۰۰٬۰۰۰٬۰۰۰ تومان   \n",
       "4                                      بریانک    ۱٬۴۲۰٬۰۰۰٬۰۰۰ تومان   \n",
       "\n",
       "                                         Description    city  \n",
       "0  ✴️دونبش\\n✴️ تک واحدی \\n✴️ از سه جهت غرق در نور...  tehran  \n",
       "1  برج باغ با موقعیت دنج و آرام/ چشم انداز پارک ج...  tehran  \n",
       "2  اپارتمان ۳۸ متری پلیس-کلیم کاشانی \\nتکواحدی \\n...  tehran  \n",
       "3  مشاورین املاک یونسی\\nآدرس املاک: فلکه چایچی خ ...  tehran  \n",
       "4  هوالرزاق\\n\\nبربانک\\nابراهیم حسینی\\n\\n۴۰ متر\\nت...  tehran  "
      ]
     },
     "execution_count": 275,
     "metadata": {},
     "output_type": "execute_result"
    }
   ],
   "source": [
    "posts.head()"
   ]
  },
  {
   "cell_type": "markdown",
   "id": "709d52ca",
   "metadata": {},
   "source": [
    "### Number of words per description"
   ]
  },
  {
   "cell_type": "code",
   "execution_count": 276,
   "id": "8be0d402",
   "metadata": {},
   "outputs": [],
   "source": [
    "tokenizer = WordTokenizer(join_verb_parts=False, replace_links=True, replace_numbers=True)"
   ]
  },
  {
   "cell_type": "code",
   "execution_count": 277,
   "id": "d4f886bc",
   "metadata": {},
   "outputs": [],
   "source": [
    "# calculate number of words per description\n",
    "posts['n_words'] = posts.Description.apply(\n",
    "    lambda desc: len(tokenizer.tokenize(desc))\n",
    ")"
   ]
  },
  {
   "cell_type": "code",
   "execution_count": 278,
   "id": "8a651f7c",
   "metadata": {},
   "outputs": [],
   "source": [
    "n_words_per_city = posts.groupby(['city'])['n_words'].mean()"
   ]
  },
  {
   "cell_type": "code",
   "execution_count": 279,
   "id": "6cb6969b",
   "metadata": {},
   "outputs": [
    {
     "data": {
      "text/plain": [
       "<AxesSubplot:title={'center':'Arrests'}, xlabel='Home Team', ylabel='Mean Arrests'>"
      ]
     },
     "execution_count": 279,
     "metadata": {},
     "output_type": "execute_result"
    },
    {
     "data": {
      "image/png": "[encoded data removed]",
      "text/plain": [
       "<Figure size 432x360 with 1 Axes>"
      ]
     },
     "metadata": {
      "needs_background": "light"
     },
     "output_type": "display_data"
    }
   ],
   "source": [
    "n_words_per_city.plot(kind='bar', title='Arrests', ylabel='Mean Arrests',\n",
    "                      xlabel='Home Team', figsize=(6, 5))"
   ]
  },
  {
   "cell_type": "markdown",
   "id": "d33ad9a8",
   "metadata": {},
   "source": [
    "### Number of  per description"
   ]
  },
  {
   "cell_type": "code",
   "execution_count": 280,
   "id": "9f4631fd",
   "metadata": {},
   "outputs": [],
   "source": [
    "sentence_tokenizer = SentenceTokenizer()"
   ]
  },
  {
   "cell_type": "code",
   "execution_count": 287,
   "id": "c686d721",
   "metadata": {},
   "outputs": [],
   "source": [
    "# calculate number of words per description\n",
    "posts['n_sentences'] = posts.Description.apply(\n",
    "    lambda desc: len(sentence_tokenizer.tokenize(desc))\n",
    ")"
   ]
  },
  {
   "cell_type": "code",
   "execution_count": 288,
   "id": "a9a9b711",
   "metadata": {},
   "outputs": [],
   "source": [
    "n_sentences_per_city = posts.groupby(['city'])['n_sentences'].mean()"
   ]
  },
  {
   "cell_type": "code",
   "execution_count": 289,
   "id": "7775e766",
   "metadata": {},
   "outputs": [
    {
     "data": {
      "text/plain": [
       "<AxesSubplot:title={'center':'Arrests'}, xlabel='Home Team', ylabel='Mean Arrests'>"
      ]
     },
     "execution_count": 289,
     "metadata": {},
     "output_type": "execute_result"
    },
    {
     "data": {
      "image/png": "[encoded data removed]",
      "text/plain": [
       "<Figure size 432x360 with 1 Axes>"
      ]
     },
     "metadata": {
      "needs_background": "light"
     },
     "output_type": "display_data"
    }
   ],
   "source": [
    "n_sentences_per_city.plot(kind='bar', title='Arrests', ylabel='Mean Arrests',\n",
    "                          xlabel='Home Team', figsize=(6, 5))"
   ]
  },
  {
   "cell_type": "markdown",
   "id": "f05efec7",
   "metadata": {},
   "source": [
    "### Most common words"
   ]
  },
  {
   "cell_type": "code",
   "execution_count": null,
   "id": "a61ec136",
   "metadata": {},
   "outputs": [],
   "source": []
  },
  {
   "cell_type": "code",
   "execution_count": null,
   "id": "b7aae688",
   "metadata": {},
   "outputs": [],
   "source": []
  },
  {
   "cell_type": "code",
   "execution_count": null,
   "id": "52d39761",
   "metadata": {},
   "outputs": [],
   "source": []
  },
  {
   "cell_type": "code",
   "execution_count": null,
   "id": "5e566046",
   "metadata": {},
   "outputs": [],
   "source": []
  },
  {
   "cell_type": "code",
   "execution_count": null,
   "id": "ffd9f151",
   "metadata": {},
   "outputs": [],
   "source": []
  },
  {
   "cell_type": "code",
   "execution_count": null,
   "id": "277ea5bb",
   "metadata": {},
   "outputs": [],
   "source": []
  },
  {
   "cell_type": "code",
   "execution_count": null,
   "id": "8e9b09e4",
   "metadata": {},
   "outputs": [],
   "source": []
  },
  {
   "cell_type": "code",
   "execution_count": null,
   "id": "f0f081dc",
   "metadata": {},
   "outputs": [],
   "source": []
  }
 ],
 "metadata": {
  "kernelspec": {
   "display_name": "Python 3",
   "language": "python",
   "name": "python3"
  },
  "language_info": {
   "codemirror_mode": {
    "name": "ipython",
    "version": 3
   },
   "file_extension": ".py",
   "mimetype": "text/x-python",
   "name": "python",
   "nbconvert_exporter": "python",
   "pygments_lexer": "ipython3",
   "version": "3.8.8"
  }
 },
 "nbformat": 4,
 "nbformat_minor": 5
}
