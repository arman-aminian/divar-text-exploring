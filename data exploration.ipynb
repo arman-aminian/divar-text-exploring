{
 "cells": [
  {
   "cell_type": "markdown",
   "id": "468af32c",
   "metadata": {},
   "source": [
    "# Data Collection"
   ]
  },
  {
   "cell_type": "markdown",
   "id": "db5dc4a4",
   "metadata": {},
   "source": [
    "<div style=\"direction:rtl\"> \n",
    "    <font size=\"4\", color=\"red\">\n",
    "        به منظور جمع آوری دادگان مورد نیاز، یک crawler پیاده‌سازی شد(به کمک scrappy) که به کمک آن دادگان پست‌های مربوط به فروش املاک در سایت دیوار برای چند شهر متفاوت crawl شده اند. در ازای هر شهر تمامی آگهی های فروش املاک آن تا صفحه‌ی ۱۹ ام crawl شده‌اند. هر صحفه دیوار شامل ۲۴ آگهی می‌باشد.\n",
    "        اسکریپت‌های مربوط به crawler نوشته شده به همراه داده های جمع آوری شده در کنار این نوت‌بوک قابل دسترس هستند.\n",
    "    </font> \n",
    "</div>"
   ]
  },
  {
   "cell_type": "markdown",
   "id": "b6d3374f",
   "metadata": {},
   "source": [
    "# Install packages"
   ]
  },
  {
   "cell_type": "code",
   "execution_count": 234,
   "id": "021fae7f",
   "metadata": {
    "scrolled": true
   },
   "outputs": [
    {
     "name": "stdout",
     "output_type": "stream",
     "text": [
      "Collecting requests==2.28.1\n",
      "  Using cached requests-2.28.1-py3-none-any.whl (62 kB)\n",
      "Collecting Scrapy~=2.7.0\n",
      "  Using cached Scrapy-2.7.1-py2.py3-none-any.whl (271 kB)\n",
      "Collecting itemadapter~=0.7.0\n",
      "  Using cached itemadapter-0.7.0-py3-none-any.whl (10 kB)\n",
      "Requirement already satisfied: tqdm==4.59.0 in /Users/arman/opt/anaconda3/lib/python3.8/site-packages (from -r ./requirements.txt (line 6)) (4.59.0)\n",
      "Requirement already satisfied: nltk==3.3 in /Users/arman/opt/anaconda3/lib/python3.8/site-packages (from -r ./requirements.txt (line 7)) (3.3)\n",
      "Collecting sklearn\n",
      "  Using cached sklearn-0.0-py2.py3-none-any.whl\n",
      "Requirement already satisfied: hazm in /Users/arman/opt/anaconda3/lib/python3.8/site-packages (from -r ./requirements.txt (line 9)) (0.7.0)\n",
      "Requirement already satisfied: emoji==1.6.1 in /Users/arman/opt/anaconda3/lib/python3.8/site-packages (from -r ./requirements.txt (line 10)) (1.6.1)\n",
      "Requirement already satisfied: six in /Users/arman/opt/anaconda3/lib/python3.8/site-packages (from nltk==3.3->-r ./requirements.txt (line 7)) (1.15.0)\n",
      "Collecting charset-normalizer<3,>=2\n",
      "  Using cached charset_normalizer-2.1.1-py3-none-any.whl (39 kB)\n",
      "Requirement already satisfied: idna<4,>=2.5 in /Users/arman/opt/anaconda3/lib/python3.8/site-packages (from requests==2.28.1->-r ./requirements.txt (line 1)) (2.10)\n",
      "Requirement already satisfied: urllib3<1.27,>=1.21.1 in /Users/arman/opt/anaconda3/lib/python3.8/site-packages (from requests==2.28.1->-r ./requirements.txt (line 1)) (1.26.4)\n",
      "Requirement already satisfied: certifi>=2017.4.17 in /Users/arman/opt/anaconda3/lib/python3.8/site-packages (from requests==2.28.1->-r ./requirements.txt (line 1)) (2020.12.5)\n",
      "Requirement already satisfied: cryptography>=3.3 in /Users/arman/opt/anaconda3/lib/python3.8/site-packages (from Scrapy~=2.7.0->-r ./requirements.txt (line 3)) (3.4.7)\n",
      "Collecting itemloaders>=1.0.1\n",
      "  Using cached itemloaders-1.0.6-py3-none-any.whl (11 kB)\n",
      "Collecting w3lib>=1.17.0\n",
      "  Using cached w3lib-2.0.1-py3-none-any.whl (20 kB)\n",
      "Collecting pyOpenSSL>=21.0.0\n",
      "  Using cached pyOpenSSL-22.1.0-py3-none-any.whl (57 kB)\n",
      "Requirement already satisfied: setuptools in /Users/arman/opt/anaconda3/lib/python3.8/site-packages (from Scrapy~=2.7.0->-r ./requirements.txt (line 3)) (52.0.0.post20210125)\n",
      "Requirement already satisfied: lxml>=4.3.0 in /Users/arman/opt/anaconda3/lib/python3.8/site-packages (from Scrapy~=2.7.0->-r ./requirements.txt (line 3)) (4.6.3)\n",
      "Collecting cssselect>=0.9.1\n",
      "  Downloading cssselect-1.2.0-py2.py3-none-any.whl (18 kB)\n",
      "Collecting protego>=0.1.15\n",
      "  Using cached Protego-0.2.1-py2.py3-none-any.whl (8.2 kB)\n",
      "Collecting Twisted>=18.9.0\n",
      "  Downloading Twisted-22.10.0-py3-none-any.whl (3.1 MB)\n",
      "\u001b[K     |████████████████████████████████| 3.1 MB 828 kB/s eta 0:00:01\n",
      "\u001b[?25hRequirement already satisfied: packaging in /Users/arman/opt/anaconda3/lib/python3.8/site-packages (from Scrapy~=2.7.0->-r ./requirements.txt (line 3)) (20.9)\n",
      "Collecting tldextract\n",
      "  Using cached tldextract-3.4.0-py3-none-any.whl (93 kB)\n",
      "Collecting service-identity>=18.1.0\n",
      "  Using cached service_identity-21.1.0-py2.py3-none-any.whl (12 kB)\n",
      "Collecting PyDispatcher>=2.0.5\n",
      "  Using cached PyDispatcher-2.0.6.tar.gz (38 kB)\n",
      "Requirement already satisfied: zope.interface>=5.1.0 in /Users/arman/opt/anaconda3/lib/python3.8/site-packages (from Scrapy~=2.7.0->-r ./requirements.txt (line 3)) (5.3.0)\n",
      "Collecting queuelib>=1.4.2\n",
      "  Using cached queuelib-1.6.2-py2.py3-none-any.whl (13 kB)\n",
      "Collecting parsel>=1.5.0\n",
      "  Downloading parsel-1.7.0-py2.py3-none-any.whl (14 kB)\n",
      "Requirement already satisfied: cffi>=1.12 in /Users/arman/opt/anaconda3/lib/python3.8/site-packages (from cryptography>=3.3->Scrapy~=2.7.0->-r ./requirements.txt (line 3)) (1.14.5)\n",
      "Requirement already satisfied: pycparser in /Users/arman/opt/anaconda3/lib/python3.8/site-packages (from cffi>=1.12->cryptography>=3.3->Scrapy~=2.7.0->-r ./requirements.txt (line 3)) (2.20)\n",
      "Collecting jmespath>=0.9.5\n",
      "  Downloading jmespath-1.0.1-py3-none-any.whl (20 kB)\n",
      "Collecting cryptography>=3.3\n",
      "  Downloading cryptography-38.0.3-cp36-abi3-macosx_10_10_x86_64.whl (2.8 MB)\n",
      "\u001b[K     |████████████████████████████████| 2.8 MB 31.3 MB/s eta 0:00:01\n",
      "\u001b[?25hRequirement already satisfied: attrs>=19.1.0 in /Users/arman/opt/anaconda3/lib/python3.8/site-packages (from service-identity>=18.1.0->Scrapy~=2.7.0->-r ./requirements.txt (line 3)) (20.3.0)\n",
      "Requirement already satisfied: pyasn1-modules in /Users/arman/opt/anaconda3/lib/python3.8/site-packages (from service-identity>=18.1.0->Scrapy~=2.7.0->-r ./requirements.txt (line 3)) (0.2.8)\n",
      "Requirement already satisfied: pyasn1 in /Users/arman/opt/anaconda3/lib/python3.8/site-packages (from service-identity>=18.1.0->Scrapy~=2.7.0->-r ./requirements.txt (line 3)) (0.4.8)\n",
      "Collecting hyperlink>=17.1.1\n",
      "  Using cached hyperlink-21.0.0-py2.py3-none-any.whl (74 kB)\n",
      "Collecting Automat>=0.8.0\n",
      "  Downloading Automat-22.10.0-py2.py3-none-any.whl (26 kB)\n",
      "Collecting incremental>=21.3.0\n",
      "  Using cached incremental-22.10.0-py2.py3-none-any.whl (16 kB)\n",
      "Collecting constantly>=15.1\n",
      "  Using cached constantly-15.1.0-py2.py3-none-any.whl (7.9 kB)\n",
      "Requirement already satisfied: typing-extensions>=3.6.5 in /Users/arman/opt/anaconda3/lib/python3.8/site-packages (from Twisted>=18.9.0->Scrapy~=2.7.0->-r ./requirements.txt (line 3)) (3.7.4.3)\n",
      "Requirement already satisfied: libwapiti>=0.2.1 in /Users/arman/opt/anaconda3/lib/python3.8/site-packages (from hazm->-r ./requirements.txt (line 9)) (0.2.1)\n",
      "Requirement already satisfied: scikit-learn in /Users/arman/opt/anaconda3/lib/python3.8/site-packages (from sklearn->-r ./requirements.txt (line 8)) (0.24.1)\n",
      "Requirement already satisfied: pyparsing>=2.0.2 in /Users/arman/opt/anaconda3/lib/python3.8/site-packages (from packaging->Scrapy~=2.7.0->-r ./requirements.txt (line 3)) (2.4.7)\n",
      "Requirement already satisfied: scipy>=0.19.1 in /Users/arman/opt/anaconda3/lib/python3.8/site-packages (from scikit-learn->sklearn->-r ./requirements.txt (line 8)) (1.6.2)\n",
      "Requirement already satisfied: threadpoolctl>=2.0.0 in /Users/arman/opt/anaconda3/lib/python3.8/site-packages (from scikit-learn->sklearn->-r ./requirements.txt (line 8)) (2.1.0)\n",
      "Requirement already satisfied: numpy>=1.13.3 in /Users/arman/opt/anaconda3/lib/python3.8/site-packages (from scikit-learn->sklearn->-r ./requirements.txt (line 8)) (1.19.5)\n",
      "Requirement already satisfied: joblib>=0.11 in /Users/arman/opt/anaconda3/lib/python3.8/site-packages (from scikit-learn->sklearn->-r ./requirements.txt (line 8)) (1.0.1)\n",
      "Requirement already satisfied: filelock>=3.0.8 in /Users/arman/opt/anaconda3/lib/python3.8/site-packages (from tldextract->Scrapy~=2.7.0->-r ./requirements.txt (line 3)) (3.0.12)\n",
      "Collecting requests-file>=1.4\n",
      "  Using cached requests_file-1.5.1-py2.py3-none-any.whl (3.7 kB)\n",
      "Building wheels for collected packages: PyDispatcher\n",
      "  Building wheel for PyDispatcher (setup.py) ... \u001b[?25ldone\n",
      "\u001b[?25h  Created wheel for PyDispatcher: filename=PyDispatcher-2.0.6-py3-none-any.whl size=11959 sha256=e9035612741f6cba53b5d45afd5c7feb3ce63913ffc02819838bb02ff8c941e9\n",
      "  Stored in directory: /Users/arman/Library/Caches/pip/wheels/dc/b9/4a/948b1176e084b9e3f85e4ffc3d08f817b1fdf0d973bbb94f81\n",
      "Successfully built PyDispatcher\n",
      "Installing collected packages: charset-normalizer, w3lib, requests, cssselect, requests-file, parsel, jmespath, itemadapter, incremental, hyperlink, cryptography, constantly, Automat, Twisted, tldextract, service-identity, queuelib, pyOpenSSL, PyDispatcher, protego, itemloaders, sklearn, Scrapy\n",
      "  Attempting uninstall: requests\n",
      "    Found existing installation: requests 2.25.1\n",
      "    Uninstalling requests-2.25.1:\n",
      "      Successfully uninstalled requests-2.25.1\n",
      "  Attempting uninstall: cryptography\n",
      "    Found existing installation: cryptography 3.4.7\n",
      "    Uninstalling cryptography-3.4.7:\n",
      "      Successfully uninstalled cryptography-3.4.7\n",
      "  Attempting uninstall: pyOpenSSL\n",
      "    Found existing installation: pyOpenSSL 20.0.1\n",
      "    Uninstalling pyOpenSSL-20.0.1:\n",
      "      Successfully uninstalled pyOpenSSL-20.0.1\n",
      "\u001b[31mERROR: pip's dependency resolver does not currently take into account all the packages that are installed. This behaviour is the source of the following dependency conflicts.\n",
      "conda-repo-cli 1.0.4 requires pathlib, which is not installed.\n",
      "anaconda-project 0.9.1 requires ruamel-yaml, which is not installed.\u001b[0m\n",
      "Successfully installed Automat-22.10.0 PyDispatcher-2.0.6 Scrapy-2.7.1 Twisted-22.10.0 charset-normalizer-2.1.1 constantly-15.1.0 cryptography-38.0.3 cssselect-1.2.0 hyperlink-21.0.0 incremental-22.10.0 itemadapter-0.7.0 itemloaders-1.0.6 jmespath-1.0.1 parsel-1.7.0 protego-0.2.1 pyOpenSSL-22.1.0 queuelib-1.6.2 requests-2.28.1 requests-file-1.5.1 service-identity-21.1.0 sklearn-0.0 tldextract-3.4.0 w3lib-2.0.1\n"
     ]
    }
   ],
   "source": [
    "import sys\n",
    "!{sys.executable} -m pip install -r ./requirements.txt"
   ]
  },
  {
   "cell_type": "code",
   "execution_count": 235,
   "id": "eb902d01",
   "metadata": {},
   "outputs": [
    {
     "name": "stdout",
     "output_type": "stream",
     "text": [
      "Collecting git+https://github.com/language-ml/parsi.io.git\n",
      "  Cloning https://github.com/language-ml/parsi.io.git to /private/var/folders/4w/bx7cryln5tl_kklxmx7l_3xc0000gn/T/pip-req-build-px1v21u5\n",
      "  Running command git clone -q https://github.com/language-ml/parsi.io.git /private/var/folders/4w/bx7cryln5tl_kklxmx7l_3xc0000gn/T/pip-req-build-px1v21u5\n",
      "Requirement already satisfied: hazm>=0.7.0 in /Users/arman/opt/anaconda3/lib/python3.8/site-packages (from parsi-io==0.1.0) (0.7.0)\n",
      "Requirement already satisfied: tqdm in /Users/arman/opt/anaconda3/lib/python3.8/site-packages (from parsi-io==0.1.0) (4.59.0)\n",
      "Requirement already satisfied: camel-tools in /Users/arman/opt/anaconda3/lib/python3.8/site-packages (from parsi-io==0.1.0) (1.4.1)\n",
      "Requirement already satisfied: Tashaphyne in /Users/arman/opt/anaconda3/lib/python3.8/site-packages (from parsi-io==0.1.0) (0.3.6)\n",
      "Requirement already satisfied: gdown in /Users/arman/opt/anaconda3/lib/python3.8/site-packages (from parsi-io==0.1.0) (4.5.3)\n",
      "Requirement already satisfied: libwapiti>=0.2.1 in /Users/arman/opt/anaconda3/lib/python3.8/site-packages (from hazm>=0.7.0->parsi-io==0.1.0) (0.2.1)\n",
      "Requirement already satisfied: nltk==3.3 in /Users/arman/opt/anaconda3/lib/python3.8/site-packages (from hazm>=0.7.0->parsi-io==0.1.0) (3.3)\n",
      "Requirement already satisfied: six in /Users/arman/opt/anaconda3/lib/python3.8/site-packages (from nltk==3.3->hazm>=0.7.0->parsi-io==0.1.0) (1.15.0)\n",
      "Requirement already satisfied: pandas in /Users/arman/opt/anaconda3/lib/python3.8/site-packages (from camel-tools->parsi-io==0.1.0) (1.3.3)\n",
      "Requirement already satisfied: transformers>=3.0.2 in /Users/arman/opt/anaconda3/lib/python3.8/site-packages (from camel-tools->parsi-io==0.1.0) (4.24.0)\n",
      "Requirement already satisfied: future in /Users/arman/opt/anaconda3/lib/python3.8/site-packages (from camel-tools->parsi-io==0.1.0) (0.18.2)\n",
      "Requirement already satisfied: dill in /Users/arman/opt/anaconda3/lib/python3.8/site-packages (from camel-tools->parsi-io==0.1.0) (0.3.6)\n",
      "Requirement already satisfied: requests in /Users/arman/opt/anaconda3/lib/python3.8/site-packages (from camel-tools->parsi-io==0.1.0) (2.28.1)\n",
      "Requirement already satisfied: camel-kenlm in /Users/arman/opt/anaconda3/lib/python3.8/site-packages (from camel-tools->parsi-io==0.1.0) (2021.12.27)\n",
      "Requirement already satisfied: cachetools in /Users/arman/opt/anaconda3/lib/python3.8/site-packages (from camel-tools->parsi-io==0.1.0) (4.2.4)\n",
      "Requirement already satisfied: editdistance in /Users/arman/opt/anaconda3/lib/python3.8/site-packages (from camel-tools->parsi-io==0.1.0) (0.6.1)\n",
      "Requirement already satisfied: pyrsistent in /Users/arman/opt/anaconda3/lib/python3.8/site-packages (from camel-tools->parsi-io==0.1.0) (0.17.3)\n",
      "Requirement already satisfied: scipy in /Users/arman/opt/anaconda3/lib/python3.8/site-packages (from camel-tools->parsi-io==0.1.0) (1.6.2)\n",
      "Requirement already satisfied: emoji in /Users/arman/opt/anaconda3/lib/python3.8/site-packages (from camel-tools->parsi-io==0.1.0) (1.6.1)\n",
      "Requirement already satisfied: tabulate in /Users/arman/opt/anaconda3/lib/python3.8/site-packages (from camel-tools->parsi-io==0.1.0) (0.9.0)\n",
      "Requirement already satisfied: scikit-learn in /Users/arman/opt/anaconda3/lib/python3.8/site-packages (from camel-tools->parsi-io==0.1.0) (0.24.1)\n",
      "Requirement already satisfied: numpy in /Users/arman/opt/anaconda3/lib/python3.8/site-packages (from camel-tools->parsi-io==0.1.0) (1.19.5)\n",
      "Requirement already satisfied: docopt in /Users/arman/opt/anaconda3/lib/python3.8/site-packages (from camel-tools->parsi-io==0.1.0) (0.6.2)\n",
      "Requirement already satisfied: torch>=1.3 in /Users/arman/opt/anaconda3/lib/python3.8/site-packages (from camel-tools->parsi-io==0.1.0) (1.10.0)\n",
      "Requirement already satisfied: typing-extensions in /Users/arman/opt/anaconda3/lib/python3.8/site-packages (from torch>=1.3->camel-tools->parsi-io==0.1.0) (3.7.4.3)\n",
      "Requirement already satisfied: packaging>=20.0 in /Users/arman/opt/anaconda3/lib/python3.8/site-packages (from transformers>=3.0.2->camel-tools->parsi-io==0.1.0) (20.9)\n",
      "Requirement already satisfied: filelock in /Users/arman/opt/anaconda3/lib/python3.8/site-packages (from transformers>=3.0.2->camel-tools->parsi-io==0.1.0) (3.0.12)\n",
      "Requirement already satisfied: huggingface-hub<1.0,>=0.10.0 in /Users/arman/opt/anaconda3/lib/python3.8/site-packages (from transformers>=3.0.2->camel-tools->parsi-io==0.1.0) (0.10.1)\n",
      "Requirement already satisfied: regex!=2019.12.17 in /Users/arman/opt/anaconda3/lib/python3.8/site-packages (from transformers>=3.0.2->camel-tools->parsi-io==0.1.0) (2021.4.4)\n",
      "Requirement already satisfied: pyyaml>=5.1 in /Users/arman/opt/anaconda3/lib/python3.8/site-packages (from transformers>=3.0.2->camel-tools->parsi-io==0.1.0) (5.4.1)\n",
      "Requirement already satisfied: tokenizers!=0.11.3,<0.14,>=0.11.1 in /Users/arman/opt/anaconda3/lib/python3.8/site-packages (from transformers>=3.0.2->camel-tools->parsi-io==0.1.0) (0.13.1)\n",
      "Requirement already satisfied: pyparsing>=2.0.2 in /Users/arman/opt/anaconda3/lib/python3.8/site-packages (from packaging>=20.0->transformers>=3.0.2->camel-tools->parsi-io==0.1.0) (2.4.7)\n",
      "Requirement already satisfied: beautifulsoup4 in /Users/arman/opt/anaconda3/lib/python3.8/site-packages (from gdown->parsi-io==0.1.0) (4.9.3)\n",
      "Requirement already satisfied: soupsieve>1.2 in /Users/arman/opt/anaconda3/lib/python3.8/site-packages (from beautifulsoup4->gdown->parsi-io==0.1.0) (2.2.1)\n",
      "Requirement already satisfied: pytz>=2017.3 in /Users/arman/opt/anaconda3/lib/python3.8/site-packages (from pandas->camel-tools->parsi-io==0.1.0) (2021.1)\n",
      "Requirement already satisfied: python-dateutil>=2.7.3 in /Users/arman/opt/anaconda3/lib/python3.8/site-packages (from pandas->camel-tools->parsi-io==0.1.0) (2.8.1)\n",
      "Requirement already satisfied: idna<4,>=2.5 in /Users/arman/opt/anaconda3/lib/python3.8/site-packages (from requests->camel-tools->parsi-io==0.1.0) (2.10)\n",
      "Requirement already satisfied: charset-normalizer<3,>=2 in /Users/arman/opt/anaconda3/lib/python3.8/site-packages (from requests->camel-tools->parsi-io==0.1.0) (2.1.1)\n",
      "Requirement already satisfied: urllib3<1.27,>=1.21.1 in /Users/arman/opt/anaconda3/lib/python3.8/site-packages (from requests->camel-tools->parsi-io==0.1.0) (1.26.4)\n",
      "Requirement already satisfied: certifi>=2017.4.17 in /Users/arman/opt/anaconda3/lib/python3.8/site-packages (from requests->camel-tools->parsi-io==0.1.0) (2020.12.5)\n",
      "Requirement already satisfied: PySocks!=1.5.7,>=1.5.6 in /Users/arman/opt/anaconda3/lib/python3.8/site-packages (from requests->camel-tools->parsi-io==0.1.0) (1.7.1)\n",
      "Requirement already satisfied: joblib>=0.11 in /Users/arman/opt/anaconda3/lib/python3.8/site-packages (from scikit-learn->camel-tools->parsi-io==0.1.0) (1.0.1)\n",
      "Requirement already satisfied: threadpoolctl>=2.0.0 in /Users/arman/opt/anaconda3/lib/python3.8/site-packages (from scikit-learn->camel-tools->parsi-io==0.1.0) (2.1.0)\n",
      "Requirement already satisfied: pyarabic in /Users/arman/opt/anaconda3/lib/python3.8/site-packages (from Tashaphyne->parsi-io==0.1.0) (0.6.15)\n"
     ]
    }
   ],
   "source": [
    "import sys\n",
    "!{sys.executable} -m pip install git+https://github.com/language-ml/parsi.io.git"
   ]
  },
  {
   "cell_type": "markdown",
   "id": "88e23e57",
   "metadata": {},
   "source": [
    "# Import packages"
   ]
  },
  {
   "cell_type": "code",
   "execution_count": 21,
   "id": "94619b97",
   "metadata": {},
   "outputs": [],
   "source": [
    "import random\n",
    "import numpy as np\n",
    "import pandas as pd\n",
    "import re\n",
    "import tqdm\n",
    "import itertools\n",
    "import nltk\n",
    "from nltk import FreqDist\n",
    "\n",
    "import sklearn\n",
    "from sklearn.base import BaseEstimator, TransformerMixin\n",
    "from sklearn.pipeline import Pipeline\n",
    "\n",
    "import hazm\n",
    "from hazm import Normalizer, Stemmer, Lemmatizer\n",
    "from hazm import WordTokenizer, SentenceTokenizer, word_tokenize\n",
    "import emoji\n",
    "\n",
    "from parsi_io.modules.address_extractions import AddressExtraction"
   ]
  },
  {
   "cell_type": "code",
   "execution_count": null,
   "id": "b0716569",
   "metadata": {},
   "outputs": [],
   "source": []
  },
  {
   "cell_type": "markdown",
   "id": "d5a60c4a",
   "metadata": {},
   "source": [
    "# Data loading"
   ]
  },
  {
   "cell_type": "markdown",
   "id": "e268587b",
   "metadata": {},
   "source": [
    "<div style=\"direction:rtl\"> \n",
    "    <font size=\"4\", color=\"red\">\n",
    "        در این قسمت داده‌های crawl شده خوانده می‌شوند و کنار یکدیگر قرار می‌گیرند. همچنین یک ستون جدید به داده‌ها اضافه می‌شوند که نشان می‌دهد هر سطر مربوط به چه شهری است. از این ویژگی در ادامه به منظور مقایسه‌ی مواردی بین شهرها استفاده می‌شود.\n",
    "    </font> \n",
    "</div>"
   ]
  },
  {
   "cell_type": "code",
   "execution_count": 411,
   "id": "2bae3043",
   "metadata": {},
   "outputs": [],
   "source": [
    "def get_concatenated_data():\n",
    "    tehran_posts = pd.read_csv('data/tehran-apartment-sell-posts.csv')\n",
    "    mashhad_posts = pd.read_csv('data/mashhad-apartment-sell-posts.csv')\n",
    "    isfahan_posts = pd.read_csv('data/isfahan-apartment-sell-posts.csv')\n",
    "    sari_posts = pd.read_csv('data/sari-apartment-sell-posts.csv')\n",
    "    tabriz_posts = pd.read_csv('data/tabriz-apartment-sell-posts.csv')\n",
    "    shiraz_posts = pd.read_csv('data/shiraz-apartment-sell-posts.csv')\n",
    "    mahmoodabad_posts = pd.read_csv('data/mahmoodabad-apartment-sell-posts.csv')\n",
    "\n",
    "    tehran_posts['city'] = 'tehran'\n",
    "    mashhad_posts['city'] = 'mashhad'\n",
    "    isfahan_posts['city'] = 'isfahan'\n",
    "    sari_posts['city'] = 'sari'\n",
    "    tabriz_posts['city'] = 'tabriz'\n",
    "    shiraz_posts['city'] = 'shiraz'\n",
    "    mahmoodabad_posts['city'] = 'mahmoodabad'\n",
    "\n",
    "    posts = pd.concat([tehran_posts, mashhad_posts, isfahan_posts, sari_posts, tabriz_posts, shiraz_posts, mahmoodabad_posts], ignore_index=True)\n",
    "\n",
    "    return posts"
   ]
  },
  {
   "cell_type": "code",
   "execution_count": 412,
   "id": "45c2fd6a",
   "metadata": {},
   "outputs": [],
   "source": [
    "posts = get_concatenated_data()"
   ]
  },
  {
   "cell_type": "markdown",
   "id": "cb38151a",
   "metadata": {},
   "source": [
    "# Clean data"
   ]
  },
  {
   "cell_type": "markdown",
   "id": "1eb8b51d",
   "metadata": {},
   "source": [
    "### Big picture"
   ]
  },
  {
   "cell_type": "code",
   "execution_count": 413,
   "id": "79d32560",
   "metadata": {
    "scrolled": true
   },
   "outputs": [
    {
     "data": {
      "text/html": [
       "<div>\n",
       "<style scoped>\n",
       "    .dataframe tbody tr th:only-of-type {\n",
       "        vertical-align: middle;\n",
       "    }\n",
       "\n",
       "    .dataframe tbody tr th {\n",
       "        vertical-align: top;\n",
       "    }\n",
       "\n",
       "    .dataframe thead th {\n",
       "        text-align: right;\n",
       "    }\n",
       "</style>\n",
       "<table border=\"1\" class=\"dataframe\">\n",
       "  <thead>\n",
       "    <tr style=\"text-align: right;\">\n",
       "      <th></th>\n",
       "      <th>Area</th>\n",
       "      <th>Construction</th>\n",
       "      <th>Room</th>\n",
       "      <th>Warehouse</th>\n",
       "      <th>Parking</th>\n",
       "      <th>Elevator</th>\n",
       "      <th>Address</th>\n",
       "      <th>Price</th>\n",
       "      <th>Description</th>\n",
       "      <th>city</th>\n",
       "    </tr>\n",
       "  </thead>\n",
       "  <tbody>\n",
       "    <tr>\n",
       "      <th>0</th>\n",
       "      <td>63</td>\n",
       "      <td>1375</td>\n",
       "      <td>1</td>\n",
       "      <td>False</td>\n",
       "      <td>False</td>\n",
       "      <td>True</td>\n",
       "      <td>دقایقی پیش در تهران، شمشیری، خیابان شمشیری (ب....</td>\n",
       "      <td>۱٬۶۰۰٬۰۰۰٬۰۰۰ تومان</td>\n",
       "      <td>&lt;p class=\"kt-description-row__text kt-descript...</td>\n",
       "      <td>tehran</td>\n",
       "    </tr>\n",
       "    <tr>\n",
       "      <th>1</th>\n",
       "      <td>180</td>\n",
       "      <td>1393</td>\n",
       "      <td>3</td>\n",
       "      <td>True</td>\n",
       "      <td>True</td>\n",
       "      <td>True</td>\n",
       "      <td>دقایقی پیش در تهران، شیان | فروش آپارتمان</td>\n",
       "      <td>۱۴٬۰۰۰٬۰۰۰٬۰۰۰ تومان</td>\n",
       "      <td>&lt;p class=\"kt-description-row__text kt-descript...</td>\n",
       "      <td>tehran</td>\n",
       "    </tr>\n",
       "    <tr>\n",
       "      <th>2</th>\n",
       "      <td>38</td>\n",
       "      <td>1380</td>\n",
       "      <td>1</td>\n",
       "      <td>False</td>\n",
       "      <td>False</td>\n",
       "      <td>True</td>\n",
       "      <td>دقایقی پیش در تهران، پلیس | فروش آپارتمان</td>\n",
       "      <td>۱٬۳۸۰٬۰۰۰٬۰۰۰ تومان</td>\n",
       "      <td>&lt;p class=\"kt-description-row__text kt-descript...</td>\n",
       "      <td>tehran</td>\n",
       "    </tr>\n",
       "    <tr>\n",
       "      <th>3</th>\n",
       "      <td>88</td>\n",
       "      <td>1384</td>\n",
       "      <td>2</td>\n",
       "      <td>True</td>\n",
       "      <td>True</td>\n",
       "      <td>True</td>\n",
       "      <td>دقایقی پیش در تهران، تهران‌نو | فروش آپارتمان</td>\n",
       "      <td>۳٬۵۰۰٬۰۰۰٬۰۰۰ تومان</td>\n",
       "      <td>&lt;p class=\"kt-description-row__text kt-descript...</td>\n",
       "      <td>tehran</td>\n",
       "    </tr>\n",
       "    <tr>\n",
       "      <th>4</th>\n",
       "      <td>40</td>\n",
       "      <td>1393</td>\n",
       "      <td>1</td>\n",
       "      <td>True</td>\n",
       "      <td>True</td>\n",
       "      <td>True</td>\n",
       "      <td>دقایقی پیش در تهران، بریانک | فروش آپارتمان</td>\n",
       "      <td>۱٬۴۲۰٬۰۰۰٬۰۰۰ تومان</td>\n",
       "      <td>&lt;p class=\"kt-description-row__text kt-descript...</td>\n",
       "      <td>tehran</td>\n",
       "    </tr>\n",
       "  </tbody>\n",
       "</table>\n",
       "</div>"
      ],
      "text/plain": [
       "   Area  Construction  Room  Warehouse  Parking  Elevator  \\\n",
       "0    63          1375     1      False    False      True   \n",
       "1   180          1393     3       True     True      True   \n",
       "2    38          1380     1      False    False      True   \n",
       "3    88          1384     2       True     True      True   \n",
       "4    40          1393     1       True     True      True   \n",
       "\n",
       "                                             Address                 Price  \\\n",
       "0  دقایقی پیش در تهران، شمشیری، خیابان شمشیری (ب....   ۱٬۶۰۰٬۰۰۰٬۰۰۰ تومان   \n",
       "1          دقایقی پیش در تهران، شیان | فروش آپارتمان  ۱۴٬۰۰۰٬۰۰۰٬۰۰۰ تومان   \n",
       "2          دقایقی پیش در تهران، پلیس | فروش آپارتمان   ۱٬۳۸۰٬۰۰۰٬۰۰۰ تومان   \n",
       "3      دقایقی پیش در تهران، تهران‌نو | فروش آپارتمان   ۳٬۵۰۰٬۰۰۰٬۰۰۰ تومان   \n",
       "4        دقایقی پیش در تهران، بریانک | فروش آپارتمان   ۱٬۴۲۰٬۰۰۰٬۰۰۰ تومان   \n",
       "\n",
       "                                         Description    city  \n",
       "0  <p class=\"kt-description-row__text kt-descript...  tehran  \n",
       "1  <p class=\"kt-description-row__text kt-descript...  tehran  \n",
       "2  <p class=\"kt-description-row__text kt-descript...  tehran  \n",
       "3  <p class=\"kt-description-row__text kt-descript...  tehran  \n",
       "4  <p class=\"kt-description-row__text kt-descript...  tehran  "
      ]
     },
     "execution_count": 413,
     "metadata": {},
     "output_type": "execute_result"
    }
   ],
   "source": [
    "posts.head()"
   ]
  },
  {
   "cell_type": "code",
   "execution_count": 414,
   "id": "f2dd4917",
   "metadata": {},
   "outputs": [
    {
     "name": "stdout",
     "output_type": "stream",
     "text": [
      "<class 'pandas.core.frame.DataFrame'>\n",
      "RangeIndex: 3167 entries, 0 to 3166\n",
      "Data columns (total 10 columns):\n",
      " #   Column        Non-Null Count  Dtype \n",
      "---  ------        --------------  ----- \n",
      " 0   Area          3167 non-null   int64 \n",
      " 1   Construction  3167 non-null   int64 \n",
      " 2   Room          3167 non-null   int64 \n",
      " 3   Warehouse     3167 non-null   bool  \n",
      " 4   Parking       3167 non-null   bool  \n",
      " 5   Elevator      3167 non-null   bool  \n",
      " 6   Address       3167 non-null   object\n",
      " 7   Price         3167 non-null   object\n",
      " 8   Description   3167 non-null   object\n",
      " 9   city          3167 non-null   object\n",
      "dtypes: bool(3), int64(3), object(4)\n",
      "memory usage: 182.6+ KB\n"
     ]
    }
   ],
   "source": [
    "posts.info()"
   ]
  },
  {
   "cell_type": "code",
   "execution_count": 415,
   "id": "0f337acf",
   "metadata": {},
   "outputs": [
    {
     "data": {
      "text/html": [
       "<div>\n",
       "<style scoped>\n",
       "    .dataframe tbody tr th:only-of-type {\n",
       "        vertical-align: middle;\n",
       "    }\n",
       "\n",
       "    .dataframe tbody tr th {\n",
       "        vertical-align: top;\n",
       "    }\n",
       "\n",
       "    .dataframe thead th {\n",
       "        text-align: right;\n",
       "    }\n",
       "</style>\n",
       "<table border=\"1\" class=\"dataframe\">\n",
       "  <thead>\n",
       "    <tr style=\"text-align: right;\">\n",
       "      <th></th>\n",
       "      <th>Area</th>\n",
       "      <th>Construction</th>\n",
       "      <th>Room</th>\n",
       "    </tr>\n",
       "  </thead>\n",
       "  <tbody>\n",
       "    <tr>\n",
       "      <th>count</th>\n",
       "      <td>3167.000000</td>\n",
       "      <td>3167.000000</td>\n",
       "      <td>3167.000000</td>\n",
       "    </tr>\n",
       "    <tr>\n",
       "      <th>mean</th>\n",
       "      <td>125.015156</td>\n",
       "      <td>1395.660562</td>\n",
       "      <td>2.248816</td>\n",
       "    </tr>\n",
       "    <tr>\n",
       "      <th>std</th>\n",
       "      <td>122.244390</td>\n",
       "      <td>6.074243</td>\n",
       "      <td>0.654913</td>\n",
       "    </tr>\n",
       "    <tr>\n",
       "      <th>min</th>\n",
       "      <td>1.000000</td>\n",
       "      <td>1371.000000</td>\n",
       "      <td>1.000000</td>\n",
       "    </tr>\n",
       "    <tr>\n",
       "      <th>25%</th>\n",
       "      <td>87.000000</td>\n",
       "      <td>1392.000000</td>\n",
       "      <td>2.000000</td>\n",
       "    </tr>\n",
       "    <tr>\n",
       "      <th>50%</th>\n",
       "      <td>112.000000</td>\n",
       "      <td>1398.000000</td>\n",
       "      <td>2.000000</td>\n",
       "    </tr>\n",
       "    <tr>\n",
       "      <th>75%</th>\n",
       "      <td>144.000000</td>\n",
       "      <td>1401.000000</td>\n",
       "      <td>3.000000</td>\n",
       "    </tr>\n",
       "    <tr>\n",
       "      <th>max</th>\n",
       "      <td>6000.000000</td>\n",
       "      <td>1401.000000</td>\n",
       "      <td>4.000000</td>\n",
       "    </tr>\n",
       "  </tbody>\n",
       "</table>\n",
       "</div>"
      ],
      "text/plain": [
       "              Area  Construction         Room\n",
       "count  3167.000000   3167.000000  3167.000000\n",
       "mean    125.015156   1395.660562     2.248816\n",
       "std     122.244390      6.074243     0.654913\n",
       "min       1.000000   1371.000000     1.000000\n",
       "25%      87.000000   1392.000000     2.000000\n",
       "50%     112.000000   1398.000000     2.000000\n",
       "75%     144.000000   1401.000000     3.000000\n",
       "max    6000.000000   1401.000000     4.000000"
      ]
     },
     "execution_count": 415,
     "metadata": {},
     "output_type": "execute_result"
    }
   ],
   "source": [
    "posts.describe()"
   ]
  },
  {
   "cell_type": "markdown",
   "id": "80140401",
   "metadata": {},
   "source": [
    "### Examples of collected data"
   ]
  },
  {
   "cell_type": "code",
   "execution_count": 427,
   "id": "ef9f4bad",
   "metadata": {
    "scrolled": false
   },
   "outputs": [
    {
     "name": "stdout",
     "output_type": "stream",
     "text": [
      "<p class=\"kt-description-row__text kt-description-row__text--primary\">««فایلینگ اختصاصی»»\n",
      "\n",
      "☑️بهترین گزینه برای خرید\n",
      "☑️دسترسی عالی مراکز خرید و رفاهی\n",
      "☑️دسترسی چند قدمی به مترو\n",
      "☑️محله ای دنج و آرام\n",
      "☑️کم واحد ( کلا 10واحد)\n",
      "☑️طبقه5\n",
      "☑️نور عالی «دوکله»\n",
      "☑️سالن بزرگ و خوش نقشه\n",
      "☑️کناف و نورپردازی\n",
      "☑️آشپزخانه شیک و پر کابینت\n",
      "☑️2خواب بزرگ در فضای خصوصی واحد\n",
      "☑️کمد دیواری جادار و عمیق\n",
      "☑️پارکینگ مسقف / انباری / آسانسور</p>\n",
      "\n",
      "####################################################################################################\n",
      "\n",
      "<p class=\"kt-description-row__text kt-description-row__text--primary\">❌زیر قیمت منطقه فرصتی ایده آل❌ ‎ \n",
      "\n",
      "‼️فوری فوری فوری ‼️ ‎\n",
      "\n",
      "تک واحدی طبقه چهارم\n",
      "\n",
      "✅محله ای با اصالت و لوکیشن قوی آفتاب همیشه مهمان خانه شماست✅ ‎ \n",
      "\n",
      "❌ سالن پرده خور دو کله نور ❌ ‎ \n",
      "\n",
      "✅عماراتی شیک و منحصر به فرد ‎ \n",
      "✅ مختص سخت پسندان ‎ \n",
      "کوچه ای دنج و دسترسی سریع به اتوبان ‎ \n",
      "\n",
      "✔️زیر قیمت. مناسب سرمایه گذاری❗ \n",
      "فوق العاده عالی بی نظیر ترین فایل منطقه✅ \n",
      "\n",
      "بهترین واحد های منطقه ۵ را از ما بخواهید ✔️ ‎برای کسب اطلاعات و معرفی فایل های بیشتر ‎ تماس حاصل فرمایید\n",
      "\n",
      "-------------------------------------------------------------------------------\n",
      "\n",
      "مشاور تخصصی شما در منطقه : مرادی\n",
      "(املاک آرکا)</p>\n",
      "\n",
      "####################################################################################################\n",
      "\n",
      "<p class=\"kt-description-row__text kt-description-row__text--primary\">فروش واحد اپارتمان شیک دو خواب سپاهانشهر\n",
      "ابتدای سپاهانشهر خیابان تعاون ۲ بر خیابون اصلی\n",
      "بازسازی شده ،گرمایش پکیج،کابینت mdf،رنگ و نقاشی و دلباز با ویو خیابان و فضای سبز،نزدیک پارک و مراکز خرید</p>\n",
      "\n",
      "####################################################################################################\n",
      "\n",
      "<p class=\"kt-description-row__text kt-description-row__text--primary\">با سلام\n",
      "سعادت اباد بلوار ٢٤متری \n",
      "١٩٠متر ٣ خواب\n",
      " نقشه استثنایی \n",
      "  افتابگیر و غرق نور\n",
      "   رو به حیاط مشجر \n",
      "    خواب رویال مستر \n",
      "     پذیرایی پرده خور وسیع\n",
      "      اشپزخانه با تراس بزرگ و کاربردی\n",
      "       دو پارکینگ کنار هم box\n",
      "        مشاعات فول: استخر سونا جکوزی فعال\n",
      "          سالن اجتماعات لابی شیک\n",
      "           سازنده بنام\n",
      "            لوکیشن بینظیر و تکرار نشدنی\n",
      "              بهترین طبقه\n",
      "قیمت فقط متری ١٧٢ میلیون و شاید کمتر\n",
      "دیدنش ضرر نداره\n",
      "بهترینها رو برایتان ارزومندیم\n",
      "مشاور شما شفیعی</p>\n",
      "\n",
      "####################################################################################################\n",
      "\n",
      "<p class=\"kt-description-row__text kt-description-row__text--primary\">متراژ ۸۱ متر \n",
      "دو خواب \n",
      "طبقه پنجم \n",
      "پارکینگ - انباری - آسانسور - تراس \n",
      "گرمایشی پکیج و شوفاژ \n",
      "کف سرامیک \n",
      "سند دار</p>\n",
      "\n",
      "####################################################################################################\n",
      "\n"
     ]
    }
   ],
   "source": [
    "for desc in random.sample(list(posts.Description.values), 5):\n",
    "    print(desc)\n",
    "    print('\\n' + '#'*100 + '\\n')"
   ]
  },
  {
   "cell_type": "markdown",
   "id": "3d4a45a9",
   "metadata": {},
   "source": [
    "### Clean Address feature"
   ]
  },
  {
   "cell_type": "markdown",
   "id": "d614d421",
   "metadata": {},
   "source": [
    "<div style=\"direction:rtl\"> \n",
    "    <font size=\"4\", color=\"red\">\n",
    "        همانطور که از ابتدای متن آدرس‌ها مشخص است نوع آگهی در آن آمده است. به طور مثال در نمونه‌ی زیر فروش آپارتمان زیاد است و ربطی به آدرس این ملک ندارد که می‌بایست حذف شود.\n",
    "        همچنین زمان آگهی نیز اضافه است که در تمامی مقادیر این ستون آمده است. به طور مثال در نمونه‌ی زیر دقایقی پیش در تهران ربطی به آدرس آن ندارد که می‌بایست حذف شود.\n",
    "    </font> \n",
    "</div>"
   ]
  },
  {
   "cell_type": "code",
   "execution_count": 428,
   "id": "0ce69a82",
   "metadata": {
    "scrolled": false
   },
   "outputs": [
    {
     "data": {
      "text/plain": [
       "'دقایقی پیش در تهران، شمشیری، خیابان شمشیری (ب. ایت الله سعیدی) | فروش آپارتمان'"
      ]
     },
     "execution_count": 428,
     "metadata": {},
     "output_type": "execute_result"
    }
   ],
   "source": [
    "posts.Address[0]"
   ]
  },
  {
   "cell_type": "code",
   "execution_count": 429,
   "id": "22fa2409",
   "metadata": {},
   "outputs": [],
   "source": [
    "class ExtractAddressTransformer(BaseEstimator, TransformerMixin):\n",
    "    def fit(self, X, y=None):\n",
    "        return self\n",
    "    def transform(self, X):\n",
    "        X.Address = X.Address.apply(\n",
    "            lambda adress: '،'.join(adress.split('|')[0].split('،')[1:])\n",
    "        )\n",
    "        return X"
   ]
  },
  {
   "cell_type": "code",
   "execution_count": 430,
   "id": "219e09f4",
   "metadata": {},
   "outputs": [],
   "source": [
    "t = ExtractAddressTransformer()"
   ]
  },
  {
   "cell_type": "code",
   "execution_count": 431,
   "id": "781ff622",
   "metadata": {},
   "outputs": [],
   "source": [
    "posts = t.fit_transform(posts)"
   ]
  },
  {
   "cell_type": "code",
   "execution_count": 432,
   "id": "776ad414",
   "metadata": {},
   "outputs": [
    {
     "data": {
      "text/plain": [
       "' شمشیری، خیابان شمشیری (ب. ایت الله سعیدی) '"
      ]
     },
     "execution_count": 432,
     "metadata": {},
     "output_type": "execute_result"
    }
   ],
   "source": [
    "posts.Address[0]"
   ]
  },
  {
   "cell_type": "markdown",
   "id": "72d8bc53",
   "metadata": {},
   "source": [
    "### Clean Description feature"
   ]
  },
  {
   "cell_type": "markdown",
   "id": "f5d29685",
   "metadata": {},
   "source": [
    "<div style=\"direction:rtl\"> \n",
    "    <font size=\"4\">\n",
    "        همانطور که از ابتدای متن توضیحات آگهی‌ها مشخص است، یک تگ html ابتدای هر یک توضیحات آگهی‌ها آمده است که نشان دهنده‌ی تگ کلاس html توضیحات آگهی است و ارتباطی به محتوی آن ندارد که می‌بایست حذف شود.\n",
    "    </font> \n",
    "</div>"
   ]
  },
  {
   "cell_type": "code",
   "execution_count": 433,
   "id": "d21487af",
   "metadata": {},
   "outputs": [
    {
     "data": {
      "text/plain": [
       "'<p class=\"kt-description-row__text kt-description-row__text--primary\">برج باغ با موقعیت دنج و آرام/ چشم انداز پارک جنگلی و قله دماوند/ 3خواب، یک مستر/ لابی بزرگ/ سرایدار مقیم/ بالکن مفید/ ژنراتور برق/ چیلر مرکزی/ اطفای حریق/دوربین مداربسته/ بدون دیوار مشترک/ نورگیر از شمال، شرق و غرب واحد/ حیاط بزرگ و مشجر با آبنما، آلاچیق و چاه آب/ روف گاردن/ پیاده تا پارک جنگلی ده دقیقه.\\nلطفا املاک تماس نگیرند.</p>'"
      ]
     },
     "execution_count": 433,
     "metadata": {},
     "output_type": "execute_result"
    }
   ],
   "source": [
    "posts.Description[1]"
   ]
  },
  {
   "cell_type": "code",
   "execution_count": 434,
   "id": "ebf8430a",
   "metadata": {},
   "outputs": [],
   "source": [
    "class RemoveTagTransformer(BaseEstimator, TransformerMixin):\n",
    "    def fit(self, X, y=None):\n",
    "        self.cleanre = re.compile('<.*?>') \n",
    "        return self\n",
    "    def transform(self, X):\n",
    "        X.Description = X.Description.apply(\n",
    "            lambda desc: re.sub(self.cleanre, '', desc)\n",
    "        )\n",
    "        return X"
   ]
  },
  {
   "cell_type": "code",
   "execution_count": 435,
   "id": "3dce0fb0",
   "metadata": {
    "scrolled": true
   },
   "outputs": [],
   "source": [
    "t = RemoveTagTransformer()\n",
    "posts = t.fit_transform(posts)"
   ]
  },
  {
   "cell_type": "code",
   "execution_count": 436,
   "id": "048f079c",
   "metadata": {},
   "outputs": [
    {
     "data": {
      "text/plain": [
       "'برج باغ با موقعیت دنج و آرام/ چشم انداز پارک جنگلی و قله دماوند/ 3خواب، یک مستر/ لابی بزرگ/ سرایدار مقیم/ بالکن مفید/ ژنراتور برق/ چیلر مرکزی/ اطفای حریق/دوربین مداربسته/ بدون دیوار مشترک/ نورگیر از شمال، شرق و غرب واحد/ حیاط بزرگ و مشجر با آبنما، آلاچیق و چاه آب/ روف گاردن/ پیاده تا پارک جنگلی ده دقیقه.\\nلطفا املاک تماس نگیرند.'"
      ]
     },
     "execution_count": 436,
     "metadata": {},
     "output_type": "execute_result"
    }
   ],
   "source": [
    "posts.Description[1]"
   ]
  },
  {
   "cell_type": "markdown",
   "id": "70cabc5e",
   "metadata": {},
   "source": [
    "# Preprocess"
   ]
  },
  {
   "cell_type": "markdown",
   "id": "71ca0a25",
   "metadata": {},
   "source": [
    "### Remove imojies"
   ]
  },
  {
   "cell_type": "markdown",
   "id": "766765ff",
   "metadata": {},
   "source": [
    "<div style=\"direction:rtl\"> \n",
    "    <font size=\"4\", color=\"red\">\n",
    "        از آنجا که در بسیاری از توضیحات آگهی‌های دیوار از ایموجی ها به دلایل متفاوت استفاده می‌شود، حجم قابل توجهی از متن آنها را ایموجی‌ها به خود تخصیص می‌دهند که عمدتا به منظور جداسازی محتوای توضیحات آگهی آورده می‌شوند و بار معنایی ندارند. به همین منظور آنها را یک transformer به منظور پاک کردن آنها از متن توضیحات می‌نویسیم.\n",
    "    </font> \n",
    "</div>"
   ]
  },
  {
   "cell_type": "code",
   "execution_count": 437,
   "id": "3ae78b55",
   "metadata": {},
   "outputs": [
    {
     "data": {
      "text/plain": [
       "'✴️دونبش\\n✴️ تک واحدی \\n✴️ از سه جهت غرق در نور\\n✴️ دسترسی و لوکیشن عالی\\n✴️ بازسازی، نقاشی و کاغذدیواری شده \\n✴️ سرویس و حمام صفر تا صد بازسازی شده\\n✴️ شیرآلات، روشویی، توالت ایرانی و فرنگی نو\\n✴️ انباری غیر سندی\\n✴️ بازدید هر ساعت از روز بدون معطلی\\n\\nمشاور شما سعید اختری زاده'"
      ]
     },
     "execution_count": 437,
     "metadata": {},
     "output_type": "execute_result"
    }
   ],
   "source": [
    "posts.Description[0]"
   ]
  },
  {
   "cell_type": "code",
   "execution_count": 438,
   "id": "78916a4c",
   "metadata": {},
   "outputs": [],
   "source": [
    "class RemoveEmojiesTransformer(BaseEstimator, TransformerMixin):\n",
    "    def __init__(self, column_name):\n",
    "        self.column_name = column_name\n",
    "    \n",
    "    def fit(self, X, y=None):\n",
    "        return self\n",
    "    \n",
    "    def transform(self, X):\n",
    "        X[self.column_name] = X[self.column_name].apply(\n",
    "            lambda text: emoji.get_emoji_regexp().sub(r'', text)\n",
    "        )\n",
    "        return X"
   ]
  },
  {
   "cell_type": "code",
   "execution_count": 439,
   "id": "55888e27",
   "metadata": {},
   "outputs": [],
   "source": [
    "t = RemoveEmojiesTransformer(column_name='Description')\n",
    "posts = t.fit_transform(posts)"
   ]
  },
  {
   "cell_type": "code",
   "execution_count": 440,
   "id": "db17cbf9",
   "metadata": {},
   "outputs": [
    {
     "data": {
      "text/plain": [
       "'دونبش\\n تک واحدی \\n از سه جهت غرق در نور\\n دسترسی و لوکیشن عالی\\n بازسازی، نقاشی و کاغذدیواری شده \\n سرویس و حمام صفر تا صد بازسازی شده\\n شیرآلات، روشویی، توالت ایرانی و فرنگی نو\\n انباری غیر سندی\\n بازدید هر ساعت از روز بدون معطلی\\n\\nمشاور شما سعید اختری زاده'"
      ]
     },
     "execution_count": 440,
     "metadata": {},
     "output_type": "execute_result"
    }
   ],
   "source": [
    "posts.Description[0]"
   ]
  },
  {
   "cell_type": "markdown",
   "id": "d1619bc1",
   "metadata": {},
   "source": [
    "### Description Transformer"
   ]
  },
  {
   "cell_type": "markdown",
   "id": "0db8ee05",
   "metadata": {},
   "source": [
    "<div style=\"direction:rtl\"> \n",
    "    <font size=\"4\", color=\"red\">\n",
    "        در ادامه یک transformer به منظور مابقی پیش پردازش‌های متنی مورد نظر روی توضیحات پیاده‌سازی شده است که در آن عملیات‌هایی از قبیل تبدیل ي به ی و همچنین حذف اعراب عربی، حذف عبارات انگلیسی از متن و lemmatize کردن متن انجام می‌گیرد. \n",
    "    </font> \n",
    "</div>"
   ]
  },
  {
   "cell_type": "code",
   "execution_count": 441,
   "id": "ab9d913f",
   "metadata": {},
   "outputs": [],
   "source": [
    "def hasNumbers(inputString):\n",
    "    return any(char.isdigit() for char in inputString)\n",
    "\n",
    "def isEnglish(s):\n",
    "    return s.lower().islower()"
   ]
  },
  {
   "cell_type": "code",
   "execution_count": 442,
   "id": "7d062b48",
   "metadata": {},
   "outputs": [],
   "source": [
    "class DescriptionTransformer(BaseEstimator, TransformerMixin):\n",
    "    def __init__(self, column_name):\n",
    "        self.column_name = column_name\n",
    "    \n",
    "    def fit(self, X, y=None):\n",
    "        stop_words_file = open(\"stopwords.txt\", \"r\")\n",
    "        content = stop_words_file.read()\n",
    "        self.stopwords = content.split(\"\\n\")\n",
    "        \n",
    "        self.normalizer = Normalizer()\n",
    "        self.lemmatizer = Lemmatizer()\n",
    "        \n",
    "        self.tokenizer = WordTokenizer(join_verb_parts=False, replace_links=True, replace_numbers=True)\n",
    "        return self\n",
    "    \n",
    "    def transform(self, X):\n",
    "        cleaned = []\n",
    "        \n",
    "        for text in X[self.column_name]:\n",
    "            # tokenize - replace link-number\n",
    "            words = self.tokenizer.tokenize(' '.join(self.tokenizer.tokenize(text)))\n",
    "            # replace ي with ی and remove arabic symbols\n",
    "            words = [self.normalizer.character_refinement(word) for word in words]\n",
    "\n",
    "            words = [word for word in words if not isEnglish(word)]\n",
    "#             words = [word for word in words if not hasNumbers(word)]\n",
    "\n",
    "            text = ' '.join([self.lemmatizer.lemmatize(word) for word in words])\n",
    "            cleaned.append(text)\n",
    "        \n",
    "        X[self.column_name] = cleaned\n",
    "        return X"
   ]
  },
  {
   "cell_type": "code",
   "execution_count": 443,
   "id": "308904bd",
   "metadata": {},
   "outputs": [],
   "source": [
    "desc_transformer = DescriptionTransformer(column_name='Description')"
   ]
  },
  {
   "cell_type": "code",
   "execution_count": 444,
   "id": "c8290a96",
   "metadata": {},
   "outputs": [],
   "source": [
    "posts = desc_transformer.fit_transform(posts)"
   ]
  },
  {
   "cell_type": "code",
   "execution_count": 445,
   "id": "173b60b3",
   "metadata": {},
   "outputs": [
    {
     "data": {
      "text/plain": [
       "'دونبش تک واحد از سه جهت غرق در نور دسترس و لوکیشن عالی بازسازی ، نقاش و کاغذدیواری شده سرویس و حمام صفر تا صد بازسازی شده شیرآلات ، روشویی ، توالت ایران و فرنگ نو انباری غیر سند بازدید هر ساعت از روز بدون معطل مشاور شما سعید اختر زاده'"
      ]
     },
     "execution_count": 445,
     "metadata": {},
     "output_type": "execute_result"
    }
   ],
   "source": [
    "posts.Description[0]"
   ]
  },
  {
   "cell_type": "markdown",
   "id": "4617b67b",
   "metadata": {},
   "source": [
    "# Remove stopwords transformer"
   ]
  },
  {
   "cell_type": "markdown",
   "id": "87187a5c",
   "metadata": {},
   "source": [
    "<div style=\"direction:rtl\"> \n",
    "    <font size=\"4\", color=\"red\">\n",
    "        در این قسمت یک transformer به منظور حذف stopword های فارسی از متن پیاده سازی شده است. فایل stopwords های فارسی استفاده شده از ریپازیتوری زیر گرفته شده است.\n",
    "        https://github.com/kharazi/persian-stopwords\n",
    "    </font> \n",
    "</div>"
   ]
  },
  {
   "cell_type": "code",
   "execution_count": 446,
   "id": "a40cfe7c",
   "metadata": {},
   "outputs": [],
   "source": [
    "class RemoveStopwordsTransformer(BaseEstimator, TransformerMixin):\n",
    "    def __init__(self, column_name):\n",
    "        self.column_name = column_name\n",
    "    \n",
    "    def fit(self, X, y=None):\n",
    "        stop_words_file = open(\"stopwords.txt\", \"r\")\n",
    "        content = stop_words_file.read()\n",
    "        self.stopwords = content.split(\"\\n\")\n",
    "        \n",
    "        self.tokenizer = WordTokenizer(join_verb_parts=False, replace_links=True, replace_numbers=True)\n",
    "        return self\n",
    "    \n",
    "    def transform(self, X):\n",
    "        cleaned = []\n",
    "        \n",
    "        for text in X[self.column_name]:\n",
    "            words = self.tokenizer.tokenize(' '.join(self.tokenizer.tokenize(text)))\n",
    "            words = [word for word in words if word not in self.stopwords]\n",
    "\n",
    "            text = ' '.join(words)\n",
    "            cleaned.append(text)\n",
    "        \n",
    "        X[self.column_name] = cleaned\n",
    "        return X"
   ]
  },
  {
   "cell_type": "code",
   "execution_count": 447,
   "id": "57d2d2a7",
   "metadata": {},
   "outputs": [],
   "source": [
    "sw_transformer = RemoveStopwordsTransformer(column_name='Description')"
   ]
  },
  {
   "cell_type": "code",
   "execution_count": 448,
   "id": "f2adbf29",
   "metadata": {},
   "outputs": [],
   "source": [
    "posts = sw_transformer.fit_transform(posts)"
   ]
  },
  {
   "cell_type": "code",
   "execution_count": 449,
   "id": "ef469721",
   "metadata": {},
   "outputs": [
    {
     "data": {
      "text/plain": [
       "'دونبش تک واحد سه غرق نور دسترس لوکیشن عالی بازسازی نقاش کاغذدیواری سرویس حمام صفر بازسازی شیرآلات روشویی توالت ایران فرنگ نو انباری سند بازدید ساعت معطل مشاور سعید اختر زاده'"
      ]
     },
     "execution_count": 449,
     "metadata": {},
     "output_type": "execute_result"
    }
   ],
   "source": [
    "posts.Description[0]"
   ]
  },
  {
   "cell_type": "code",
   "execution_count": 470,
   "id": "73280d58",
   "metadata": {},
   "outputs": [
    {
     "name": "stdout",
     "output_type": "stream",
     "text": [
      "فروش فوری قیمت پول لازم سازنده بنام متریال درجه پرت املاک دلال کار نمیشود\n",
      "\n",
      "####################################################################################################\n",
      "\n",
      "طبقه واحد طبقه ۴نما ساختمان دونبش فول امکانات تجهیزات نصب واحد خال تحویل تراس اتاق روبه نما کوچه فروش نقد موقعیت مکان زینبیه خیابون متری پهن مسکن بزرگمهر مهندس میثم ملایی خرید فروش رهن اجاره آپارتمان نوساز صفر کارکرده قدیم خرید فروش وام لوکس پنت هاوس اداری تجار آسانسوردار پارکینگ زمین شهرخانه ملک کلنگ ساخت مسکونی تجار مشارکت بافت باغ زراع شالیزار پلاک کوچک تفکیک هکتار ییلاق ساحل جاده دریا پلاژ ویلا استخردارمغازه سوله کارخانه انبارزیرزمین صنعتی سردخانه مرغداری استخرماهی گلخانه مجوز وام سند دستدارمی امکانات برق آب دسترس دارا معاوضه تهاتربا مصالح سرمایه گذاشت#گذار انبوه ساری شمال مازندران تبلیغ ملک سپارد#سپار مشاور زجاج\n",
      "\n",
      "####################################################################################################\n",
      "\n",
      "آپارتمان نظر دارا امکانات آسانسور پارکینگ انباری سند تک‌برگ قیمت ذکر صحبت تخفیف املاک عارف خدادادی ***********\n",
      "\n",
      "####################################################################################################\n",
      "\n",
      "سلام فروش رهن اجاره خانه سپارد#سپار اسرع وقت پیگیری خواست#خواه کرد#کن کد فروش آپارتمان متر بهمن شرق ۴طبقه واحد طبقه نما پارکینگ انباری داشت#دار سیستم گرما شوفاژ سند رسم ۲خوابه تراس کمد دیوار نورگیر عالی شمال جنوبی مشاور جبار ***********\n",
      "\n",
      "####################################################################################################\n",
      "\n",
      "طبقه ۴رو نما نقشه ۴طبقه ۸واحد میباشد\n",
      "\n",
      "####################################################################################################\n",
      "\n"
     ]
    }
   ],
   "source": [
    "for desc in random.sample(list(posts.Description.values), 5):\n",
    "    print(desc)\n",
    "    print('\\n' + '#'*100 + '\\n')"
   ]
  },
  {
   "cell_type": "markdown",
   "id": "27e37265",
   "metadata": {},
   "source": [
    "# Notebook body"
   ]
  },
  {
   "cell_type": "markdown",
   "id": "30340c0c",
   "metadata": {},
   "source": [
    "<div style=\"direction:rtl\"> \n",
    "    <font size=\"4\", color=\"red\">\n",
    "        در این قسمت به بررسی مواردی در متن توضیحات آگهی‌ها می‌پردازیم و آنها را در چند شهر مورد نظر که دیتای آنها crawl شده است، با یکدیگر مقایسه می‌کنیم. \n",
    "    </font> \n",
    "</div>"
   ]
  },
  {
   "cell_type": "markdown",
   "id": "d244ad40",
   "metadata": {},
   "source": [
    "<div style=\"direction:rtl\"> \n",
    "    <font size=\"4\", color=\"red\">\n",
    "        در ابندا داده‌ی اولیه را به کمک نورمالایزر کتابخانه هزم نرمالایز می‌کنیم. \n",
    "    </font> \n",
    "</div>"
   ]
  },
  {
   "cell_type": "code",
   "execution_count": 471,
   "id": "fdc0456a",
   "metadata": {},
   "outputs": [],
   "source": [
    "posts = get_concatenated_data()"
   ]
  },
  {
   "cell_type": "code",
   "execution_count": 472,
   "id": "6f065b9e",
   "metadata": {
    "scrolled": false
   },
   "outputs": [
    {
     "name": "stderr",
     "output_type": "stream",
     "text": [
      "100%|██████████| 3167/3167 [00:00<00:00, 6492.05it/s]\n"
     ]
    }
   ],
   "source": [
    "normalizer = Normalizer()\n",
    "posts.Description = [normalizer.normalize(desc) for desc in tqdm.tqdm(posts.Description)]"
   ]
  },
  {
   "cell_type": "code",
   "execution_count": 473,
   "id": "13bde80c",
   "metadata": {},
   "outputs": [
    {
     "data": {
      "text/html": [
       "<div>\n",
       "<style scoped>\n",
       "    .dataframe tbody tr th:only-of-type {\n",
       "        vertical-align: middle;\n",
       "    }\n",
       "\n",
       "    .dataframe tbody tr th {\n",
       "        vertical-align: top;\n",
       "    }\n",
       "\n",
       "    .dataframe thead th {\n",
       "        text-align: right;\n",
       "    }\n",
       "</style>\n",
       "<table border=\"1\" class=\"dataframe\">\n",
       "  <thead>\n",
       "    <tr style=\"text-align: right;\">\n",
       "      <th></th>\n",
       "      <th>Area</th>\n",
       "      <th>Construction</th>\n",
       "      <th>Room</th>\n",
       "      <th>Warehouse</th>\n",
       "      <th>Parking</th>\n",
       "      <th>Elevator</th>\n",
       "      <th>Address</th>\n",
       "      <th>Price</th>\n",
       "      <th>Description</th>\n",
       "      <th>city</th>\n",
       "    </tr>\n",
       "  </thead>\n",
       "  <tbody>\n",
       "    <tr>\n",
       "      <th>0</th>\n",
       "      <td>63</td>\n",
       "      <td>1375</td>\n",
       "      <td>1</td>\n",
       "      <td>False</td>\n",
       "      <td>False</td>\n",
       "      <td>True</td>\n",
       "      <td>دقایقی پیش در تهران، شمشیری، خیابان شمشیری (ب....</td>\n",
       "      <td>۱٬۶۰۰٬۰۰۰٬۰۰۰ تومان</td>\n",
       "      <td>&lt;p class= «kt-description-row__text kt-descrip...</td>\n",
       "      <td>tehran</td>\n",
       "    </tr>\n",
       "    <tr>\n",
       "      <th>1</th>\n",
       "      <td>180</td>\n",
       "      <td>1393</td>\n",
       "      <td>3</td>\n",
       "      <td>True</td>\n",
       "      <td>True</td>\n",
       "      <td>True</td>\n",
       "      <td>دقایقی پیش در تهران، شیان | فروش آپارتمان</td>\n",
       "      <td>۱۴٬۰۰۰٬۰۰۰٬۰۰۰ تومان</td>\n",
       "      <td>&lt;p class= «kt-description-row__text kt-descrip...</td>\n",
       "      <td>tehran</td>\n",
       "    </tr>\n",
       "    <tr>\n",
       "      <th>2</th>\n",
       "      <td>38</td>\n",
       "      <td>1380</td>\n",
       "      <td>1</td>\n",
       "      <td>False</td>\n",
       "      <td>False</td>\n",
       "      <td>True</td>\n",
       "      <td>دقایقی پیش در تهران، پلیس | فروش آپارتمان</td>\n",
       "      <td>۱٬۳۸۰٬۰۰۰٬۰۰۰ تومان</td>\n",
       "      <td>&lt;p class= «kt-description-row__text kt-descrip...</td>\n",
       "      <td>tehran</td>\n",
       "    </tr>\n",
       "    <tr>\n",
       "      <th>3</th>\n",
       "      <td>88</td>\n",
       "      <td>1384</td>\n",
       "      <td>2</td>\n",
       "      <td>True</td>\n",
       "      <td>True</td>\n",
       "      <td>True</td>\n",
       "      <td>دقایقی پیش در تهران، تهران‌نو | فروش آپارتمان</td>\n",
       "      <td>۳٬۵۰۰٬۰۰۰٬۰۰۰ تومان</td>\n",
       "      <td>&lt;p class= «kt-description-row__text kt-descrip...</td>\n",
       "      <td>tehran</td>\n",
       "    </tr>\n",
       "    <tr>\n",
       "      <th>4</th>\n",
       "      <td>40</td>\n",
       "      <td>1393</td>\n",
       "      <td>1</td>\n",
       "      <td>True</td>\n",
       "      <td>True</td>\n",
       "      <td>True</td>\n",
       "      <td>دقایقی پیش در تهران، بریانک | فروش آپارتمان</td>\n",
       "      <td>۱٬۴۲۰٬۰۰۰٬۰۰۰ تومان</td>\n",
       "      <td>&lt;p class= «kt-description-row__text kt-descrip...</td>\n",
       "      <td>tehran</td>\n",
       "    </tr>\n",
       "  </tbody>\n",
       "</table>\n",
       "</div>"
      ],
      "text/plain": [
       "   Area  Construction  Room  Warehouse  Parking  Elevator  \\\n",
       "0    63          1375     1      False    False      True   \n",
       "1   180          1393     3       True     True      True   \n",
       "2    38          1380     1      False    False      True   \n",
       "3    88          1384     2       True     True      True   \n",
       "4    40          1393     1       True     True      True   \n",
       "\n",
       "                                             Address                 Price  \\\n",
       "0  دقایقی پیش در تهران، شمشیری، خیابان شمشیری (ب....   ۱٬۶۰۰٬۰۰۰٬۰۰۰ تومان   \n",
       "1          دقایقی پیش در تهران، شیان | فروش آپارتمان  ۱۴٬۰۰۰٬۰۰۰٬۰۰۰ تومان   \n",
       "2          دقایقی پیش در تهران، پلیس | فروش آپارتمان   ۱٬۳۸۰٬۰۰۰٬۰۰۰ تومان   \n",
       "3      دقایقی پیش در تهران، تهران‌نو | فروش آپارتمان   ۳٬۵۰۰٬۰۰۰٬۰۰۰ تومان   \n",
       "4        دقایقی پیش در تهران، بریانک | فروش آپارتمان   ۱٬۴۲۰٬۰۰۰٬۰۰۰ تومان   \n",
       "\n",
       "                                         Description    city  \n",
       "0  <p class= «kt-description-row__text kt-descrip...  tehran  \n",
       "1  <p class= «kt-description-row__text kt-descrip...  tehran  \n",
       "2  <p class= «kt-description-row__text kt-descrip...  tehran  \n",
       "3  <p class= «kt-description-row__text kt-descrip...  tehran  \n",
       "4  <p class= «kt-description-row__text kt-descrip...  tehran  "
      ]
     },
     "execution_count": 473,
     "metadata": {},
     "output_type": "execute_result"
    }
   ],
   "source": [
    "posts.head()"
   ]
  },
  {
   "cell_type": "markdown",
   "id": "6a8fb64a",
   "metadata": {},
   "source": [
    "### Number of words per description"
   ]
  },
  {
   "cell_type": "markdown",
   "id": "da26d7d3",
   "metadata": {},
   "source": [
    "<div style=\"direction:rtl\"> \n",
    "    <font size=\"4\", color=\"red\">\n",
    "        در این قسمت میانگین تعداد کلمات در توضیحات هر آگهی را بدست آورده و این مقدار را در شهرهای مورد نظر مقایسه می‌کنیم. برای این منظور از توکنایزر هزم استفاده می‌کنیم. \n",
    "    </font> \n",
    "</div>"
   ]
  },
  {
   "cell_type": "code",
   "execution_count": 474,
   "id": "275b8299",
   "metadata": {},
   "outputs": [],
   "source": [
    "tokenizer = WordTokenizer(join_verb_parts=False, replace_links=True)"
   ]
  },
  {
   "cell_type": "code",
   "execution_count": 475,
   "id": "e2c7431d",
   "metadata": {},
   "outputs": [],
   "source": [
    "# calculate number of words per description\n",
    "posts['n_words'] = posts.Description.apply(\n",
    "    lambda desc: len(tokenizer.tokenize(desc))\n",
    ")"
   ]
  },
  {
   "cell_type": "code",
   "execution_count": 476,
   "id": "277ef1cc",
   "metadata": {},
   "outputs": [],
   "source": [
    "n_words_per_city = posts.groupby(['city'])['n_words'].mean()"
   ]
  },
  {
   "cell_type": "markdown",
   "id": "628d65d7",
   "metadata": {},
   "source": [
    "<div style=\"direction:rtl\"> \n",
    "    <font size=\"4\", color=\"red\">\n",
    "         همانطور که در نمودار زیر پیداست آگهی‌های املاک شهر تبریز در این بازه زمانی به طور میانگین بیشترین تعداد کلمه‌ی استفاده شده را دارند. از طرف دیگر به ترتیب شهرهای ساری و شیراز کمترین تعداد کلمه‌ی استفاده شده در توضیحات آگهی‌های فروش املاک را دارند.\n",
    "    </font> \n",
    "</div>"
   ]
  },
  {
   "cell_type": "code",
   "execution_count": 477,
   "id": "a3822c1c",
   "metadata": {
    "scrolled": false
   },
   "outputs": [
    {
     "data": {
      "image/png": "[encoded data removed]",
      "text/plain": [
       "<Figure size 720x576 with 1 Axes>"
      ]
     },
     "metadata": {
      "needs_background": "light"
     },
     "output_type": "display_data"
    }
   ],
   "source": [
    "_ = n_words_per_city.plot(kind='bar', \n",
    "                      title='Number of words per description', \n",
    "                      ylabel='Mean words count',\n",
    "                      xlabel='City', \n",
    "                      figsize=(10, 8))"
   ]
  },
  {
   "cell_type": "markdown",
   "id": "4f783f15",
   "metadata": {},
   "source": [
    "### Number of sentences  per description"
   ]
  },
  {
   "cell_type": "markdown",
   "id": "2c28d05a",
   "metadata": {},
   "source": [
    "<div style=\"direction:rtl\"> \n",
    "    <font size=\"4\", color=\"red\">\n",
    "        در این قسمت میانگین تعداد جملات در توضیحات هر آگهی را بدست آورده و این مقدار را در شهرهای مورد نظر مقایسه می‌کنیم. برای این منظور از توکنایزر هزم استفاده می‌کنیم. \n",
    "    </font> \n",
    "</div>"
   ]
  },
  {
   "cell_type": "code",
   "execution_count": 478,
   "id": "8ad4ca94",
   "metadata": {},
   "outputs": [],
   "source": [
    "sentence_tokenizer = SentenceTokenizer()"
   ]
  },
  {
   "cell_type": "code",
   "execution_count": 479,
   "id": "81f9bcf6",
   "metadata": {},
   "outputs": [],
   "source": [
    "# calculate number of words per description\n",
    "posts['n_sentences'] = posts.Description.apply(\n",
    "    lambda desc: len(sentence_tokenizer.tokenize(desc))\n",
    ")"
   ]
  },
  {
   "cell_type": "code",
   "execution_count": 480,
   "id": "6661df8d",
   "metadata": {},
   "outputs": [],
   "source": [
    "n_sentences_per_city = posts.groupby(['city'])['n_sentences'].mean()"
   ]
  },
  {
   "cell_type": "code",
   "execution_count": 481,
   "id": "8aedbc57",
   "metadata": {},
   "outputs": [
    {
     "data": {
      "text/plain": [
       "'<p class= «kt-description-row__text kt-description-row__text--primary» >✴️دونبش\\n✴️ تک واحدی \\n✴️ از سه جهت غرق در نور\\n✴️ دسترسی و لوکیشن عالی\\n✴️ بازسازی، نقاشی و کاغذدیواری شده \\n✴️ سرویس و حمام صفر تا صد بازسازی شده\\n✴️ شیرآلات، روشویی، توالت ایرانی و فرنگی نو\\n✴️ انباری غیر سندی\\n✴️ بازدید هر ساعت از روز بدون معطلی\\n\\nمشاور شما سعید اختری زاده</p>'"
      ]
     },
     "execution_count": 481,
     "metadata": {},
     "output_type": "execute_result"
    }
   ],
   "source": [
    "posts.Description[0]"
   ]
  },
  {
   "cell_type": "markdown",
   "id": "1a8a3127",
   "metadata": {},
   "source": [
    "<div style=\"direction:rtl\"> \n",
    "    <font size=\"4\", color=\"red\">\n",
    "         همانطور که در نمودار زیر پیداست آگهی‌های املاک شهر تبریز در این بازه زمانی به طور میانگین بیشترین تعداد جمله‌ی استفاده شده را دارند. از طرف دیگر به ترتیب شهرهای ساری، محمودآباد و شیراز کمترین تعداد جمله‌ی استفاده شده در توضیحات آگهی‌های فروش املاک را دارند.\n",
    "    </font> \n",
    "</div>"
   ]
  },
  {
   "cell_type": "markdown",
   "id": "52fed05e",
   "metadata": {},
   "source": [
    "<div style=\"direction:rtl\"> \n",
    "    <font size=\"4\", color=\"red\">\n",
    "         اما نکته‌ای که قابل تامل است این است که در میانگین تعداد کلمات، شهر تهران سومین کمترین تعداد کلمه را به ازای هر آگهی داشت در صورت که از نظر تعداد جمله دومین بیشترین تعداد جمله را در خود دارد که می‌تواند نشان از این داشته باشد که افرادی که در تهران آگهی می‌گذارند، عموما از جملاتی با تعداد کلمات کمتر استفاده می‌کنند. عکس همین موضوع در شهر محمودآباد به چشم می‌خورد. برای بررسی این موضوع صحت این متریک را در قسمت بعد محاسبه و مقایسه می‌کنیم.\n",
    "    </font> \n",
    "</div>"
   ]
  },
  {
   "cell_type": "code",
   "execution_count": 486,
   "id": "3c7772a2",
   "metadata": {},
   "outputs": [
    {
     "data": {
      "image/png": "[encoded data removed]",
      "text/plain": [
       "<Figure size 720x576 with 1 Axes>"
      ]
     },
     "metadata": {
      "needs_background": "light"
     },
     "output_type": "display_data"
    }
   ],
   "source": [
    "_ = n_sentences_per_city.plot(kind='bar', \n",
    "                              title='Number of sentences per description', \n",
    "                              ylabel='Mean sentences count',\n",
    "                              xlabel='City', \n",
    "                              figsize=(10, 8))"
   ]
  },
  {
   "cell_type": "markdown",
   "id": "4c5f2f04",
   "metadata": {},
   "source": [
    "### Number of words per sentence"
   ]
  },
  {
   "cell_type": "markdown",
   "id": "00447dbe",
   "metadata": {},
   "source": [
    "<div style=\"direction:rtl\"> \n",
    "    <font size=\"4\", color=\"red\">\n",
    "         با توجه به حدسی که در قسمت قبل با توجه به نمودارها زده شد، در این قسمت میانگین تعداد کلمات بکار رفته در جملات را در هر یک از شهرها محاسبه و مقایسه می‌کنیم تا ببینیم آیا واقعا آگهی‌های املاکی که در شهر تهران گذاشته می‌شوند، دارای جملات کوتاه‌تری هستند؟\n",
    "    </font> \n",
    "</div>"
   ]
  },
  {
   "cell_type": "code",
   "execution_count": 483,
   "id": "031ea2c7",
   "metadata": {
    "scrolled": true
   },
   "outputs": [
    {
     "name": "stderr",
     "output_type": "stream",
     "text": [
      "<ipython-input-483-fa19d58b212d>:1: FutureWarning: Indexing with multiple keys (implicitly converted to a tuple of keys) will be deprecated, use a list instead.\n",
      "  n_words_per_sentence_per_city = posts.groupby(['city'])['n_words', 'n_sentences'].mean()\n"
     ]
    }
   ],
   "source": [
    "n_words_per_sentence_per_city = posts.groupby(['city'])['n_words', 'n_sentences'].mean()"
   ]
  },
  {
   "cell_type": "code",
   "execution_count": 484,
   "id": "c0acde73",
   "metadata": {},
   "outputs": [],
   "source": [
    "n_words_per_sentence_per_city = n_words_per_sentence_per_city.n_words / n_words_per_sentence_per_city.n_sentences"
   ]
  },
  {
   "cell_type": "markdown",
   "id": "bfdcc0c4",
   "metadata": {},
   "source": [
    "<div style=\"direction:rtl\"> \n",
    "    <font size=\"4\", color=\"red\">\n",
    "         همانطور که در نمودار زیر پیداست، می‌توان نتیجه گرفت که حدسمان درست بوده است و افراد در شهر تهران بیشتر از جملات کوتاه استفاده می‌کنند و سعی در خلاصه نوشتن جملات دارند.\n",
    "    </font> \n",
    "</div>"
   ]
  },
  {
   "cell_type": "markdown",
   "id": "b1c47ef8",
   "metadata": {},
   "source": [
    "<div style=\"direction:rtl\"> \n",
    "    <font size=\"4\", color=\"red\">\n",
    "        از طرف دیگر آگهی‌های املاک شهر محمودآباد دارای جملات با طول کلمات بیشتری هستند.\n",
    "    </font> \n",
    "</div>"
   ]
  },
  {
   "cell_type": "code",
   "execution_count": 487,
   "id": "baa2a246",
   "metadata": {},
   "outputs": [
    {
     "data": {
      "image/png": "[encoded data removed]",
      "text/plain": [
       "<Figure size 720x576 with 1 Axes>"
      ]
     },
     "metadata": {
      "needs_background": "light"
     },
     "output_type": "display_data"
    }
   ],
   "source": [
    "_ = n_words_per_sentence_per_city.plot(kind='bar', \n",
    "                              title='Number of words per sentence', \n",
    "                              ylabel='Mean number of words per sentences',\n",
    "                              xlabel='City', \n",
    "                              figsize=(10, 8))"
   ]
  },
  {
   "cell_type": "code",
   "execution_count": null,
   "id": "ce16edfe",
   "metadata": {},
   "outputs": [],
   "source": []
  },
  {
   "cell_type": "markdown",
   "id": "2d0a18a6",
   "metadata": {},
   "source": [
    "### Mean number of posts with instagram url"
   ]
  },
  {
   "cell_type": "markdown",
   "id": "6b5355c8",
   "metadata": {},
   "source": [
    "<div style=\"direction:rtl\"> \n",
    "    <font size=\"4\", color=\"red\">\n",
    "         در این قسمت به این می‌پردازیم که چه تعداد از پست‌های استخراج شده دارای username اینستاگرام و یا url ای از پست، استوری یا ... از اینستاگرام هستند که اگر این تعداد قابل توجه است، به منظور تمیز شدن و یکسان کردن آنها از یک توکن مثل INSTA به جای هر کدام استفاده کنیم.\n",
    "    </font> \n",
    "</div>"
   ]
  },
  {
   "cell_type": "markdown",
   "id": "bebd9c6c",
   "metadata": {},
   "source": [
    "<div style=\"direction:rtl\"> \n",
    "    <font size=\"4\", color=\"red\">\n",
    "        ابتدا به دنبال آگهی هایی که دارای username ای در خود هستند می‌گردیم که این عمل به کمک regex ای که برای آن نوشتم قابل بررسی است. همانطور که مشاهده می‌شود، این مورد فقط در یکی از آگهی‌ها آمده است که می‌توان نتیجه گرفت که نیازی به جایگزینی آنها با توکن دیگری نیست.\n",
    "    </font> \n",
    "</div>"
   ]
  },
  {
   "cell_type": "code",
   "execution_count": 488,
   "id": "f8d2e505",
   "metadata": {},
   "outputs": [],
   "source": [
    "has_instagram_user = posts.Description.apply(\n",
    "    lambda text: bool(re.search(r\"@(?!.*\\.\\.)(?!.*\\.$)[^\\W][a-zA-Z0-9._]{1,30}\", text))\n",
    ")"
   ]
  },
  {
   "cell_type": "code",
   "execution_count": 489,
   "id": "fd6e7f1c",
   "metadata": {},
   "outputs": [
    {
     "data": {
      "text/plain": [
       "1"
      ]
     },
     "execution_count": 489,
     "metadata": {},
     "output_type": "execute_result"
    }
   ],
   "source": [
    "sum(has_instagram_user)"
   ]
  },
  {
   "cell_type": "code",
   "execution_count": 490,
   "id": "fcaa9b90",
   "metadata": {},
   "outputs": [
    {
     "data": {
      "text/plain": [
       "'<p class= «kt-description-row__text kt-description-row__text--primary» >شمشک❄️\\n\\nفروش\\n\\n❌قیمت اکازیون❌\\n\\nبهترین لوکیشن\\n\\nساختمان ۹ طبقه\\n\\n۱۱۰ متر ۲خواب\\n\\n۱ خواب مستر\\n\\nواحدها بصورت نیم طبقه میباشد\\n\\nتراس قابل چیدمان\\n\\nویو بینظیر ابدی\\n\\nسند تک برگ بدون ریشه\\n\\nسرایدار مقیم\\n\\nلابی انباری آسانسور\\n\\n❌پارکینگ ندارد❌\\n\\nآرین\\n **************\\n\\u200f @Arian_home۱\\n\\n\\u200f\\n#لواسان#لواسانات#اوشان#فشم#میگون#میگون_نو#\\n#شمشک#دربندسر#پیست_اسکی #پیست_اسکی_شمشک #پیست_اسکی_دربندسر☃️❄☃️❄ #نوساز #لاکچری#لابی_لابی_من۲۴ساعته #تراس_قابل_چیدمان#لابی_مجلل#ویو_ابدی#ویو_پیست_اسکی#_آرین_هوم#آرین_هوم۱</p>'"
      ]
     },
     "execution_count": 490,
     "metadata": {},
     "output_type": "execute_result"
    }
   ],
   "source": [
    "posts[has_instagram_user].Description.iloc[0]"
   ]
  },
  {
   "cell_type": "markdown",
   "id": "d7a4ea2f",
   "metadata": {},
   "source": [
    "<div style=\"direction:rtl\"> \n",
    "    <font size=\"4\">\n",
    "        ابتدا به دنبال آگهی هایی که دارای url ای از اینستاگرام در خود هستند می‌گردیم که این عمل به کمک regex ای که برای آن نوشتم قابل بررسی است. سعی کردم در این regex تمامی حالات یک url اینستاگرام از جمله url اکانت، پست و استوری را پوشش درهم. همانطور که مشاهده می‌شود، این مورد فقط در هیچ کدام از آگهی‌ها نیامده است که می‌توان نتیجه گرفت که نیازی به جایگزینی آنها با توکن دیگری نیست. همچنین این مورد می‌تواند این احتمال را قوی کند که شاید سایت دیوار اجازه‌ی قرار دادن url ای از اینستاگرام را در خود نمی‌دهد.\n",
    "    </font> \n",
    "</div>"
   ]
  },
  {
   "cell_type": "code",
   "execution_count": 491,
   "id": "b111fa0d",
   "metadata": {},
   "outputs": [],
   "source": [
    "has_instagram_url = posts.Description.apply(\n",
    "    lambda text: bool(re.search(r\"(http:\\/\\/www\\.|https:\\/\\/www\\.|http:\\/\\/|https:\\/\\/|www.)?instagram.com(\\/\\w+)*(:\\w+)*(\\/?\\?(\\w+=\\w+)(&\\w+=\\w+)*)?\", text))\n",
    ")"
   ]
  },
  {
   "cell_type": "code",
   "execution_count": 492,
   "id": "76d54def",
   "metadata": {},
   "outputs": [
    {
     "data": {
      "text/plain": [
       "0"
      ]
     },
     "execution_count": 492,
     "metadata": {},
     "output_type": "execute_result"
    }
   ],
   "source": [
    "sum(has_instagram_url)"
   ]
  },
  {
   "cell_type": "markdown",
   "id": "3427f1c5",
   "metadata": {},
   "source": [
    "## Preprocessing Pipeline"
   ]
  },
  {
   "cell_type": "markdown",
   "id": "f6f89470",
   "metadata": {},
   "source": [
    "<div style=\"direction:rtl\"> \n",
    "    <font size=\"4\", color=\"red\">\n",
    "        در این قسمت تمامی transformer هایی که پیش از این نوشتیم را روی داده‌ی نورمالایز شده به صورت یک پایپ‌لاین sklearn اعمال می‌کنیم تا در نهایت به داده‌ی تمیز برسیم.\n",
    "    </font> \n",
    "</div>"
   ]
  },
  {
   "cell_type": "code",
   "execution_count": 493,
   "id": "a5190382",
   "metadata": {},
   "outputs": [],
   "source": [
    "preprocess_pipeline = Pipeline([\n",
    "    ('tag', RemoveTagTransformer()),\n",
    "    ('emoji', RemoveEmojiesTransformer(column_name='Description')),\n",
    "    ('desc', DescriptionTransformer(column_name='Description')),\n",
    "    ('sw', RemoveStopwordsTransformer(column_name='Description'))\n",
    "])"
   ]
  },
  {
   "cell_type": "code",
   "execution_count": 494,
   "id": "f66607d9",
   "metadata": {},
   "outputs": [],
   "source": [
    "posts = preprocess_pipeline.fit_transform(posts)"
   ]
  },
  {
   "cell_type": "code",
   "execution_count": null,
   "id": "0c141e9f",
   "metadata": {},
   "outputs": [],
   "source": []
  },
  {
   "cell_type": "markdown",
   "id": "6e6f7869",
   "metadata": {},
   "source": [
    "### Address in conversation"
   ]
  },
  {
   "cell_type": "markdown",
   "id": "0861a7b0",
   "metadata": {},
   "source": [
    "<div style=\"direction:rtl\"> \n",
    "    <font size=\"4\", color=\"red\">\n",
    "        در ادامه به کمک پکیج parsi.io بررسی می‌کنیم که نسبتی از آگهی‌های املاک هر شهر شامل آدرس ملک در توضیحات می‌باشند و همچنین نسبت تعداد آدرس به ازای یک آگهی را به ازای هر شهر محاسبه و مقایسه می‌کنیم.\n",
    "    </font> \n",
    "</div>"
   ]
  },
  {
   "cell_type": "code",
   "execution_count": 500,
   "id": "ed6bfaf3",
   "metadata": {},
   "outputs": [],
   "source": [
    "adr_extractor = AddressExtraction()"
   ]
  },
  {
   "cell_type": "code",
   "execution_count": 501,
   "id": "16c3d626",
   "metadata": {},
   "outputs": [],
   "source": [
    "# calculate number of words per description\n",
    "posts['addresses_in_conv'] = posts.Description.apply(\n",
    "    lambda desc: adr_extractor.run(desc)['address']\n",
    ")"
   ]
  },
  {
   "cell_type": "code",
   "execution_count": 502,
   "id": "6c6d302d",
   "metadata": {},
   "outputs": [],
   "source": [
    "posts['n_addresses_in_conv'] = posts.addresses_in_conv.apply(len)"
   ]
  },
  {
   "cell_type": "code",
   "execution_count": 503,
   "id": "72d46cff",
   "metadata": {},
   "outputs": [],
   "source": [
    "n_addresses_in_conv_per_city = posts.groupby(['city'])['n_addresses_in_conv'].mean()"
   ]
  },
  {
   "cell_type": "markdown",
   "id": "9a97f63e",
   "metadata": {},
   "source": [
    "<div style=\"direction:rtl\"> \n",
    "    <font size=\"4\", color=\"red\">\n",
    "        ابتدا نمودار تعداد آدرس به ازای یک آگهی را برای هر شهر محاسبه می‌کنیم. همانطور که در نمودار پیداست، در تبریز و سپس محمودآباد بیشترین تکرار آدرس و در مشهد کمترین تعداد تکرار آدرس در توضیحات آگهی وجود دارد.\n",
    "    </font> \n",
    "</div>"
   ]
  },
  {
   "cell_type": "code",
   "execution_count": 505,
   "id": "94d0e97e",
   "metadata": {},
   "outputs": [
    {
     "data": {
      "image/png": "[encoded data removed]",
      "text/plain": [
       "<Figure size 720x576 with 1 Axes>"
      ]
     },
     "metadata": {
      "needs_background": "light"
     },
     "output_type": "display_data"
    }
   ],
   "source": [
    "_ = n_addresses_in_conv_per_city.plot(kind='bar', \n",
    "                              title='Number of addresses', \n",
    "                              ylabel='Mean number of addresses per conversation',\n",
    "                              xlabel='City', \n",
    "                              figsize=(10, 8))"
   ]
  },
  {
   "cell_type": "code",
   "execution_count": 506,
   "id": "2bee9848",
   "metadata": {},
   "outputs": [],
   "source": [
    "posts['has_addresses_in_conv'] = posts.n_addresses_in_conv.apply(\n",
    "    lambda n: n>0\n",
    ")"
   ]
  },
  {
   "cell_type": "code",
   "execution_count": 507,
   "id": "358bebd2",
   "metadata": {},
   "outputs": [],
   "source": [
    "mean_posts_with_address_per_city = posts.groupby(['city'])['has_addresses_in_conv'].mean()"
   ]
  },
  {
   "cell_type": "markdown",
   "id": "cff994ca",
   "metadata": {},
   "source": [
    "<div style=\"direction:rtl\"> \n",
    "    <font size=\"4\", color=\"red\">\n",
    "        همانطور که در این نمودار پیداست، نسبت آگهی‌هایی که در توضیحات خود دارای آدرس هستند در محمودآباد و سپس تبریز بیشترین و در مشهد کمترین مقدار را دارد. تفاوت این نمودار با نمودار پیشین این است که نمودار پیشین تعداد آدرس آمده در یک آگهی را به صورت میانگین محاسبه می‌کند در صورتی که در این نمودار تنها آمدن و یا نیامدن آدرس در توضیحات آگهی مورد نظر است و چند بار آمدن آن مورد بررسی نیست.\n",
    "    </font> \n",
    "</div>"
   ]
  },
  {
   "cell_type": "code",
   "execution_count": 509,
   "id": "836a0fbe",
   "metadata": {},
   "outputs": [
    {
     "data": {
      "image/png": "[encoded data removed]",
      "text/plain": [
       "<Figure size 720x576 with 1 Axes>"
      ]
     },
     "metadata": {
      "needs_background": "light"
     },
     "output_type": "display_data"
    }
   ],
   "source": [
    "_ = mean_posts_with_address_per_city.plot(kind='bar', \n",
    "                                          title='Number of posts with addresses', \n",
    "                                          ylabel='Mean number of posts with address',\n",
    "                                          xlabel='City', \n",
    "                                          figsize=(10, 8))"
   ]
  },
  {
   "cell_type": "code",
   "execution_count": null,
   "id": "05597d32",
   "metadata": {},
   "outputs": [],
   "source": []
  },
  {
   "cell_type": "markdown",
   "id": "903d46ba",
   "metadata": {},
   "source": [
    "## Most common words"
   ]
  },
  {
   "cell_type": "code",
   "execution_count": 510,
   "id": "1a1c66fe",
   "metadata": {},
   "outputs": [],
   "source": [
    "tehran_posts = posts[posts.city == 'tehran']\n",
    "tabriz_posts = posts[posts.city == 'tabriz']\n",
    "isfahan_posts = posts[posts.city == 'isfahan']\n",
    "mashhad_posts = posts[posts.city == 'mashhad']\n",
    "sari_posts = posts[posts.city == 'sari']\n",
    "shiraz_posts = posts[posts.city == 'shiraz']\n",
    "mahmoodabad_posts = posts[posts.city == 'mahmoodabad']"
   ]
  },
  {
   "cell_type": "code",
   "execution_count": 511,
   "id": "b7c7b3b1",
   "metadata": {},
   "outputs": [
    {
     "name": "stderr",
     "output_type": "stream",
     "text": [
      "100%|██████████| 3167/3167 [00:00<00:00, 30566.82it/s]\n",
      "100%|██████████| 449/449 [00:00<00:00, 32078.67it/s]\n",
      "100%|██████████| 450/450 [00:00<00:00, 24868.73it/s]\n",
      "100%|██████████| 453/453 [00:00<00:00, 30577.42it/s]\n",
      "100%|██████████| 456/456 [00:00<00:00, 29648.62it/s]\n",
      "100%|██████████| 453/453 [00:00<00:00, 40141.54it/s]\n",
      "100%|██████████| 451/451 [00:00<00:00, 33281.10it/s]\n",
      "100%|██████████| 455/455 [00:00<00:00, 27478.88it/s]\n"
     ]
    }
   ],
   "source": [
    "all_posts_tokens = [word_tokenize(desc) for desc in tqdm.tqdm(posts.Description)]\n",
    "tehran_posts_tokens = [word_tokenize(desc) for desc in tqdm.tqdm(tehran_posts.Description)]\n",
    "tabriz_posts_tokens = [word_tokenize(desc) for desc in tqdm.tqdm(tabriz_posts.Description)]\n",
    "isfahan_posts_tokens = [word_tokenize(desc) for desc in tqdm.tqdm(isfahan_posts.Description)]\n",
    "mashhad_posts_tokens = [word_tokenize(desc) for desc in tqdm.tqdm(mashhad_posts.Description)]\n",
    "sari_posts_tokens = [word_tokenize(desc) for desc in tqdm.tqdm(sari_posts.Description)]\n",
    "shiraz_posts_tokens = [word_tokenize(desc) for desc in tqdm.tqdm(shiraz_posts.Description)]\n",
    "mahmoodabad_posts_tokens = [word_tokenize(desc) for desc in tqdm.tqdm(mahmoodabad_posts.Description)]"
   ]
  },
  {
   "cell_type": "code",
   "execution_count": 512,
   "id": "0373078c",
   "metadata": {},
   "outputs": [],
   "source": [
    "all_tokens = list(itertools.chain(*all_posts_tokens))\n",
    "tehran_tokens = list(itertools.chain(*tehran_posts_tokens))\n",
    "tabriz_tokens = list(itertools.chain(*tabriz_posts_tokens))\n",
    "isfahan_tokens = list(itertools.chain(*isfahan_posts_tokens))\n",
    "mashhad_tokens = list(itertools.chain(*mashhad_posts_tokens))\n",
    "sari_tokens = list(itertools.chain(*sari_posts_tokens))\n",
    "shiraz_tokens = list(itertools.chain(*shiraz_posts_tokens))\n",
    "mahmoodabad_tokens = list(itertools.chain(*mahmoodabad_posts_tokens))"
   ]
  },
  {
   "cell_type": "code",
   "execution_count": 513,
   "id": "fe5f9a08",
   "metadata": {},
   "outputs": [],
   "source": [
    "dataframe = {}\n",
    "\n",
    "for opt in ['all', 'tehran', 'tabriz', 'isfahan', 'mashhad', 'sari', 'shiraz', 'mahmoodabad']:\n",
    "    dataframe[opt] = FreqDist(eval(F\"{opt}_tokens\")).most_common(50)\n",
    "\n",
    "freq_analysis = pd.DataFrame(dataframe)"
   ]
  },
  {
   "cell_type": "code",
   "execution_count": 514,
   "id": "2344c796",
   "metadata": {},
   "outputs": [
    {
     "data": {
      "text/plain": [
       "mashhad        456\n",
       "mahmoodabad    455\n",
       "isfahan        453\n",
       "sari           453\n",
       "shiraz         451\n",
       "tabriz         450\n",
       "tehran         449\n",
       "Name: city, dtype: int64"
      ]
     },
     "execution_count": 514,
     "metadata": {},
     "output_type": "execute_result"
    }
   ],
   "source": [
    "posts.city.value_counts()"
   ]
  },
  {
   "cell_type": "markdown",
   "id": "05ab6502",
   "metadata": {},
   "source": [
    "<div style=\"direction:rtl\"> \n",
    "    <font size=\"4\", color=\"red\">\n",
    "        با دقت در جدول زیر می‌توان متوجه اطلاعات جالبی شد. به طور مثال اینکه به ترتیب در تهران و شیراز کلمات سالن و نقشه به نسبت دیگر شهر ها پرتکرارتر هستند. می‌توان از این مورد نتیجه گرفت که احتمالا در شهر های تهران و شیراز خوش نقشه بودن سالن واحد برای خریدار اهمیت بیشتری دارد که می‌توان این مورد را به گران بودن واحدها در تخران و شیراز نسبت داد و در ادامه‌ی آن کوچک‌تر بودن واحدها به نسبت دیگر شهرها اشاره کرد. \n",
    "    </font> \n",
    "</div>"
   ]
  },
  {
   "cell_type": "markdown",
   "id": "1a2e99c5",
   "metadata": {},
   "source": [
    "<div style=\"direction:rtl\"> \n",
    "    <font size=\"4\", color=\"red\">\n",
    "        یا اینکه در شهر ساری کلمه‌ی بنا به نسبت سایر شهر ها بسیار پرتکرار بوده است که می‌تواند نشان از پر اهمیت بودن بنا در خریداران شهر ساری داشته باشد. \n",
    "    </font> \n",
    "</div>"
   ]
  },
  {
   "cell_type": "markdown",
   "id": "65218590",
   "metadata": {},
   "source": [
    "<div style=\"direction:rtl\"> \n",
    "    <font size=\"4\", color=\"red\">\n",
    "        همچنین با دقت در کلمات کلیدی آگهی‌های شهر اصفهان، می‌توان به تکرار بسیار کلمه‌ی نور توجه کرد که به نسبت شهرهای دیگر در اصفهان بسیار پرتکرار بوده است که می‌تواند نشان از دغدغه‌ی نور در خریداران واحد در اصفهان داشته باشد. \n",
    "    </font> \n",
    "</div>"
   ]
  },
  {
   "cell_type": "markdown",
   "id": "d9119f54",
   "metadata": {},
   "source": [
    "<div style=\"direction:rtl\"> \n",
    "    <font size=\"4\", color=\"red\">\n",
    "        همچنین کلمات چوب و سنگ در شهر مشهد می‌توانند بسیار قابل توجه باشد. به صورتی که این دو کلمه در شهر مشهد جز پرتکرارترین کلمات هستند در صورتی که در شهرهای دیگر اصلا پرتکرار نیستند. این نکته می‌تواند نشان از علاقه‌ی خریداران واحد در مشهد به نماهای سنگ و چوب داشته باشد. \n",
    "    </font> \n",
    "</div>"
   ]
  },
  {
   "cell_type": "markdown",
   "id": "2852d8bf",
   "metadata": {},
   "source": [
    "<div style=\"direction:rtl\"> \n",
    "    <font size=\"4\", color=\"red\">\n",
    "        اگر به کلمات کلیدی و پرتکرار آگهی‌های شهر محمودآباد دقت کنیم، متوجه دو کلمه‌ی ساحل و دریا می‌شویم که با توجه به موقعیت جغرافیایی این شهر و نزدیک بودن آن به دریای خضر، بسیار نکات کلیدی‌ای در ارزش یک واحد در این شهر می‌باشند. \n",
    "    </font> \n",
    "</div>"
   ]
  },
  {
   "cell_type": "markdown",
   "id": "633a2548",
   "metadata": {},
   "source": [
    "<div style=\"direction:rtl\"> \n",
    "    <font size=\"4\", color=\"red\">\n",
    "        برای بررسی بیشتر می‌توان به متن آگهی‌هایی که کلمات خاصی را در یک شهر دارند توجه بیشتری کرد و نکاتی از آنها استخراج کرد. به عنوان مثال تعداد تکرار کلمه‌ی فروش در محمودآباد از تعداد آگهی‌های آن بیشتر است که تفاوت جالبی نسبت به دیگر شهر هاست. با بررسی آگهی‌های شهر محمودآباد و تمرکز روی جملاتی که در آنها کلمه‌ی فروش تکرار شده است می‌توان دلیل آنرا متوجه شد که در ادامه به بررسی این مورد خاص پرداخته می‌شود. \n",
    "    </font> \n",
    "</div>"
   ]
  },
  {
   "cell_type": "code",
   "execution_count": 516,
   "id": "2de4cad1",
   "metadata": {},
   "outputs": [
    {
     "data": {
      "text/html": [
       "<div>\n",
       "<style scoped>\n",
       "    .dataframe tbody tr th:only-of-type {\n",
       "        vertical-align: middle;\n",
       "    }\n",
       "\n",
       "    .dataframe tbody tr th {\n",
       "        vertical-align: top;\n",
       "    }\n",
       "\n",
       "    .dataframe thead th {\n",
       "        text-align: right;\n",
       "    }\n",
       "</style>\n",
       "<table border=\"1\" class=\"dataframe\">\n",
       "  <thead>\n",
       "    <tr style=\"text-align: right;\">\n",
       "      <th></th>\n",
       "      <th>all</th>\n",
       "      <th>tehran</th>\n",
       "      <th>tabriz</th>\n",
       "      <th>isfahan</th>\n",
       "      <th>mashhad</th>\n",
       "      <th>sari</th>\n",
       "      <th>shiraz</th>\n",
       "      <th>mahmoodabad</th>\n",
       "    </tr>\n",
       "  </thead>\n",
       "  <tbody>\n",
       "    <tr>\n",
       "      <th>0</th>\n",
       "      <td>(واحد, 2529)</td>\n",
       "      <td>(متر, 276)</td>\n",
       "      <td>(املاک, 515)</td>\n",
       "      <td>(املاک, 356)</td>\n",
       "      <td>(واحد, 259)</td>\n",
       "      <td>(طبقه, 365)</td>\n",
       "      <td>(املاک, 364)</td>\n",
       "      <td>(طبقه, 657)</td>\n",
       "    </tr>\n",
       "    <tr>\n",
       "      <th>1</th>\n",
       "      <td>(طبقه, 2013)</td>\n",
       "      <td>(واحد, 275)</td>\n",
       "      <td>(واحد, 429)</td>\n",
       "      <td>(واحد, 330)</td>\n",
       "      <td>(عالی, 246)</td>\n",
       "      <td>(واحد, 340)</td>\n",
       "      <td>(واحد, 343)</td>\n",
       "      <td>(فروش, 582)</td>\n",
       "    </tr>\n",
       "    <tr>\n",
       "      <th>2</th>\n",
       "      <td>(املاک, 1799)</td>\n",
       "      <td>(منطقه, 222)</td>\n",
       "      <td>(ملک, 297)</td>\n",
       "      <td>(عالی, 261)</td>\n",
       "      <td>(خواب, 202)</td>\n",
       "      <td>(پارکینگ, 234)</td>\n",
       "      <td>(عالی, 222)</td>\n",
       "      <td>(واحد, 553)</td>\n",
       "    </tr>\n",
       "    <tr>\n",
       "      <th>3</th>\n",
       "      <td>(فروش, 1495)</td>\n",
       "      <td>(سالن, 213)</td>\n",
       "      <td>(دارا, 280)</td>\n",
       "      <td>(طبقه, 240)</td>\n",
       "      <td>(دیوار, 199)</td>\n",
       "      <td>(متری, 185)</td>\n",
       "      <td>(خواب, 182)</td>\n",
       "      <td>(آپارتمان, 487)</td>\n",
       "    </tr>\n",
       "    <tr>\n",
       "      <th>4</th>\n",
       "      <td>(خواب, 1384)</td>\n",
       "      <td>(خواب, 212)</td>\n",
       "      <td>(فروش, 277)</td>\n",
       "      <td>(نور, 238)</td>\n",
       "      <td>(کابینت, 192)</td>\n",
       "      <td>(خواب, 184)</td>\n",
       "      <td>(نقشه, 167)</td>\n",
       "      <td>(کد, 385)</td>\n",
       "    </tr>\n",
       "    <tr>\n",
       "      <th>5</th>\n",
       "      <td>(آپارتمان, 1381)</td>\n",
       "      <td>(عالی, 201)</td>\n",
       "      <td>(طبقه, 252)</td>\n",
       "      <td>(تماس, 223)</td>\n",
       "      <td>(طبقه, 190)</td>\n",
       "      <td>(فروش, 176)</td>\n",
       "      <td>(آپارتمان, 163)</td>\n",
       "      <td>(خواب, 340)</td>\n",
       "    </tr>\n",
       "    <tr>\n",
       "      <th>6</th>\n",
       "      <td>(عالی, 1300)</td>\n",
       "      <td>(طبقه, 196)</td>\n",
       "      <td>(آدرس, 233)</td>\n",
       "      <td>(پارکینگ, 185)</td>\n",
       "      <td>(املاک, 190)</td>\n",
       "      <td>(عالی, 174)</td>\n",
       "      <td>(تماس, 162)</td>\n",
       "      <td>(شهر, 336)</td>\n",
       "    </tr>\n",
       "    <tr>\n",
       "      <th>7</th>\n",
       "      <td>(پارکینگ, 1217)</td>\n",
       "      <td>(پارکینگ, 187)</td>\n",
       "      <td>(تماس, 210)</td>\n",
       "      <td>(خواب, 182)</td>\n",
       "      <td>(متری, 163)</td>\n",
       "      <td>(متر, 171)</td>\n",
       "      <td>(سالن, 161)</td>\n",
       "      <td>(تعداد, 311)</td>\n",
       "    </tr>\n",
       "    <tr>\n",
       "      <th>8</th>\n",
       "      <td>(متر, 1182)</td>\n",
       "      <td>(نقشه, 184)</td>\n",
       "      <td>(دیوار, 197)</td>\n",
       "      <td>(آپارتمان, 181)</td>\n",
       "      <td>(سرامیک, 159)</td>\n",
       "      <td>(نما, 160)</td>\n",
       "      <td>(سند, 160)</td>\n",
       "      <td>(NUM, 307)</td>\n",
       "    </tr>\n",
       "    <tr>\n",
       "      <th>9</th>\n",
       "      <td>(تماس, 1138)</td>\n",
       "      <td>(نور, 163)</td>\n",
       "      <td>(سند, 194)</td>\n",
       "      <td>(متر, 167)</td>\n",
       "      <td>(کف, 158)</td>\n",
       "      <td>(آپارتمان, 156)</td>\n",
       "      <td>(جنوبی, 148)</td>\n",
       "      <td>(متری, 290)</td>\n",
       "    </tr>\n",
       "    <tr>\n",
       "      <th>10</th>\n",
       "      <td>(سند, 1121)</td>\n",
       "      <td>(دسترس, 162)</td>\n",
       "      <td>(وام, 191)</td>\n",
       "      <td>(دارا, 162)</td>\n",
       "      <td>(آپارتمان, 153)</td>\n",
       "      <td>(انباری, 151)</td>\n",
       "      <td>(کوچه, 143)</td>\n",
       "      <td>(سند, 273)</td>\n",
       "    </tr>\n",
       "    <tr>\n",
       "      <th>11</th>\n",
       "      <td>(متری, 1114)</td>\n",
       "      <td>(سند, 155)</td>\n",
       "      <td>(خرید, 186)</td>\n",
       "      <td>(ملک, 161)</td>\n",
       "      <td>(متر, 150)</td>\n",
       "      <td>(املاک, 143)</td>\n",
       "      <td>(_, 141)</td>\n",
       "      <td>(***********, 254)</td>\n",
       "    </tr>\n",
       "    <tr>\n",
       "      <th>12</th>\n",
       "      <td>(دارا, 996)</td>\n",
       "      <td>(تماس, 155)</td>\n",
       "      <td>(آپارتمان, 185)</td>\n",
       "      <td>(خیابان, 158)</td>\n",
       "      <td>(تماس, 142)</td>\n",
       "      <td>(***********, 143)</td>\n",
       "      <td>(ملک, 137)</td>\n",
       "      <td>(خرید, 251)</td>\n",
       "    </tr>\n",
       "    <tr>\n",
       "      <th>13</th>\n",
       "      <td>(ملک, 990)</td>\n",
       "      <td>(انباری, 147)</td>\n",
       "      <td>(دفتر, 169)</td>\n",
       "      <td>(مشاور, 153)</td>\n",
       "      <td>(نورگیر, 139)</td>\n",
       "      <td>(دارا, 141)</td>\n",
       "      <td>(فروش, 131)</td>\n",
       "      <td>(پارکینگ, 250)</td>\n",
       "    </tr>\n",
       "    <tr>\n",
       "      <th>14</th>\n",
       "      <td>(منطقه, 976)</td>\n",
       "      <td>(مشاور, 143)</td>\n",
       "      <td>(پارکینگ, 167)</td>\n",
       "      <td>(جنوبی, 141)</td>\n",
       "      <td>(نور, 135)</td>\n",
       "      <td>(قیمت, 137)</td>\n",
       "      <td>(مشاور, 128)</td>\n",
       "      <td>(قیمت, 244)</td>\n",
       "    </tr>\n",
       "    <tr>\n",
       "      <th>15</th>\n",
       "      <td>(قیمت, 974)</td>\n",
       "      <td>(قیمت, 143)</td>\n",
       "      <td>(کمد, 155)</td>\n",
       "      <td>(متری, 137)</td>\n",
       "      <td>(منطقه, 133)</td>\n",
       "      <td>(کابینت, 132)</td>\n",
       "      <td>(تک, 126)</td>\n",
       "      <td>(خانم, 224)</td>\n",
       "    </tr>\n",
       "    <tr>\n",
       "      <th>16</th>\n",
       "      <td>(***********, 876)</td>\n",
       "      <td>(دارا, 142)</td>\n",
       "      <td>(متر, 154)</td>\n",
       "      <td>(فروش, 137)</td>\n",
       "      <td>(سنگ, 131)</td>\n",
       "      <td>(آسانسور, 125)</td>\n",
       "      <td>(متری, 126)</td>\n",
       "      <td>(تک, 222)</td>\n",
       "    </tr>\n",
       "    <tr>\n",
       "      <th>17</th>\n",
       "      <td>(خرید, 837)</td>\n",
       "      <td>(امکانات, 125)</td>\n",
       "      <td>(کابینت, 154)</td>\n",
       "      <td>(تک, 134)</td>\n",
       "      <td>(چوب, 127)</td>\n",
       "      <td>(داشت#دار, 114)</td>\n",
       "      <td>(قیمت, 123)</td>\n",
       "      <td>(منطقه, 218)</td>\n",
       "    </tr>\n",
       "    <tr>\n",
       "      <th>18</th>\n",
       "      <td>(کابینت, 820)</td>\n",
       "      <td>(املاک, 121)</td>\n",
       "      <td>(داشت#دار, 145)</td>\n",
       "      <td>(نقشه, 128)</td>\n",
       "      <td>(پارکینگ, 119)</td>\n",
       "      <td>(نقشه, 109)</td>\n",
       "      <td>(نورگیر, 122)</td>\n",
       "      <td>(کارشناس, 210)</td>\n",
       "    </tr>\n",
       "    <tr>\n",
       "      <th>19</th>\n",
       "      <td>(تک, 811)</td>\n",
       "      <td>(لابی, 120)</td>\n",
       "      <td>(سهند, 143)</td>\n",
       "      <td>(انباری, 127)</td>\n",
       "      <td>(ملک, 115)</td>\n",
       "      <td>(کف, 109)</td>\n",
       "      <td>(منطقه, 117)</td>\n",
       "      <td>(️, 209)</td>\n",
       "    </tr>\n",
       "    <tr>\n",
       "      <th>20</th>\n",
       "      <td>(انباری, 810)</td>\n",
       "      <td>(آسانسور, 118)</td>\n",
       "      <td>(بود#باش, 143)</td>\n",
       "      <td>(سند, 126)</td>\n",
       "      <td>(نقشه, 115)</td>\n",
       "      <td>(نورگیر, 103)</td>\n",
       "      <td>(دارا, 115)</td>\n",
       "      <td>(ساحل, 206)</td>\n",
       "    </tr>\n",
       "    <tr>\n",
       "      <th>21</th>\n",
       "      <td>(نور, 796)</td>\n",
       "      <td>(فول, 118)</td>\n",
       "      <td>(عالی, 142)</td>\n",
       "      <td>(قیمت, 125)</td>\n",
       "      <td>(سند, 111)</td>\n",
       "      <td>(سند, 102)</td>\n",
       "      <td>(دیوار, 114)</td>\n",
       "      <td>(دریا, 201)</td>\n",
       "    </tr>\n",
       "    <tr>\n",
       "      <th>22</th>\n",
       "      <td>(دیوار, 796)</td>\n",
       "      <td>(***********, 116)</td>\n",
       "      <td>(کف, 141)</td>\n",
       "      <td>(امکانات, 118)</td>\n",
       "      <td>(تراس, 108)</td>\n",
       "      <td>(تماس, 99)</td>\n",
       "      <td>(طبقه, 113)</td>\n",
       "      <td>(متر, 179)</td>\n",
       "    </tr>\n",
       "    <tr>\n",
       "      <th>23</th>\n",
       "      <td>(نقشه, 762)</td>\n",
       "      <td>(متری, 110)</td>\n",
       "      <td>(رهن, 137)</td>\n",
       "      <td>(دسترس, 112)</td>\n",
       "      <td>(کمد, 105)</td>\n",
       "      <td>(امکانات, 85)</td>\n",
       "      <td>(رهن, 103)</td>\n",
       "      <td>(برگ, 171)</td>\n",
       "    </tr>\n",
       "    <tr>\n",
       "      <th>24</th>\n",
       "      <td>(مشاور, 722)</td>\n",
       "      <td>(لوکیشن, 109)</td>\n",
       "      <td>(منطقه, 129)</td>\n",
       "      <td>(خرید, 109)</td>\n",
       "      <td>(امکانات, 102)</td>\n",
       "      <td>(ساخت, 78)</td>\n",
       "      <td>(گرفت#گیر, 100)</td>\n",
       "      <td>(محمودآباد, 164)</td>\n",
       "    </tr>\n",
       "    <tr>\n",
       "      <th>25</th>\n",
       "      <td>(امکانات, 699)</td>\n",
       "      <td>(خرید, 106)</td>\n",
       "      <td>(قیمت, 123)</td>\n",
       "      <td>(شمال, 108)</td>\n",
       "      <td>(فروش, 101)</td>\n",
       "      <td>(تک, 76)</td>\n",
       "      <td>(نور, 99)</td>\n",
       "      <td>(انباری, 160)</td>\n",
       "    </tr>\n",
       "    <tr>\n",
       "      <th>26</th>\n",
       "      <td>(آسانسور, 691)</td>\n",
       "      <td>(بازدید, 101)</td>\n",
       "      <td>(مشاور, 121)</td>\n",
       "      <td>(گرفت#گیر, 104)</td>\n",
       "      <td>(NUM, 101)</td>\n",
       "      <td>(فول, 76)</td>\n",
       "      <td>(خیابان, 98)</td>\n",
       "      <td>(تماس, 147)</td>\n",
       "    </tr>\n",
       "    <tr>\n",
       "      <th>27</th>\n",
       "      <td>(دسترس, 684)</td>\n",
       "      <td>(خور, 94)</td>\n",
       "      <td>(پکیج, 112)</td>\n",
       "      <td>(کوچه, 101)</td>\n",
       "      <td>(آسانسور, 98)</td>\n",
       "      <td>(ملک, 74)</td>\n",
       "      <td>(کابینت, 91)</td>\n",
       "      <td>(ساخت, 145)</td>\n",
       "    </tr>\n",
       "    <tr>\n",
       "      <th>28</th>\n",
       "      <td>(کف, 642)</td>\n",
       "      <td>(تک, 92)</td>\n",
       "      <td>(نصب, 110)</td>\n",
       "      <td>(آدرس, 98)</td>\n",
       "      <td>(درب, 98)</td>\n",
       "      <td>(دی, 70)</td>\n",
       "      <td>(امکانات, 90)</td>\n",
       "      <td>(متراژ, 143)</td>\n",
       "    </tr>\n",
       "    <tr>\n",
       "      <th>29</th>\n",
       "      <td>(گرفت#گیر, 638)</td>\n",
       "      <td>(فروش, 91)</td>\n",
       "      <td>(جنوبی, 110)</td>\n",
       "      <td>(NUM, 96)</td>\n",
       "      <td>(رهن, 95)</td>\n",
       "      <td>(اف, 69)</td>\n",
       "      <td>(برگ, 87)</td>\n",
       "      <td>(آسانسور, 139)</td>\n",
       "    </tr>\n",
       "    <tr>\n",
       "      <th>30</th>\n",
       "      <td>(NUM, 635)</td>\n",
       "      <td>(ملک, 89)</td>\n",
       "      <td>(لوکس, 107)</td>\n",
       "      <td>(منطقه, 94)</td>\n",
       "      <td>(موقعیت, 94)</td>\n",
       "      <td>(اختصاص, 69)</td>\n",
       "      <td>(متر, 85)</td>\n",
       "      <td>(انشعابات, 139)</td>\n",
       "    </tr>\n",
       "    <tr>\n",
       "      <th>31</th>\n",
       "      <td>(خیابان, 611)</td>\n",
       "      <td>(مشاع, 87)</td>\n",
       "      <td>(خیابان, 105)</td>\n",
       "      <td>(کابینت, 94)</td>\n",
       "      <td>(***********, 94)</td>\n",
       "      <td>(گرفت#گیر, 68)</td>\n",
       "      <td>(مشابه, 84)</td>\n",
       "      <td>(مراکز, 139)</td>\n",
       "    </tr>\n",
       "    <tr>\n",
       "      <th>32</th>\n",
       "      <td>(کد, 596)</td>\n",
       "      <td>(پرده, 83)</td>\n",
       "      <td>(نور, 104)</td>\n",
       "      <td>(موقعیت, 94)</td>\n",
       "      <td>(فول, 90)</td>\n",
       "      <td>(تراس, 68)</td>\n",
       "      <td>(***********, 83)</td>\n",
       "      <td>(بنا, 138)</td>\n",
       "    </tr>\n",
       "    <tr>\n",
       "      <th>33</th>\n",
       "      <td>(شهر, 544)</td>\n",
       "      <td>(بالکن, 81)</td>\n",
       "      <td>(مجتمع, 103)</td>\n",
       "      <td>(***********, 93)</td>\n",
       "      <td>(مشاع, 88)</td>\n",
       "      <td>(سرامیک, 68)</td>\n",
       "      <td>(لوکیشن, 82)</td>\n",
       "      <td>(مدارک, 138)</td>\n",
       "    </tr>\n",
       "    <tr>\n",
       "      <th>34</th>\n",
       "      <td>(داشت#دار, 539)</td>\n",
       "      <td>(مناسب, 81)</td>\n",
       "      <td>(متری, 103)</td>\n",
       "      <td>(دیوار, 93)</td>\n",
       "      <td>(بازدید, 88)</td>\n",
       "      <td>(کوچه, 67)</td>\n",
       "      <td>(موجود, 82)</td>\n",
       "      <td>(طبقات, 134)</td>\n",
       "    </tr>\n",
       "    <tr>\n",
       "      <th>35</th>\n",
       "      <td>(کمد, 537)</td>\n",
       "      <td>(سرمایه, 79)</td>\n",
       "      <td>(شهر, 100)</td>\n",
       "      <td>(دفتر, 90)</td>\n",
       "      <td>(مسکن, 86)</td>\n",
       "      <td>(خیابان, 66)</td>\n",
       "      <td>(خوابه, 81)</td>\n",
       "      <td>(دسترس, 133)</td>\n",
       "    </tr>\n",
       "    <tr>\n",
       "      <th>36</th>\n",
       "      <td>(نورگیر, 526)</td>\n",
       "      <td>(️, 78)</td>\n",
       "      <td>(موقعیت, 100)</td>\n",
       "      <td>(سه, 86)</td>\n",
       "      <td>(نما, 85)</td>\n",
       "      <td>(مس, 64)</td>\n",
       "      <td>(دسترس, 80)</td>\n",
       "      <td>(گرفت#گیر, 120)</td>\n",
       "    </tr>\n",
       "    <tr>\n",
       "      <th>37</th>\n",
       "      <td>(آدرس, 519)</td>\n",
       "      <td>(فروشنده, 76)</td>\n",
       "      <td>(ساختمان, 98)</td>\n",
       "      <td>(اطلاعات, 84)</td>\n",
       "      <td>(پنجره, 84)</td>\n",
       "      <td>(دیوار, 63)</td>\n",
       "      <td>(تراس, 79)</td>\n",
       "      <td>(ملک, 117)</td>\n",
       "    </tr>\n",
       "    <tr>\n",
       "      <th>38</th>\n",
       "      <td>(تراس, 514)</td>\n",
       "      <td>(متریال, 72)</td>\n",
       "      <td>(گرفت#گیر, 97)</td>\n",
       "      <td>(لوکیشن, 83)</td>\n",
       "      <td>(گرفت#گیر, 83)</td>\n",
       "      <td>(منطقه, 63)</td>\n",
       "      <td>(قابلیت, 75)</td>\n",
       "      <td>(نصب, 117)</td>\n",
       "    </tr>\n",
       "    <tr>\n",
       "      <th>39</th>\n",
       "      <td>(جنوبی, 492)</td>\n",
       "      <td>(کارشناس, 71)</td>\n",
       "      <td>(سرامیک, 96)</td>\n",
       "      <td>(متریال, 81)</td>\n",
       "      <td>(دارا, 80)</td>\n",
       "      <td>(معاوضه, 62)</td>\n",
       "      <td>(پارکینگ, 75)</td>\n",
       "      <td>(املاک, 110)</td>\n",
       "    </tr>\n",
       "    <tr>\n",
       "      <th>40</th>\n",
       "      <td>(سرامیک, 489)</td>\n",
       "      <td>(کابینت, 70)</td>\n",
       "      <td>(تک, 95)</td>\n",
       "      <td>(مهندس, 80)</td>\n",
       "      <td>(انباری, 79)</td>\n",
       "      <td>(تخفیف, 62)</td>\n",
       "      <td>(تکمیل, 72)</td>\n",
       "      <td>(مس, 104)</td>\n",
       "    </tr>\n",
       "    <tr>\n",
       "      <th>41</th>\n",
       "      <td>(سالن, 483)</td>\n",
       "      <td>(قابلیت, 70)</td>\n",
       "      <td>(میباشد, 94)</td>\n",
       "      <td>(آسانسور, 77)</td>\n",
       "      <td>(قیمت, 79)</td>\n",
       "      <td>(ساختمان, 61)</td>\n",
       "      <td>(سه, 72)</td>\n",
       "      <td>(امکانات, 99)</td>\n",
       "    </tr>\n",
       "    <tr>\n",
       "      <th>42</th>\n",
       "      <td>(رهن, 475)</td>\n",
       "      <td>(دنج, 69)</td>\n",
       "      <td>(***********, 93)</td>\n",
       "      <td>(ساختمان, 77)</td>\n",
       "      <td>(#است, 78)</td>\n",
       "      <td>(اپارتمان, 61)</td>\n",
       "      <td>(کمد, 70)</td>\n",
       "      <td>(زمین, 96)</td>\n",
       "    </tr>\n",
       "    <tr>\n",
       "      <th>43</th>\n",
       "      <td>(بازدید, 471)</td>\n",
       "      <td>(دیوار, 67)</td>\n",
       "      <td>(انباری, 92)</td>\n",
       "      <td>(کف, 74)</td>\n",
       "      <td>(مس, 76)</td>\n",
       "      <td>(موقعیت, 60)</td>\n",
       "      <td>(بلوار, 69)</td>\n",
       "      <td>(اطلاعات, 96)</td>\n",
       "    </tr>\n",
       "    <tr>\n",
       "      <th>44</th>\n",
       "      <td>(کارشناس, 468)</td>\n",
       "      <td>(گرفت#گیر, 66)</td>\n",
       "      <td>(پرده, 92)</td>\n",
       "      <td>(تراس, 74)</td>\n",
       "      <td>(قابلیت, 74)</td>\n",
       "      <td>(پکیج, 58)</td>\n",
       "      <td>(واسطه, 67)</td>\n",
       "      <td>(امکان, 90)</td>\n",
       "    </tr>\n",
       "    <tr>\n",
       "      <th>45</th>\n",
       "      <td>(برگ, 464)</td>\n",
       "      <td>(چیدمان, 65)</td>\n",
       "      <td>(آسانسور, 90)</td>\n",
       "      <td>(فول, 73)</td>\n",
       "      <td>(خرید, 73)</td>\n",
       "      <td>(صفر, 56)</td>\n",
       "      <td>(موقعیت, 65)</td>\n",
       "      <td>(کابینت, 87)</td>\n",
       "    </tr>\n",
       "    <tr>\n",
       "      <th>46</th>\n",
       "      <td>(موقعیت, 456)</td>\n",
       "      <td>(مس, 62)</td>\n",
       "      <td>(تبریز, 89)</td>\n",
       "      <td>(داشت#دار, 72)</td>\n",
       "      <td>(اتاق, 72)</td>\n",
       "      <td>(خرید, 56)</td>\n",
       "      <td>(شمال, 64)</td>\n",
       "      <td>(ساختمان, 87)</td>\n",
       "    </tr>\n",
       "    <tr>\n",
       "      <th>47</th>\n",
       "      <td>(فول, 455)</td>\n",
       "      <td>(رهن, 62)</td>\n",
       "      <td>(دسترس, 85)</td>\n",
       "      <td>(خانه, 67)</td>\n",
       "      <td>(گاز, 71)</td>\n",
       "      <td>(ساری, 53)</td>\n",
       "      <td>(شخص, 63)</td>\n",
       "      <td>(خیابان, 85)</td>\n",
       "    </tr>\n",
       "    <tr>\n",
       "      <th>48</th>\n",
       "      <td>(ساختمان, 455)</td>\n",
       "      <td>(نوساز, 61)</td>\n",
       "      <td>(فاز, 84)</td>\n",
       "      <td>(میباشد, 66)</td>\n",
       "      <td>(میباشد, 69)</td>\n",
       "      <td>(وام, 52)</td>\n",
       "      <td>(ساز, 63)</td>\n",
       "      <td>(انتقال, 82)</td>\n",
       "    </tr>\n",
       "    <tr>\n",
       "      <th>49</th>\n",
       "      <td>(ساخت, 453)</td>\n",
       "      <td>(ساعته, 61)</td>\n",
       "      <td>(■, 84)</td>\n",
       "      <td>(_, 66)</td>\n",
       "      <td>(حاشیه, 68)</td>\n",
       "      <td>(سال, 52)</td>\n",
       "      <td>(لوکس, 62)</td>\n",
       "      <td>(دارا, 76)</td>\n",
       "    </tr>\n",
       "  </tbody>\n",
       "</table>\n",
       "</div>"
      ],
      "text/plain": [
       "                   all              tehran             tabriz  \\\n",
       "0         (واحد, 2529)          (متر, 276)       (املاک, 515)   \n",
       "1         (طبقه, 2013)         (واحد, 275)        (واحد, 429)   \n",
       "2        (املاک, 1799)        (منطقه, 222)         (ملک, 297)   \n",
       "3         (فروش, 1495)         (سالن, 213)        (دارا, 280)   \n",
       "4         (خواب, 1384)         (خواب, 212)        (فروش, 277)   \n",
       "5     (آپارتمان, 1381)         (عالی, 201)        (طبقه, 252)   \n",
       "6         (عالی, 1300)         (طبقه, 196)        (آدرس, 233)   \n",
       "7      (پارکینگ, 1217)      (پارکینگ, 187)        (تماس, 210)   \n",
       "8          (متر, 1182)         (نقشه, 184)       (دیوار, 197)   \n",
       "9         (تماس, 1138)          (نور, 163)         (سند, 194)   \n",
       "10         (سند, 1121)        (دسترس, 162)         (وام, 191)   \n",
       "11        (متری, 1114)          (سند, 155)        (خرید, 186)   \n",
       "12         (دارا, 996)         (تماس, 155)    (آپارتمان, 185)   \n",
       "13          (ملک, 990)       (انباری, 147)        (دفتر, 169)   \n",
       "14        (منطقه, 976)        (مشاور, 143)     (پارکینگ, 167)   \n",
       "15         (قیمت, 974)         (قیمت, 143)         (کمد, 155)   \n",
       "16  (***********, 876)         (دارا, 142)         (متر, 154)   \n",
       "17         (خرید, 837)      (امکانات, 125)      (کابینت, 154)   \n",
       "18       (کابینت, 820)        (املاک, 121)    (داشت#دار, 145)   \n",
       "19           (تک, 811)         (لابی, 120)        (سهند, 143)   \n",
       "20       (انباری, 810)      (آسانسور, 118)     (بود#باش, 143)   \n",
       "21          (نور, 796)          (فول, 118)        (عالی, 142)   \n",
       "22        (دیوار, 796)  (***********, 116)          (کف, 141)   \n",
       "23         (نقشه, 762)         (متری, 110)         (رهن, 137)   \n",
       "24        (مشاور, 722)       (لوکیشن, 109)       (منطقه, 129)   \n",
       "25      (امکانات, 699)         (خرید, 106)        (قیمت, 123)   \n",
       "26      (آسانسور, 691)       (بازدید, 101)       (مشاور, 121)   \n",
       "27        (دسترس, 684)           (خور, 94)        (پکیج, 112)   \n",
       "28           (کف, 642)            (تک, 92)         (نصب, 110)   \n",
       "29     (گرفت#گیر, 638)          (فروش, 91)       (جنوبی, 110)   \n",
       "30          (NUM, 635)           (ملک, 89)        (لوکس, 107)   \n",
       "31       (خیابان, 611)          (مشاع, 87)      (خیابان, 105)   \n",
       "32           (کد, 596)          (پرده, 83)         (نور, 104)   \n",
       "33          (شهر, 544)         (بالکن, 81)       (مجتمع, 103)   \n",
       "34     (داشت#دار, 539)         (مناسب, 81)        (متری, 103)   \n",
       "35          (کمد, 537)        (سرمایه, 79)         (شهر, 100)   \n",
       "36       (نورگیر, 526)             (️, 78)      (موقعیت, 100)   \n",
       "37         (آدرس, 519)       (فروشنده, 76)      (ساختمان, 98)   \n",
       "38         (تراس, 514)        (متریال, 72)     (گرفت#گیر, 97)   \n",
       "39        (جنوبی, 492)       (کارشناس, 71)       (سرامیک, 96)   \n",
       "40       (سرامیک, 489)        (کابینت, 70)           (تک, 95)   \n",
       "41         (سالن, 483)        (قابلیت, 70)       (میباشد, 94)   \n",
       "42          (رهن, 475)           (دنج, 69)  (***********, 93)   \n",
       "43       (بازدید, 471)         (دیوار, 67)       (انباری, 92)   \n",
       "44      (کارشناس, 468)      (گرفت#گیر, 66)         (پرده, 92)   \n",
       "45          (برگ, 464)        (چیدمان, 65)      (آسانسور, 90)   \n",
       "46       (موقعیت, 456)            (مس, 62)        (تبریز, 89)   \n",
       "47          (فول, 455)           (رهن, 62)        (دسترس, 85)   \n",
       "48      (ساختمان, 455)         (نوساز, 61)          (فاز, 84)   \n",
       "49         (ساخت, 453)         (ساعته, 61)            (■, 84)   \n",
       "\n",
       "              isfahan            mashhad                sari  \\\n",
       "0        (املاک, 356)        (واحد, 259)         (طبقه, 365)   \n",
       "1         (واحد, 330)        (عالی, 246)         (واحد, 340)   \n",
       "2         (عالی, 261)        (خواب, 202)      (پارکینگ, 234)   \n",
       "3         (طبقه, 240)       (دیوار, 199)         (متری, 185)   \n",
       "4          (نور, 238)      (کابینت, 192)         (خواب, 184)   \n",
       "5         (تماس, 223)        (طبقه, 190)         (فروش, 176)   \n",
       "6      (پارکینگ, 185)       (املاک, 190)         (عالی, 174)   \n",
       "7         (خواب, 182)        (متری, 163)          (متر, 171)   \n",
       "8     (آپارتمان, 181)      (سرامیک, 159)          (نما, 160)   \n",
       "9          (متر, 167)          (کف, 158)     (آپارتمان, 156)   \n",
       "10        (دارا, 162)    (آپارتمان, 153)       (انباری, 151)   \n",
       "11         (ملک, 161)         (متر, 150)        (املاک, 143)   \n",
       "12      (خیابان, 158)        (تماس, 142)  (***********, 143)   \n",
       "13       (مشاور, 153)      (نورگیر, 139)         (دارا, 141)   \n",
       "14       (جنوبی, 141)         (نور, 135)         (قیمت, 137)   \n",
       "15        (متری, 137)       (منطقه, 133)       (کابینت, 132)   \n",
       "16        (فروش, 137)         (سنگ, 131)      (آسانسور, 125)   \n",
       "17          (تک, 134)         (چوب, 127)     (داشت#دار, 114)   \n",
       "18        (نقشه, 128)     (پارکینگ, 119)         (نقشه, 109)   \n",
       "19      (انباری, 127)         (ملک, 115)           (کف, 109)   \n",
       "20         (سند, 126)        (نقشه, 115)       (نورگیر, 103)   \n",
       "21        (قیمت, 125)         (سند, 111)          (سند, 102)   \n",
       "22     (امکانات, 118)        (تراس, 108)          (تماس, 99)   \n",
       "23       (دسترس, 112)         (کمد, 105)       (امکانات, 85)   \n",
       "24        (خرید, 109)     (امکانات, 102)          (ساخت, 78)   \n",
       "25        (شمال, 108)        (فروش, 101)            (تک, 76)   \n",
       "26    (گرفت#گیر, 104)         (NUM, 101)           (فول, 76)   \n",
       "27        (کوچه, 101)      (آسانسور, 98)           (ملک, 74)   \n",
       "28         (آدرس, 98)          (درب, 98)            (دی, 70)   \n",
       "29          (NUM, 96)          (رهن, 95)            (اف, 69)   \n",
       "30        (منطقه, 94)       (موقعیت, 94)        (اختصاص, 69)   \n",
       "31       (کابینت, 94)  (***********, 94)      (گرفت#گیر, 68)   \n",
       "32       (موقعیت, 94)          (فول, 90)          (تراس, 68)   \n",
       "33  (***********, 93)         (مشاع, 88)        (سرامیک, 68)   \n",
       "34        (دیوار, 93)       (بازدید, 88)          (کوچه, 67)   \n",
       "35         (دفتر, 90)         (مسکن, 86)        (خیابان, 66)   \n",
       "36           (سه, 86)          (نما, 85)            (مس, 64)   \n",
       "37      (اطلاعات, 84)        (پنجره, 84)         (دیوار, 63)   \n",
       "38       (لوکیشن, 83)     (گرفت#گیر, 83)         (منطقه, 63)   \n",
       "39       (متریال, 81)         (دارا, 80)        (معاوضه, 62)   \n",
       "40        (مهندس, 80)       (انباری, 79)         (تخفیف, 62)   \n",
       "41      (آسانسور, 77)         (قیمت, 79)       (ساختمان, 61)   \n",
       "42      (ساختمان, 77)         (#است, 78)      (اپارتمان, 61)   \n",
       "43           (کف, 74)           (مس, 76)        (موقعیت, 60)   \n",
       "44         (تراس, 74)       (قابلیت, 74)          (پکیج, 58)   \n",
       "45          (فول, 73)         (خرید, 73)           (صفر, 56)   \n",
       "46     (داشت#دار, 72)         (اتاق, 72)          (خرید, 56)   \n",
       "47         (خانه, 67)          (گاز, 71)          (ساری, 53)   \n",
       "48       (میباشد, 66)       (میباشد, 69)           (وام, 52)   \n",
       "49            (_, 66)        (حاشیه, 68)           (سال, 52)   \n",
       "\n",
       "               shiraz         mahmoodabad  \n",
       "0        (املاک, 364)         (طبقه, 657)  \n",
       "1         (واحد, 343)         (فروش, 582)  \n",
       "2         (عالی, 222)         (واحد, 553)  \n",
       "3         (خواب, 182)     (آپارتمان, 487)  \n",
       "4         (نقشه, 167)           (کد, 385)  \n",
       "5     (آپارتمان, 163)         (خواب, 340)  \n",
       "6         (تماس, 162)          (شهر, 336)  \n",
       "7         (سالن, 161)        (تعداد, 311)  \n",
       "8          (سند, 160)          (NUM, 307)  \n",
       "9        (جنوبی, 148)         (متری, 290)  \n",
       "10        (کوچه, 143)          (سند, 273)  \n",
       "11           (_, 141)  (***********, 254)  \n",
       "12         (ملک, 137)         (خرید, 251)  \n",
       "13        (فروش, 131)      (پارکینگ, 250)  \n",
       "14       (مشاور, 128)         (قیمت, 244)  \n",
       "15          (تک, 126)         (خانم, 224)  \n",
       "16        (متری, 126)           (تک, 222)  \n",
       "17        (قیمت, 123)        (منطقه, 218)  \n",
       "18      (نورگیر, 122)      (کارشناس, 210)  \n",
       "19       (منطقه, 117)            (️, 209)  \n",
       "20        (دارا, 115)         (ساحل, 206)  \n",
       "21       (دیوار, 114)         (دریا, 201)  \n",
       "22        (طبقه, 113)          (متر, 179)  \n",
       "23         (رهن, 103)          (برگ, 171)  \n",
       "24    (گرفت#گیر, 100)    (محمودآباد, 164)  \n",
       "25          (نور, 99)       (انباری, 160)  \n",
       "26       (خیابان, 98)         (تماس, 147)  \n",
       "27       (کابینت, 91)         (ساخت, 145)  \n",
       "28      (امکانات, 90)        (متراژ, 143)  \n",
       "29          (برگ, 87)      (آسانسور, 139)  \n",
       "30          (متر, 85)     (انشعابات, 139)  \n",
       "31        (مشابه, 84)        (مراکز, 139)  \n",
       "32  (***********, 83)          (بنا, 138)  \n",
       "33       (لوکیشن, 82)        (مدارک, 138)  \n",
       "34        (موجود, 82)        (طبقات, 134)  \n",
       "35        (خوابه, 81)        (دسترس, 133)  \n",
       "36        (دسترس, 80)     (گرفت#گیر, 120)  \n",
       "37         (تراس, 79)          (ملک, 117)  \n",
       "38       (قابلیت, 75)          (نصب, 117)  \n",
       "39      (پارکینگ, 75)        (املاک, 110)  \n",
       "40        (تکمیل, 72)           (مس, 104)  \n",
       "41           (سه, 72)       (امکانات, 99)  \n",
       "42          (کمد, 70)          (زمین, 96)  \n",
       "43        (بلوار, 69)       (اطلاعات, 96)  \n",
       "44        (واسطه, 67)         (امکان, 90)  \n",
       "45       (موقعیت, 65)        (کابینت, 87)  \n",
       "46         (شمال, 64)       (ساختمان, 87)  \n",
       "47          (شخص, 63)        (خیابان, 85)  \n",
       "48          (ساز, 63)        (انتقال, 82)  \n",
       "49         (لوکس, 62)          (دارا, 76)  "
      ]
     },
     "execution_count": 516,
     "metadata": {},
     "output_type": "execute_result"
    }
   ],
   "source": [
    "freq_analysis"
   ]
  },
  {
   "cell_type": "markdown",
   "id": "b0c9dcd7",
   "metadata": {},
   "source": [
    "### Mahmoodabad posts with فروش word"
   ]
  },
  {
   "cell_type": "code",
   "execution_count": 533,
   "id": "49417112",
   "metadata": {},
   "outputs": [],
   "source": [
    "total_posts = get_concatenated_data()\n",
    "mahmood_abad_posts = total_posts[total_posts.city == 'mahmoodabad']\n",
    "mahmood_abad_posts.reset_index(drop=True, inplace=True)"
   ]
  },
  {
   "cell_type": "code",
   "execution_count": 536,
   "id": "c10f2602",
   "metadata": {},
   "outputs": [],
   "source": [
    "# calculate number of words per description\n",
    "mahmoodabad_sentences_with_sell = mahmood_abad_posts.Description.apply(\n",
    "    lambda desc: sentence_tokenizer.tokenize(desc)\n",
    ")"
   ]
  },
  {
   "cell_type": "code",
   "execution_count": 546,
   "id": "76e66550",
   "metadata": {},
   "outputs": [],
   "source": [
    "mahmoodabad_sentences_with_sell = np.concatenate(mahmoodabad_sentences_with_sell)"
   ]
  },
  {
   "cell_type": "code",
   "execution_count": 554,
   "id": "55d3a8e5",
   "metadata": {},
   "outputs": [],
   "source": [
    "mahmoodabad_sentences_with_sell = list(filter(lambda sent: 'فروش' in sent, mahmoodabad_sentences_with_sell))"
   ]
  },
  {
   "cell_type": "code",
   "execution_count": 555,
   "id": "93a10472",
   "metadata": {},
   "outputs": [
    {
     "data": {
      "text/plain": [
       "'<p class=\"kt-description-row__text kt-description-row__text--primary\">کد ۶۹۱ *اپارتمان طبقه اول* ۴ طبقه دو واحدی ۸۵ متر بنا دوخواب کابینت ام دی اف کف سرامیک فروشنامه ای</p>'"
      ]
     },
     "execution_count": 555,
     "metadata": {},
     "output_type": "execute_result"
    }
   ],
   "source": [
    "mahmoodabad_sentences_with_sell[0]"
   ]
  },
  {
   "cell_type": "markdown",
   "id": "6cb79a9f",
   "metadata": {},
   "source": [
    "<div style=\"direction:rtl\"> \n",
    "    <font size=\"4\", color=\"red\">\n",
    "         همانطور که در انتهای قسمت قبلی بیان شد، تصمیم گرفتم این مورد را به طور خاص بررسی کنم که دلیل تکرار بسیار زیاد کلمه‌ی فروش در آگهی‌های فروش آپارتمان در محمودآباد چیست. برای این منظور جملات آگهی‌هایی که در آنها کلمه‌ی فروش آمده است را مورد بررسی قرار دادم. برای این منظور یک سمپل ۲۰تایی از آنها را گرفتم و متن توضیحات آنها را خواندم. به صورت عمده کلمه‌ی فروش به دو صورت در آگهی‌های این شهر می‌آید. ۱. حالت اول این است که در توضیحات آگهی مجددا به فروشی بودن واحد اشاره می‌شود که این آگهی مختص فروش واحد ... است. ۲. حالت دوم هم به صورت مضاف‌الیه کلمه‌های کارشناس و مشاور به صورت کارشناس فروش و یا مشاور فروش می‌آید.\n",
    "    </font> \n",
    "</div>"
   ]
  },
  {
   "cell_type": "markdown",
   "id": "b0f89098",
   "metadata": {},
   "source": [
    "<div style=\"direction:rtl\"> \n",
    "    <font size=\"4\", color=\"red\">\n",
    "        با توجه به آنچه گفته شد به نظر می‌رسد دلیل این تکرار زیاد کلمه‌ی فروش به خاطر نوع جمله‌بندی‌ای است که در این شهر مرسوم شده است و کلمه‌ی فروش بار معنایی جداگانه‌ای به توضیحات اضافه نمی‌کند.\n",
    "    </font> \n",
    "</div>"
   ]
  },
  {
   "cell_type": "code",
   "execution_count": 558,
   "id": "56a8a436",
   "metadata": {},
   "outputs": [
    {
     "name": "stdout",
     "output_type": "stream",
     "text": [
      "<p class=\"kt-description-row__text kt-description-row__text--primary\">کد۴۳۰ درود به دوستان گرامی  ۴طبقه ۲ واحدی  فروش طبقه ۱ سند تکبرک  مدارک تکمیل آماده انتقال  شهری دسترسی به مراکز خرید و رفاهی  ۵دقیقه پیاده تا ساحل  ویلا آپارتمان زمین متناسب با بودجه وسلیقه و شرایط شما  خانم عزیزی مشاور امور ملکی در شمال در پناه خدا</p>\n",
      "\n",
      "####################################################################################################\n",
      "\n",
      "⭕  خرید بدون واسطه ازسازنده      برای کسب اطلاعات بیشتر و موارد مشابه تماس بگیرید             __________________              کد: A664  ////////    کارشناس فروش: خانم پهلوی   ***********  ⭕ ***********  ⭕ ***********</p>\n",
      "\n",
      "####################################################################################################\n",
      "\n",
      "<p class=\"kt-description-row__text kt-description-row__text--primary\">فروش آپارتمان نوساز کد:258 واحد 87 متر پارکینگ  انباری بالکن آسانسور طبقه اول  2 خوابه 1 خواب مستر فاصله با ساحل برند منطقه 100 متر کابینت و کمد هایگلاس درجه یک شیر و اتصالات نصب  تی وی وال مدرن و میز آرایش واحد دکور شده   سندتکبرگ\n",
      "\n",
      "####################################################################################################\n",
      "\n",
      "<p class=\"kt-description-row__text kt-description-row__text--primary\">فروش یک معامله نیست آغازیک تعهد است\n",
      "\n",
      "####################################################################################################\n",
      "\n",
      "<p class=\"kt-description-row__text kt-description-row__text--primary\">حسِ خوب خانه دار شدن ___▶◀ _____          # فروش آپارتمان _  ساحلی      در محدوده ی توریستی و ساحلی سرخرود                       _______      ⭕کد : 741 ====== محیط آرام و دور از اجاره شبانه و سروصدا  امکان دسترسی به دریا زیر 5 دقیقه  نزدیک بودن به مراکز خرید و امکانات رفاهی - درمانگاه        ---------------------------------------------- 120 متری  ⭐ تعداد طبقات: 3 طبقه  ⭐تعداد واحدها: 1 واحدی  ⭐تعداد خواب: 2 خواب   ⭐طبقه قابل فروش : طبقه 3 ⭐انشعابات نصب: آب - برق -گاز  -----------------------------------©         ⭕  خرید بدون واسطه ازسازنده      برای کسب اطلاعات بیشتر و موارد مشابه تماس بگیرید             __________________              کد: A561 ////////    کارشناس فروش: خانم پهلوی   ***********  ⭕ ***********  ⭕ ***********⭕</p>\n",
      "\n",
      "####################################################################################################\n",
      "\n",
      "<p class=\"kt-description-row__text kt-description-row__text--primary\">کدA553 درود به دوستان گرامی  فروش با شرایط  خیابان معلم  ۳ دقیقه تا دریا پیاده  دسترسی آسان به امکانات شهری و مراکز خرید  ۴طبقه ۳ واحدی فروش طبقه ۳ انشعابات نصب  فول امکانات  مدارک تکمیل خانم عزیزی مشاورامورملکی در شمال در پناه خدا  ویلا آپارتمان زمین متناسب با بودجه و شرایط شما</p>\n",
      "\n",
      "####################################################################################################\n",
      "\n",
      "<p class=\"kt-description-row__text kt-description-row__text--primary\">کد۴۰۸ فروش ویژه به مدت ۱۰ روز درود به دوستان گرامی  ۸۰ متر طبقه ۲ ۴طبقه ۲واحدی  کل واحدها ۷ ۲خواب تراس سند تکبرگ بازسازی شده کامل  این مورد واز دست ندید ویلا آپارتمان زمین متناسب با بودجه و شرایط شما  خانم عزیزی مشاورامورملکی در شمال در پناه خدا</p>\n",
      "\n",
      "####################################################################################################\n",
      "\n",
      "طبقه دوم قابل فروش\n",
      "\n",
      "####################################################################################################\n",
      "\n",
      "<p class=\"kt-description-row__text kt-description-row__text--primary\">کد۳۹۳ درود به دوستان گرامی  ۳طبقه تک واحدی  فروش طبقه ۲ پارکینگ ۲خواب روف داخل شهر دسترسی به مراکز خرید و رفاهی و نزدیک دریا  سندتکبرگ  مدارک تکمیل آماده انتقال  ویلا آپارتمان زمین متناسب با بودجه وسلیقه و شرایط شما  خانم عزیزی مشاور امور ملکی در شمال در پناه خدا</p>\n",
      "\n",
      "####################################################################################################\n",
      "\n",
      "<p class=\"kt-description-row__text kt-description-row__text--primary\">فروش آپارتمان ساحلی نوساز کد:257 ♦️شمالی ساحلی ♦️متراژ 128 متر ♦️طبقه 2از 7  ♦️دو واحدی ♦️اتاق 2 ♦️یک خواب مستر ♦️ساخت ۱۴۰۱ ♦️اسپلیت / شوفاژ ♦️کف سرامیک ♦️سرویس ایرانی و فرنگی ♦️ویو دریا و جنگل ♦️آسانسور ♦️پارکینگ  ♦️انباری ♦️نگهبانی ♦️تراس بزرگ  ♦️کمد دیواری ♦️سند تک برگ\n",
      "\n",
      "####################################################################################################\n",
      "\n",
      "<p class=\"kt-description-row__text kt-description-row__text--primary\">فروش یکی از بهترین اپارتمان های سه خواب منطقه\n",
      "\n",
      "####################################################################################################\n",
      "\n",
      "<p class=\"kt-description-row__text kt-description-row__text--primary\">کد ۰۰۲۰۵ فروش ویژه ی آپارتمان شهری  محمودآباد ، خیابان معلم  ۹۰ متری  طبقه ی ۲  ۴ طبقه ، ۸ واحدی  سند تکبرگ دو خواب  پارکینگ  آسانسور  بالکن امکان بازدید همه روزه تخفیف به خریدار واقعی فروش نقد و اقساط قیمت درج شده واقعی است نورا سپهری ، کارشناس فروش املاک در مازندران</p>\n",
      "\n",
      "####################################################################################################\n",
      "\n",
      "کد#186  ایزدشهر ساحلی  متراژ ۱۱۸ متر  طبقه اول  در چهار طبقه دو واحدی  سند شش دانگ  پشت بام روف و آلاچیق     --------------------- کارشناس ومشاورفروش: مجید فراهانی           --------------------- آدرس دفتر: مازندران،ایردشهر،بین گلستان۱۸و۱۹،جنب فروشگاه کورش،املاک لیان</p>\n",
      "\n",
      "####################################################################################################\n",
      "\n",
      "⭕  خرید بدون واسطه ازسازنده      برای کسب اطلاعات بیشتر و موارد مشابه تماس بگیرید             __________________              کد: A494 ////////    کارشناس فروش: خانم پهلوی   ***********  ⭕ ***********  ⭕ ***********</p>\n",
      "\n",
      "####################################################################################################\n",
      "\n",
      "کارشناس فروش خانم باقری</p>\n",
      "\n",
      "####################################################################################################\n",
      "\n",
      "مشاور فروش مهرداد  ✨✨✨✨✨✨✨✨✨✨✨✨✨✨✨</p>\n",
      "\n",
      "####################################################################################################\n",
      "\n",
      "‍مشاور شما در زمینه خرید و فروش\n",
      "\n",
      "####################################################################################################\n",
      "\n",
      "تمام فایل های این مجموعه  با ارتباط مستقیم ما با مالک،  و ❌فروش فوری ❌\n",
      "\n",
      "####################################################################################################\n",
      "\n",
      "<p class=\"kt-description-row__text kt-description-row__text--primary\">♻️♻️برای انتخاب یهترینها با ما همراه شوید♻️♻️ ⭕کد ۳۲۰ _________ ✅آپارتمان شهری ✅محمود آباد/ شهری// طبقه ۲ ✅۳  طبقه ۱ واحدی:::: ✅::: ۸۵ متری ✅۱خواب  ✅کابینت:: کمد دیواری:: هود::: ✅:: پارکینگ:: انباری ✅:::::: سند تک برگ::::::: ✅پروانه ساخت:: پایان کار ✅دارای انشعابات نصب :✔::::::::: قیمت با احترام  ۱/۱۰۰ میلیارد:::::::✔: ____________ ♻️خرید ایمن  ♻️فروش راحت ♻️سرمایه گذاری مطمعن ___________________ ☎️برای اطلاعات بیشتر با ما تماس بگیرید ✔مشاور فروش خانم سیفی ***********☎️ :::::::::::::::⚜ اعتماد شما اعتبار ماست⚜::::::::::::: _✔_________ بازدید حضوری___________</p>\n",
      "\n",
      "####################################################################################################\n",
      "\n",
      "<p class=\"kt-description-row__text kt-description-row__text--primary\">حسِ خوب خانه دار شدن ___▶◀ _____          # فروش آپارتمان _ شهری      در منطقه ی توریستی و ساحلی محمودآباد                       _______      ⭕کد : 697 ====== محیط آرام و دور از اجاره شبانه و سروصدا  امکان دسترسی به دریا زیر 5 دقیقه  نزدیک بودن به مراکز خرید و امکانات رفاهی - درمانگاه  فایل اکازیون شهری        ----------------------------------------------   115 متری  ⭐تعداد خواب: 2 خواب  ⭐طبقه قابل فروش : طبقه 1 ⭐انشعابات نصب: آب - برق -گاز  -----------------------------------©  مدارک کامل : سند تک برگ / پروانه ساخت / پایان کار\n",
      "\n",
      "####################################################################################################\n",
      "\n"
     ]
    }
   ],
   "source": [
    "for desc in random.sample(mahmoodabad_sentences_with_sell, 20):\n",
    "    print(desc)\n",
    "    print('\\n' + '#'*100 + '\\n')"
   ]
  },
  {
   "cell_type": "code",
   "execution_count": null,
   "id": "572f9933",
   "metadata": {},
   "outputs": [],
   "source": []
  },
  {
   "cell_type": "code",
   "execution_count": null,
   "id": "d5bee1d8",
   "metadata": {},
   "outputs": [],
   "source": []
  }
 ],
 "metadata": {
  "kernelspec": {
   "display_name": "Python 3",
   "language": "python",
   "name": "python3"
  },
  "language_info": {
   "codemirror_mode": {
    "name": "ipython",
    "version": 3
   },
   "file_extension": ".py",
   "mimetype": "text/x-python",
   "name": "python",
   "nbconvert_exporter": "python",
   "pygments_lexer": "ipython3",
   "version": "3.8.8"
  }
 },
 "nbformat": 4,
 "nbformat_minor": 5
}
