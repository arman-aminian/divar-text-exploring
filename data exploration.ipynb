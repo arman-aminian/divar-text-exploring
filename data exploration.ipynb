{
 "cells": [
  {
   "cell_type": "markdown",
   "id": "b6d3374f",
   "metadata": {},
   "source": [
    "# Install packages"
   ]
  },
  {
   "cell_type": "code",
   "execution_count": 46,
   "id": "021fae7f",
   "metadata": {},
   "outputs": [],
   "source": [
    "###\n",
    "###\n",
    "# install requirements\n",
    "###\n",
    "###"
   ]
  },
  {
   "cell_type": "markdown",
   "id": "88e23e57",
   "metadata": {},
   "source": [
    "# Import packages"
   ]
  },
  {
   "cell_type": "code",
   "execution_count": 315,
   "id": "94619b97",
   "metadata": {},
   "outputs": [],
   "source": [
    "import random\n",
    "import numpy as np\n",
    "import pandas as pd\n",
    "import re\n",
    "import tqdm\n",
    "import itertools\n",
    "from nltk import FreqDist\n",
    "\n",
    "from sklearn.base import BaseEstimator, TransformerMixin\n",
    "from sklearn.pipeline import Pipeline\n",
    "\n",
    "from hazm import Normalizer, Stemmer, Lemmatizer\n",
    "from hazm import WordTokenizer, SentenceTokenizer, word_tokenize\n",
    "import emoji"
   ]
  },
  {
   "cell_type": "markdown",
   "id": "d5a60c4a",
   "metadata": {},
   "source": [
    "# Data loading"
   ]
  },
  {
   "cell_type": "code",
   "execution_count": 364,
   "id": "60e05251",
   "metadata": {},
   "outputs": [],
   "source": [
    "tehran_posts = pd.read_csv('data/tehran-apartment-sell-posts.csv')\n",
    "mashhad_posts = pd.read_csv('data/mashhad-apartment-sell-posts.csv')\n",
    "isfahan_posts = pd.read_csv('data/isfahan-apartment-sell-posts.csv')\n",
    "ardabil_posts = pd.read_csv('data/ardabil-apartment-sell-posts.csv')\n",
    "tabriz_posts = pd.read_csv('data/tabriz-apartment-sell-posts.csv')\n",
    "shiraz_posts = pd.read_csv('data/shiraz-apartment-sell-posts.csv')"
   ]
  },
  {
   "cell_type": "code",
   "execution_count": 366,
   "id": "00b2133d",
   "metadata": {},
   "outputs": [],
   "source": [
    "tehran_posts['city'] = 'tehran'\n",
    "mashhad_posts['city'] = 'mashhad'\n",
    "isfahan_posts['city'] = 'isfahan'\n",
    "ardabil_posts['city'] = 'ardabil'\n",
    "tabriz_posts['city'] = 'tabriz'\n",
    "shiraz_posts['city'] = 'shiraz'"
   ]
  },
  {
   "cell_type": "code",
   "execution_count": 367,
   "id": "45c2fd6a",
   "metadata": {},
   "outputs": [],
   "source": [
    "posts = pd.concat([tehran_posts, mashhad_posts, isfahan_posts, ardabil_posts, tabriz_posts, shiraz_posts], ignore_index=True)"
   ]
  },
  {
   "cell_type": "markdown",
   "id": "cb38151a",
   "metadata": {},
   "source": [
    "# Clean data"
   ]
  },
  {
   "cell_type": "code",
   "execution_count": 368,
   "id": "79d32560",
   "metadata": {},
   "outputs": [
    {
     "data": {
      "text/html": [
       "<div>\n",
       "<style scoped>\n",
       "    .dataframe tbody tr th:only-of-type {\n",
       "        vertical-align: middle;\n",
       "    }\n",
       "\n",
       "    .dataframe tbody tr th {\n",
       "        vertical-align: top;\n",
       "    }\n",
       "\n",
       "    .dataframe thead th {\n",
       "        text-align: right;\n",
       "    }\n",
       "</style>\n",
       "<table border=\"1\" class=\"dataframe\">\n",
       "  <thead>\n",
       "    <tr style=\"text-align: right;\">\n",
       "      <th></th>\n",
       "      <th>Area</th>\n",
       "      <th>Construction</th>\n",
       "      <th>Room</th>\n",
       "      <th>Warehouse</th>\n",
       "      <th>Parking</th>\n",
       "      <th>Elevator</th>\n",
       "      <th>Address</th>\n",
       "      <th>Price</th>\n",
       "      <th>Description</th>\n",
       "      <th>city</th>\n",
       "    </tr>\n",
       "  </thead>\n",
       "  <tbody>\n",
       "    <tr>\n",
       "      <th>0</th>\n",
       "      <td>63</td>\n",
       "      <td>1375</td>\n",
       "      <td>1</td>\n",
       "      <td>False</td>\n",
       "      <td>False</td>\n",
       "      <td>True</td>\n",
       "      <td>دقایقی پیش در تهران، شمشیری، خیابان شمشیری (ب....</td>\n",
       "      <td>۱٬۶۰۰٬۰۰۰٬۰۰۰ تومان</td>\n",
       "      <td>&lt;p class=\"kt-description-row__text kt-descript...</td>\n",
       "      <td>tehran</td>\n",
       "    </tr>\n",
       "    <tr>\n",
       "      <th>1</th>\n",
       "      <td>180</td>\n",
       "      <td>1393</td>\n",
       "      <td>3</td>\n",
       "      <td>True</td>\n",
       "      <td>True</td>\n",
       "      <td>True</td>\n",
       "      <td>دقایقی پیش در تهران، شیان | فروش آپارتمان</td>\n",
       "      <td>۱۴٬۰۰۰٬۰۰۰٬۰۰۰ تومان</td>\n",
       "      <td>&lt;p class=\"kt-description-row__text kt-descript...</td>\n",
       "      <td>tehran</td>\n",
       "    </tr>\n",
       "    <tr>\n",
       "      <th>2</th>\n",
       "      <td>38</td>\n",
       "      <td>1380</td>\n",
       "      <td>1</td>\n",
       "      <td>False</td>\n",
       "      <td>False</td>\n",
       "      <td>True</td>\n",
       "      <td>دقایقی پیش در تهران، پلیس | فروش آپارتمان</td>\n",
       "      <td>۱٬۳۸۰٬۰۰۰٬۰۰۰ تومان</td>\n",
       "      <td>&lt;p class=\"kt-description-row__text kt-descript...</td>\n",
       "      <td>tehran</td>\n",
       "    </tr>\n",
       "    <tr>\n",
       "      <th>3</th>\n",
       "      <td>88</td>\n",
       "      <td>1384</td>\n",
       "      <td>2</td>\n",
       "      <td>True</td>\n",
       "      <td>True</td>\n",
       "      <td>True</td>\n",
       "      <td>دقایقی پیش در تهران، تهران‌نو | فروش آپارتمان</td>\n",
       "      <td>۳٬۵۰۰٬۰۰۰٬۰۰۰ تومان</td>\n",
       "      <td>&lt;p class=\"kt-description-row__text kt-descript...</td>\n",
       "      <td>tehran</td>\n",
       "    </tr>\n",
       "    <tr>\n",
       "      <th>4</th>\n",
       "      <td>40</td>\n",
       "      <td>1393</td>\n",
       "      <td>1</td>\n",
       "      <td>True</td>\n",
       "      <td>True</td>\n",
       "      <td>True</td>\n",
       "      <td>دقایقی پیش در تهران، بریانک | فروش آپارتمان</td>\n",
       "      <td>۱٬۴۲۰٬۰۰۰٬۰۰۰ تومان</td>\n",
       "      <td>&lt;p class=\"kt-description-row__text kt-descript...</td>\n",
       "      <td>tehran</td>\n",
       "    </tr>\n",
       "  </tbody>\n",
       "</table>\n",
       "</div>"
      ],
      "text/plain": [
       "  Area Construction Room Warehouse Parking Elevator  \\\n",
       "0   63         1375    1     False   False     True   \n",
       "1  180         1393    3      True    True     True   \n",
       "2   38         1380    1     False   False     True   \n",
       "3   88         1384    2      True    True     True   \n",
       "4   40         1393    1      True    True     True   \n",
       "\n",
       "                                             Address                 Price  \\\n",
       "0  دقایقی پیش در تهران، شمشیری، خیابان شمشیری (ب....   ۱٬۶۰۰٬۰۰۰٬۰۰۰ تومان   \n",
       "1          دقایقی پیش در تهران، شیان | فروش آپارتمان  ۱۴٬۰۰۰٬۰۰۰٬۰۰۰ تومان   \n",
       "2          دقایقی پیش در تهران، پلیس | فروش آپارتمان   ۱٬۳۸۰٬۰۰۰٬۰۰۰ تومان   \n",
       "3      دقایقی پیش در تهران، تهران‌نو | فروش آپارتمان   ۳٬۵۰۰٬۰۰۰٬۰۰۰ تومان   \n",
       "4        دقایقی پیش در تهران، بریانک | فروش آپارتمان   ۱٬۴۲۰٬۰۰۰٬۰۰۰ تومان   \n",
       "\n",
       "                                         Description    city  \n",
       "0  <p class=\"kt-description-row__text kt-descript...  tehran  \n",
       "1  <p class=\"kt-description-row__text kt-descript...  tehran  \n",
       "2  <p class=\"kt-description-row__text kt-descript...  tehran  \n",
       "3  <p class=\"kt-description-row__text kt-descript...  tehran  \n",
       "4  <p class=\"kt-description-row__text kt-descript...  tehran  "
      ]
     },
     "execution_count": 368,
     "metadata": {},
     "output_type": "execute_result"
    }
   ],
   "source": [
    "posts.head()"
   ]
  },
  {
   "cell_type": "code",
   "execution_count": 369,
   "id": "f2dd4917",
   "metadata": {},
   "outputs": [
    {
     "name": "stdout",
     "output_type": "stream",
     "text": [
      "<class 'pandas.core.frame.DataFrame'>\n",
      "RangeIndex: 3169 entries, 0 to 3168\n",
      "Data columns (total 10 columns):\n",
      " #   Column        Non-Null Count  Dtype \n",
      "---  ------        --------------  ----- \n",
      " 0   Area          3169 non-null   object\n",
      " 1   Construction  3169 non-null   object\n",
      " 2   Room          3169 non-null   object\n",
      " 3   Warehouse     3169 non-null   object\n",
      " 4   Parking       3169 non-null   object\n",
      " 5   Elevator      3169 non-null   object\n",
      " 6   Address       3169 non-null   object\n",
      " 7   Price         3169 non-null   object\n",
      " 8   Description   3169 non-null   object\n",
      " 9   city          3169 non-null   object\n",
      "dtypes: object(10)\n",
      "memory usage: 247.7+ KB\n"
     ]
    }
   ],
   "source": [
    "posts.info()"
   ]
  },
  {
   "cell_type": "code",
   "execution_count": 375,
   "id": "ef9f4bad",
   "metadata": {
    "scrolled": false
   },
   "outputs": [
    {
     "name": "stdout",
     "output_type": "stream",
     "text": [
      "<p class=\"kt-description-row__text kt-description-row__text--primary\">✅۵ طبقه ۱۵ واحد \n",
      "✅طبقه اول گرمایش از کف \n",
      "✅موقعیت مکانی فوق العاده عالی \n",
      "✅سرامیک\n",
      "✅ کابینت چوب \n",
      "✅۲خواب یک خواب مستر \n",
      "✅تراس بزرگ\n",
      "✅نورگیر ۲ نبش \n",
      "✅مشاعات و فیلتر ها تمام سنگ \n",
      "✅پارکینگ و انباری اختصاصی \n",
      "✅کاغذ دیواری ترکیبی \n",
      "✅گاز رو کار و هود لمسی \n",
      "✅سرویس ایرانی و فرنگی \n",
      "✅کمد دیواری چوب و جادار\n",
      "✅قابلیت رهن تا ۵۰۰ میلیون \n",
      "✅دفتر نبش سجادیه ۱۷ مسکن فراز \n",
      "☑همکاران محترم تماس نفرمایید ☑\n",
      "مشاور شما علیزاده</p>\n",
      "####################################################################################################\n",
      "<p class=\"kt-description-row__text kt-description-row__text--primary\">بنام خدا\n",
      "\n",
      "۶۰ متر تکخواب / ۳ تا پله  به پایین\n",
      "\n",
      "سالن مربع و بزرگ / بسیار خوش نقش \n",
      "\n",
      "          \" بدون کوچکترین پرتی \"\n",
      "\n",
      "حیاط اختصاصی قابل استفاده فقط برای این واحد ✅\n",
      "گذر عالی و پهن با دسترسی فوق‌العاده ✅\n",
      "مختص سخت پسندان منطقه ✅\n",
      "مناسب برای سرمایه گذاری ✅\n",
      "زیر قیمت منطقه ✅\n",
      "\n",
      "♦️ املاک بزرگ متین ♦️\n",
      "مشاور تخصصی منطقه= کشاورز</p>\n",
      "####################################################################################################\n",
      "<p class=\"kt-description-row__text kt-description-row__text--primary\">⚜️⚜️⚜️امــلــاڪ اســاتــیــد⚜️⚜️⚜️\n",
      "\n",
      "آدرس:شهر جدید سهند از سمت اتوبان تبریز سهند میدان باکری سیصد متر به طرف فاز دو سمت راست مجتمع تجاری تندیس داخل محوطه پلاک 121 املاک اساتید\n",
      "☎***********\n",
      "\n",
      "☎***********\n",
      "                   مشاور ملکی شما شمس\n",
      "   ⚜️⚜️حس خوب خانه‌دار شدن‌راباماتجربه‌کنید⚜️⚜️\n",
      "==========================================\n",
      "✨مشخصات این فایل\n",
      "\n",
      "✨شرکت سازنده سپاه\n",
      "\n",
      "✨طبقه چهارم\n",
      "\n",
      "✨دو خوابه\n",
      "\n",
      "✨انشعابات مجزا\n",
      "\n",
      "✨پنجره ها دوجداره\n",
      "\n",
      "✨آسانسور فعال\n",
      "\n",
      "✨پارکینگ محوطه مجتمع\n",
      "\n",
      "✨واحد شمال شرقی نورگیری عالی\n",
      "\n",
      "✨بهترین گزینه برای سرمایه گذاری\n",
      "\n",
      "✨جلو باز روبه خیابان اصلی\n",
      "\n",
      "✨فروشنده واقعی\n",
      "\n",
      "✨دوربین مدار بسته در محوطه مجتمع\n",
      "\n",
      "✨واحد ومجتمع کاملا تمیز و بهداشتی\n",
      "\n",
      "✨رویت واحد همه ساعته ممکن میباشد\n",
      "\n",
      "⚜️⚜️⚜️واحد شما را در سهند بقیمت منصفانه و بروز خریداریم⚜️⚜️⚜️\n",
      "\n",
      "            ❌اخذ وام برای این مورد مقدور نمیباشد❌\n",
      "\n",
      "⭕برای مشاهده دیگر مورد های فروش ما(املاک اساتید) را در دیوار جستوجو کنید⭕</p>\n",
      "####################################################################################################\n",
      "<p class=\"kt-description-row__text kt-description-row__text--primary\">فروش آپارتمان مسکن مهر بهارستان\n",
      "دوخوابه ۷۵متری\n",
      "شرکتی و خام\n",
      "موقعیت انتهای الفت شرقی\n",
      "دسترسی عالی\n",
      "فقط تماس</p>\n",
      "####################################################################################################\n",
      "<p class=\"kt-description-row__text kt-description-row__text--primary\">⭕ مشخصات ملک :\n",
      "⚜️ آپارتمان واقع در خیابان نگارستان\n",
      "✅ متراژ: 169\n",
      "⚜️ سه خواب\n",
      "✅ نورگیری از سه جهت (جنوب، شمال، شرق)\n",
      "⚜️ مجتمع کلا ۷ واحد \n",
      "✅ واقع در بهترین طبقه (چهارم) \n",
      "⚜️ تک واحدی\n",
      "✅ چشم انداز خیابان\n",
      "\n",
      "⭕ امکانات:☑️پارکینگ  ☑️انباری ☑️آسانسور ☑️ بالکن \n",
      "\n",
      "⭕ مزایا:\n",
      "✔️ خوش نقشه\n",
      "✔️ غرق نور\n",
      "✔️ مجموعه خلوت\n",
      "✔️ پارکینگ اختصاصی و بدون مزاحم\n",
      "✔️ دسترسی عالی به مترو و مراکز خرید\n",
      "✔️ دسترسی عالی به اتوبان\n",
      "\n",
      "➖➖➖➖➖➖➖➖➖➖➖➖➖➖➖\n",
      "         ⬅️ لوکسترین هارو ازما بخواهید ➡️\n",
      "➖➖➖➖➖➖➖➖➖➖➖➖➖➖➖ \n",
      "     ✔ کارشناس فروش : آرمان آرمان فر\n",
      "     ✔ هــمـراه   :  ***********</p>\n",
      "####################################################################################################\n"
     ]
    }
   ],
   "source": [
    "for desc in random.sample(list(posts.Description.values), 5):\n",
    "    print(desc)\n",
    "    print('#'*100)"
   ]
  },
  {
   "cell_type": "markdown",
   "id": "3d4a45a9",
   "metadata": {},
   "source": [
    "### Clean Address feature"
   ]
  },
  {
   "cell_type": "code",
   "execution_count": 377,
   "id": "0ce69a82",
   "metadata": {
    "scrolled": false
   },
   "outputs": [
    {
     "data": {
      "text/plain": [
       "'دقایقی پیش در تهران، شمشیری، خیابان شمشیری (ب. ایت الله سعیدی) | فروش آپارتمان'"
      ]
     },
     "execution_count": 377,
     "metadata": {},
     "output_type": "execute_result"
    }
   ],
   "source": [
    "posts.Address[0]"
   ]
  },
  {
   "cell_type": "code",
   "execution_count": 378,
   "id": "22fa2409",
   "metadata": {},
   "outputs": [],
   "source": [
    "class extractAddressTransformer(BaseEstimator, TransformerMixin):\n",
    "    def fit(self, X, y=None):\n",
    "        return self\n",
    "    def transform(self, X):\n",
    "        X.Address = X.Address.apply(\n",
    "            lambda adress: '،'.join(adress.split('|')[0].split('،')[1:])\n",
    "        )\n",
    "        return X"
   ]
  },
  {
   "cell_type": "code",
   "execution_count": 323,
   "id": "219e09f4",
   "metadata": {},
   "outputs": [],
   "source": [
    "t = extractAddressTransformer()"
   ]
  },
  {
   "cell_type": "code",
   "execution_count": 324,
   "id": "781ff622",
   "metadata": {},
   "outputs": [],
   "source": [
    "posts = t.fit_transform(posts)"
   ]
  },
  {
   "cell_type": "code",
   "execution_count": 325,
   "id": "776ad414",
   "metadata": {},
   "outputs": [
    {
     "data": {
      "text/plain": [
       "' شمشیری، خیابان شمشیری (ب. ایت الله سعیدی) '"
      ]
     },
     "execution_count": 325,
     "metadata": {},
     "output_type": "execute_result"
    }
   ],
   "source": [
    "posts.Address[0]"
   ]
  },
  {
   "cell_type": "markdown",
   "id": "72d8bc53",
   "metadata": {},
   "source": [
    "### Clean Description feature"
   ]
  },
  {
   "cell_type": "code",
   "execution_count": 270,
   "id": "d21487af",
   "metadata": {},
   "outputs": [
    {
     "data": {
      "text/plain": [
       "'<p class=\"kt-description-row__text kt-description-row__text--primary\">برج باغ با موقعیت دنج و آرام/ چشم انداز پارک جنگلی و قله دماوند/ 3خواب، یک مستر/ لابی بزرگ/ سرایدار مقیم/ بالکن مفید/ ژنراتور برق/ چیلر مرکزی/ اطفای حریق/دوربین مداربسته/ بدون دیوار مشترک/ نورگیر از شمال، شرق و غرب واحد/ حیاط بزرگ و مشجر با آبنما، آلاچیق و چاه آب/ روف گاردن/ پیاده تا پارک جنگلی ده دقیقه.\\nلطفا املاک تماس نگیرند.</p>'"
      ]
     },
     "execution_count": 270,
     "metadata": {},
     "output_type": "execute_result"
    }
   ],
   "source": [
    "posts.Description[1]"
   ]
  },
  {
   "cell_type": "code",
   "execution_count": 300,
   "id": "ebf8430a",
   "metadata": {},
   "outputs": [],
   "source": [
    "class RemoveTagTransformer(BaseEstimator, TransformerMixin):\n",
    "    def fit(self, X, y=None):\n",
    "        self.cleanre = re.compile('<.*?>') \n",
    "        return self\n",
    "    def transform(self, X):\n",
    "        X.Description = X.Description.apply(\n",
    "            lambda desc: re.sub(self.cleanre, '', desc)\n",
    "        )\n",
    "        return X"
   ]
  },
  {
   "cell_type": "code",
   "execution_count": 272,
   "id": "3dce0fb0",
   "metadata": {
    "scrolled": true
   },
   "outputs": [],
   "source": [
    "t = removeTagTransformer()\n",
    "posts = t.fit_transform(posts)"
   ]
  },
  {
   "cell_type": "code",
   "execution_count": 273,
   "id": "048f079c",
   "metadata": {},
   "outputs": [
    {
     "data": {
      "text/plain": [
       "'برج باغ با موقعیت دنج و آرام/ چشم انداز پارک جنگلی و قله دماوند/ 3خواب، یک مستر/ لابی بزرگ/ سرایدار مقیم/ بالکن مفید/ ژنراتور برق/ چیلر مرکزی/ اطفای حریق/دوربین مداربسته/ بدون دیوار مشترک/ نورگیر از شمال، شرق و غرب واحد/ حیاط بزرگ و مشجر با آبنما، آلاچیق و چاه آب/ روف گاردن/ پیاده تا پارک جنگلی ده دقیقه.\\nلطفا املاک تماس نگیرند.'"
      ]
     },
     "execution_count": 273,
     "metadata": {},
     "output_type": "execute_result"
    }
   ],
   "source": [
    "posts.Description[1]"
   ]
  },
  {
   "cell_type": "markdown",
   "id": "70cabc5e",
   "metadata": {},
   "source": [
    "# Preprocess"
   ]
  },
  {
   "cell_type": "markdown",
   "id": "71ca0a25",
   "metadata": {},
   "source": [
    "### Remove imojies"
   ]
  },
  {
   "cell_type": "code",
   "execution_count": 301,
   "id": "78916a4c",
   "metadata": {},
   "outputs": [],
   "source": [
    "class RemoveEmojiesTransformer(BaseEstimator, TransformerMixin):\n",
    "    def __init__(self, column_name):\n",
    "        self.column_name = column_name\n",
    "    \n",
    "    def fit(self, X, y=None):\n",
    "        return self\n",
    "    \n",
    "    def transform(self, X):\n",
    "        X[self.column_name] = X[self.column_name].apply(\n",
    "            lambda text: emoji.get_emoji_regexp().sub(r'', text)\n",
    "        )\n",
    "        return X"
   ]
  },
  {
   "cell_type": "code",
   "execution_count": null,
   "id": "db17cbf9",
   "metadata": {},
   "outputs": [],
   "source": []
  },
  {
   "cell_type": "markdown",
   "id": "d1619bc1",
   "metadata": {},
   "source": [
    "### Description Transformer"
   ]
  },
  {
   "cell_type": "code",
   "execution_count": 154,
   "id": "ab9d913f",
   "metadata": {},
   "outputs": [],
   "source": [
    "def hasNumbers(inputString):\n",
    "    return any(char.isdigit() for char in inputString)\n",
    "\n",
    "def isEnglish(s):\n",
    "    return s.lower().islower()"
   ]
  },
  {
   "cell_type": "code",
   "execution_count": 328,
   "id": "7d062b48",
   "metadata": {},
   "outputs": [],
   "source": [
    "class DescriptionTransformer(BaseEstimator, TransformerMixin):\n",
    "    def __init__(self, column_name):\n",
    "        self.column_name = column_name\n",
    "    \n",
    "    def fit(self, X, y=None):\n",
    "        stop_words_file = open(\"stopwords.txt\", \"r\")\n",
    "        content = stop_words_file.read()\n",
    "        self.stopwords = content.split(\"\\n\")\n",
    "        \n",
    "        self.normalizer = Normalizer()\n",
    "        self.lemmatizer = Lemmatizer()\n",
    "        \n",
    "        self.tokenizer = WordTokenizer(join_verb_parts=False, replace_links=True, replace_numbers=True)\n",
    "        return self\n",
    "    \n",
    "    def transform(self, X):\n",
    "        cleaned = []\n",
    "        \n",
    "        for text in X[self.column_name]:\n",
    "            # tokenize - replace link-number\n",
    "            words = self.tokenizer.tokenize(' '.join(self.tokenizer.tokenize(text)))\n",
    "            # replace ي with ی and remove arabic symbols\n",
    "            words = [self.normalizer.character_refinement(word) for word in words]\n",
    "\n",
    "            words = [word for word in words if not isEnglish(word)]\n",
    "#             words = [word for word in words if not hasNumbers(word)]\n",
    "\n",
    "            text = ' '.join([self.lemmatizer.lemmatize(word) for word in words])\n",
    "            cleaned.append(text)\n",
    "        \n",
    "        X[self.column_name] = cleaned\n",
    "        return X"
   ]
  },
  {
   "cell_type": "code",
   "execution_count": 156,
   "id": "308904bd",
   "metadata": {},
   "outputs": [],
   "source": [
    "desc_transformer = DescriptionTransformer(column_name='Description')"
   ]
  },
  {
   "cell_type": "code",
   "execution_count": 157,
   "id": "c8290a96",
   "metadata": {},
   "outputs": [],
   "source": [
    "posts = desc_transformer.fit_transform(posts)"
   ]
  },
  {
   "cell_type": "code",
   "execution_count": 158,
   "id": "4fb0bd6f",
   "metadata": {
    "collapsed": true
   },
   "outputs": [
    {
     "data": {
      "text/html": [
       "<div>\n",
       "<style scoped>\n",
       "    .dataframe tbody tr th:only-of-type {\n",
       "        vertical-align: middle;\n",
       "    }\n",
       "\n",
       "    .dataframe tbody tr th {\n",
       "        vertical-align: top;\n",
       "    }\n",
       "\n",
       "    .dataframe thead th {\n",
       "        text-align: right;\n",
       "    }\n",
       "</style>\n",
       "<table border=\"1\" class=\"dataframe\">\n",
       "  <thead>\n",
       "    <tr style=\"text-align: right;\">\n",
       "      <th></th>\n",
       "      <th>Area</th>\n",
       "      <th>Construction</th>\n",
       "      <th>Room</th>\n",
       "      <th>Warehouse</th>\n",
       "      <th>Parking</th>\n",
       "      <th>Elevator</th>\n",
       "      <th>Address</th>\n",
       "      <th>Price</th>\n",
       "      <th>Description</th>\n",
       "    </tr>\n",
       "  </thead>\n",
       "  <tbody>\n",
       "    <tr>\n",
       "      <th>0</th>\n",
       "      <td>63</td>\n",
       "      <td>1375</td>\n",
       "      <td>1</td>\n",
       "      <td>False</td>\n",
       "      <td>False</td>\n",
       "      <td>True</td>\n",
       "      <td>شمشیری، خیابان شمشیری (ب. ایت الله سعیدی)</td>\n",
       "      <td>۱٬۶۰۰٬۰۰۰٬۰۰۰ تومان</td>\n",
       "      <td>دونبش تک واحد سه غرق نور دسترس لوکیشن عالی باز...</td>\n",
       "    </tr>\n",
       "    <tr>\n",
       "      <th>1</th>\n",
       "      <td>180</td>\n",
       "      <td>1393</td>\n",
       "      <td>3</td>\n",
       "      <td>True</td>\n",
       "      <td>True</td>\n",
       "      <td>True</td>\n",
       "      <td>شیان</td>\n",
       "      <td>۱۴٬۰۰۰٬۰۰۰٬۰۰۰ تومان</td>\n",
       "      <td>برج باغ موقعیت دنج آرام/ چشم انداز پارک جنگل ق...</td>\n",
       "    </tr>\n",
       "    <tr>\n",
       "      <th>2</th>\n",
       "      <td>38</td>\n",
       "      <td>1380</td>\n",
       "      <td>1</td>\n",
       "      <td>False</td>\n",
       "      <td>False</td>\n",
       "      <td>True</td>\n",
       "      <td>پلیس</td>\n",
       "      <td>۱٬۳۸۰٬۰۰۰٬۰۰۰ تومان</td>\n",
       "      <td>اپارتمان متری پلیس-کلیم کاشان تکواحدی طبقه انب...</td>\n",
       "    </tr>\n",
       "    <tr>\n",
       "      <th>3</th>\n",
       "      <td>88</td>\n",
       "      <td>1384</td>\n",
       "      <td>2</td>\n",
       "      <td>True</td>\n",
       "      <td>True</td>\n",
       "      <td>True</td>\n",
       "      <td>تهران‌نو</td>\n",
       "      <td>۳٬۵۰۰٬۰۰۰٬۰۰۰ تومان</td>\n",
       "      <td>مشاورین املاک یونس آدرس املاک فلکه چایچی سفیدک...</td>\n",
       "    </tr>\n",
       "    <tr>\n",
       "      <th>4</th>\n",
       "      <td>40</td>\n",
       "      <td>1393</td>\n",
       "      <td>1</td>\n",
       "      <td>True</td>\n",
       "      <td>True</td>\n",
       "      <td>True</td>\n",
       "      <td>بریانک</td>\n",
       "      <td>۱٬۴۲۰٬۰۰۰٬۰۰۰ تومان</td>\n",
       "      <td>هوالرزاق بربانک ابراهیم حسینی متر تک خواب طبقه...</td>\n",
       "    </tr>\n",
       "    <tr>\n",
       "      <th>...</th>\n",
       "      <td>...</td>\n",
       "      <td>...</td>\n",
       "      <td>...</td>\n",
       "      <td>...</td>\n",
       "      <td>...</td>\n",
       "      <td>...</td>\n",
       "      <td>...</td>\n",
       "      <td>...</td>\n",
       "      <td>...</td>\n",
       "    </tr>\n",
       "    <tr>\n",
       "      <th>1354</th>\n",
       "      <td>87</td>\n",
       "      <td>1396</td>\n",
       "      <td>2</td>\n",
       "      <td>True</td>\n",
       "      <td>True</td>\n",
       "      <td>True</td>\n",
       "      <td>بهارستان</td>\n",
       "      <td>۱٬۰۸۰٬۰۰۰٬۰۰۰ تومان</td>\n",
       "      <td>سلام اپارتمان متری خوابه مسکن مهر جنوبی پرنور ...</td>\n",
       "    </tr>\n",
       "    <tr>\n",
       "      <th>1355</th>\n",
       "      <td>130</td>\n",
       "      <td>1401</td>\n",
       "      <td>3</td>\n",
       "      <td>True</td>\n",
       "      <td>True</td>\n",
       "      <td>True</td>\n",
       "      <td>آفاران</td>\n",
       "      <td>۲٬۸۰۰٬۰۰۰٬۰۰۰ تومان</td>\n",
       "      <td>املاک آسمان آب مشاور عزیز انواع ملک تماس عزیز ...</td>\n",
       "    </tr>\n",
       "    <tr>\n",
       "      <th>1356</th>\n",
       "      <td>122</td>\n",
       "      <td>1393</td>\n",
       "      <td>2</td>\n",
       "      <td>True</td>\n",
       "      <td>True</td>\n",
       "      <td>True</td>\n",
       "      <td>اشراق</td>\n",
       "      <td>۲٬۷۰۰٬۰۰۰٬۰۰۰ تومان</td>\n",
       "      <td>آپارتمان واحد نور عالی ۵طبقه واحد-متراژ متر-طب...</td>\n",
       "    </tr>\n",
       "    <tr>\n",
       "      <th>1357</th>\n",
       "      <td>105</td>\n",
       "      <td>1389</td>\n",
       "      <td>2</td>\n",
       "      <td>True</td>\n",
       "      <td>True</td>\n",
       "      <td>True</td>\n",
       "      <td>خانه اصفهان</td>\n",
       "      <td>۲٬۷۰۰٬۰۰۰٬۰۰۰ تومان</td>\n",
       "      <td>واقع لوکیشن خانه اصفهان دسترس عالی جنوبی فول ا...</td>\n",
       "    </tr>\n",
       "    <tr>\n",
       "      <th>1358</th>\n",
       "      <td>145</td>\n",
       "      <td>1401</td>\n",
       "      <td>3</td>\n",
       "      <td>True</td>\n",
       "      <td>True</td>\n",
       "      <td>True</td>\n",
       "      <td>اشراق</td>\n",
       "      <td>۴٬۹۰۰٬۰۰۰٬۰۰۰ تومان</td>\n",
       "      <td>هدف فروش آپارتمان توجه !!!!!! توجه !!!! توجه !...</td>\n",
       "    </tr>\n",
       "  </tbody>\n",
       "</table>\n",
       "<p>1359 rows × 9 columns</p>\n",
       "</div>"
      ],
      "text/plain": [
       "      Area  Construction  Room  Warehouse  Parking  Elevator  \\\n",
       "0       63          1375     1      False    False      True   \n",
       "1      180          1393     3       True     True      True   \n",
       "2       38          1380     1      False    False      True   \n",
       "3       88          1384     2       True     True      True   \n",
       "4       40          1393     1       True     True      True   \n",
       "...    ...           ...   ...        ...      ...       ...   \n",
       "1354    87          1396     2       True     True      True   \n",
       "1355   130          1401     3       True     True      True   \n",
       "1356   122          1393     2       True     True      True   \n",
       "1357   105          1389     2       True     True      True   \n",
       "1358   145          1401     3       True     True      True   \n",
       "\n",
       "                                          Address                 Price  \\\n",
       "0      شمشیری، خیابان شمشیری (ب. ایت الله سعیدی)    ۱٬۶۰۰٬۰۰۰٬۰۰۰ تومان   \n",
       "1                                           شیان   ۱۴٬۰۰۰٬۰۰۰٬۰۰۰ تومان   \n",
       "2                                           پلیس    ۱٬۳۸۰٬۰۰۰٬۰۰۰ تومان   \n",
       "3                                       تهران‌نو    ۳٬۵۰۰٬۰۰۰٬۰۰۰ تومان   \n",
       "4                                         بریانک    ۱٬۴۲۰٬۰۰۰٬۰۰۰ تومان   \n",
       "...                                           ...                   ...   \n",
       "1354                                    بهارستان    ۱٬۰۸۰٬۰۰۰٬۰۰۰ تومان   \n",
       "1355                                      آفاران    ۲٬۸۰۰٬۰۰۰٬۰۰۰ تومان   \n",
       "1356                                       اشراق    ۲٬۷۰۰٬۰۰۰٬۰۰۰ تومان   \n",
       "1357                                 خانه اصفهان    ۲٬۷۰۰٬۰۰۰٬۰۰۰ تومان   \n",
       "1358                                       اشراق    ۴٬۹۰۰٬۰۰۰٬۰۰۰ تومان   \n",
       "\n",
       "                                            Description  \n",
       "0     دونبش تک واحد سه غرق نور دسترس لوکیشن عالی باز...  \n",
       "1     برج باغ موقعیت دنج آرام/ چشم انداز پارک جنگل ق...  \n",
       "2     اپارتمان متری پلیس-کلیم کاشان تکواحدی طبقه انب...  \n",
       "3     مشاورین املاک یونس آدرس املاک فلکه چایچی سفیدک...  \n",
       "4     هوالرزاق بربانک ابراهیم حسینی متر تک خواب طبقه...  \n",
       "...                                                 ...  \n",
       "1354  سلام اپارتمان متری خوابه مسکن مهر جنوبی پرنور ...  \n",
       "1355  املاک آسمان آب مشاور عزیز انواع ملک تماس عزیز ...  \n",
       "1356  آپارتمان واحد نور عالی ۵طبقه واحد-متراژ متر-طب...  \n",
       "1357  واقع لوکیشن خانه اصفهان دسترس عالی جنوبی فول ا...  \n",
       "1358  هدف فروش آپارتمان توجه !!!!!! توجه !!!! توجه !...  \n",
       "\n",
       "[1359 rows x 9 columns]"
      ]
     },
     "execution_count": 158,
     "metadata": {},
     "output_type": "execute_result"
    }
   ],
   "source": [
    "posts"
   ]
  },
  {
   "cell_type": "markdown",
   "id": "4617b67b",
   "metadata": {},
   "source": [
    "# Remove stopwords transformer"
   ]
  },
  {
   "cell_type": "code",
   "execution_count": 329,
   "id": "a40cfe7c",
   "metadata": {},
   "outputs": [],
   "source": [
    "class RemoveStopwordsTransformer(BaseEstimator, TransformerMixin):\n",
    "    def __init__(self, column_name):\n",
    "        self.column_name = column_name\n",
    "    \n",
    "    def fit(self, X, y=None):\n",
    "        stop_words_file = open(\"stopwords.txt\", \"r\")\n",
    "        content = stop_words_file.read()\n",
    "        self.stopwords = content.split(\"\\n\")\n",
    "        \n",
    "        self.tokenizer = WordTokenizer(join_verb_parts=False, replace_links=True, replace_numbers=True)\n",
    "        return self\n",
    "    \n",
    "    def transform(self, X):\n",
    "        cleaned = []\n",
    "        \n",
    "        for text in X[self.column_name]:\n",
    "            words = self.tokenizer.tokenize(' '.join(self.tokenizer.tokenize(text)))\n",
    "            words = [word for word in words if word not in self.stopwords]\n",
    "\n",
    "            text = ' '.join(words)\n",
    "            cleaned.append(text)\n",
    "        \n",
    "        X[self.column_name] = cleaned\n",
    "        return X"
   ]
  },
  {
   "cell_type": "code",
   "execution_count": null,
   "id": "f2adbf29",
   "metadata": {},
   "outputs": [],
   "source": []
  },
  {
   "cell_type": "markdown",
   "id": "27e37265",
   "metadata": {},
   "source": [
    "# Notebook body"
   ]
  },
  {
   "cell_type": "code",
   "execution_count": 379,
   "id": "6f065b9e",
   "metadata": {
    "scrolled": true
   },
   "outputs": [
    {
     "name": "stderr",
     "output_type": "stream",
     "text": [
      "100%|██████████| 3169/3169 [00:00<00:00, 6629.64it/s]\n"
     ]
    }
   ],
   "source": [
    "normalizer = Normalizer()\n",
    "posts.Description = [normalizer.normalize(desc) for desc in tqdm.tqdm(posts.Description)]"
   ]
  },
  {
   "cell_type": "code",
   "execution_count": 380,
   "id": "13bde80c",
   "metadata": {},
   "outputs": [
    {
     "data": {
      "text/html": [
       "<div>\n",
       "<style scoped>\n",
       "    .dataframe tbody tr th:only-of-type {\n",
       "        vertical-align: middle;\n",
       "    }\n",
       "\n",
       "    .dataframe tbody tr th {\n",
       "        vertical-align: top;\n",
       "    }\n",
       "\n",
       "    .dataframe thead th {\n",
       "        text-align: right;\n",
       "    }\n",
       "</style>\n",
       "<table border=\"1\" class=\"dataframe\">\n",
       "  <thead>\n",
       "    <tr style=\"text-align: right;\">\n",
       "      <th></th>\n",
       "      <th>Area</th>\n",
       "      <th>Construction</th>\n",
       "      <th>Room</th>\n",
       "      <th>Warehouse</th>\n",
       "      <th>Parking</th>\n",
       "      <th>Elevator</th>\n",
       "      <th>Address</th>\n",
       "      <th>Price</th>\n",
       "      <th>Description</th>\n",
       "      <th>city</th>\n",
       "    </tr>\n",
       "  </thead>\n",
       "  <tbody>\n",
       "    <tr>\n",
       "      <th>0</th>\n",
       "      <td>63</td>\n",
       "      <td>1375</td>\n",
       "      <td>1</td>\n",
       "      <td>False</td>\n",
       "      <td>False</td>\n",
       "      <td>True</td>\n",
       "      <td>دقایقی پیش در تهران، شمشیری، خیابان شمشیری (ب....</td>\n",
       "      <td>۱٬۶۰۰٬۰۰۰٬۰۰۰ تومان</td>\n",
       "      <td>&lt;p class= «kt-description-row__text kt-descrip...</td>\n",
       "      <td>tehran</td>\n",
       "    </tr>\n",
       "    <tr>\n",
       "      <th>1</th>\n",
       "      <td>180</td>\n",
       "      <td>1393</td>\n",
       "      <td>3</td>\n",
       "      <td>True</td>\n",
       "      <td>True</td>\n",
       "      <td>True</td>\n",
       "      <td>دقایقی پیش در تهران، شیان | فروش آپارتمان</td>\n",
       "      <td>۱۴٬۰۰۰٬۰۰۰٬۰۰۰ تومان</td>\n",
       "      <td>&lt;p class= «kt-description-row__text kt-descrip...</td>\n",
       "      <td>tehran</td>\n",
       "    </tr>\n",
       "    <tr>\n",
       "      <th>2</th>\n",
       "      <td>38</td>\n",
       "      <td>1380</td>\n",
       "      <td>1</td>\n",
       "      <td>False</td>\n",
       "      <td>False</td>\n",
       "      <td>True</td>\n",
       "      <td>دقایقی پیش در تهران، پلیس | فروش آپارتمان</td>\n",
       "      <td>۱٬۳۸۰٬۰۰۰٬۰۰۰ تومان</td>\n",
       "      <td>&lt;p class= «kt-description-row__text kt-descrip...</td>\n",
       "      <td>tehran</td>\n",
       "    </tr>\n",
       "    <tr>\n",
       "      <th>3</th>\n",
       "      <td>88</td>\n",
       "      <td>1384</td>\n",
       "      <td>2</td>\n",
       "      <td>True</td>\n",
       "      <td>True</td>\n",
       "      <td>True</td>\n",
       "      <td>دقایقی پیش در تهران، تهران‌نو | فروش آپارتمان</td>\n",
       "      <td>۳٬۵۰۰٬۰۰۰٬۰۰۰ تومان</td>\n",
       "      <td>&lt;p class= «kt-description-row__text kt-descrip...</td>\n",
       "      <td>tehran</td>\n",
       "    </tr>\n",
       "    <tr>\n",
       "      <th>4</th>\n",
       "      <td>40</td>\n",
       "      <td>1393</td>\n",
       "      <td>1</td>\n",
       "      <td>True</td>\n",
       "      <td>True</td>\n",
       "      <td>True</td>\n",
       "      <td>دقایقی پیش در تهران، بریانک | فروش آپارتمان</td>\n",
       "      <td>۱٬۴۲۰٬۰۰۰٬۰۰۰ تومان</td>\n",
       "      <td>&lt;p class= «kt-description-row__text kt-descrip...</td>\n",
       "      <td>tehran</td>\n",
       "    </tr>\n",
       "  </tbody>\n",
       "</table>\n",
       "</div>"
      ],
      "text/plain": [
       "  Area Construction Room Warehouse Parking Elevator  \\\n",
       "0   63         1375    1     False   False     True   \n",
       "1  180         1393    3      True    True     True   \n",
       "2   38         1380    1     False   False     True   \n",
       "3   88         1384    2      True    True     True   \n",
       "4   40         1393    1      True    True     True   \n",
       "\n",
       "                                             Address                 Price  \\\n",
       "0  دقایقی پیش در تهران، شمشیری، خیابان شمشیری (ب....   ۱٬۶۰۰٬۰۰۰٬۰۰۰ تومان   \n",
       "1          دقایقی پیش در تهران، شیان | فروش آپارتمان  ۱۴٬۰۰۰٬۰۰۰٬۰۰۰ تومان   \n",
       "2          دقایقی پیش در تهران، پلیس | فروش آپارتمان   ۱٬۳۸۰٬۰۰۰٬۰۰۰ تومان   \n",
       "3      دقایقی پیش در تهران، تهران‌نو | فروش آپارتمان   ۳٬۵۰۰٬۰۰۰٬۰۰۰ تومان   \n",
       "4        دقایقی پیش در تهران، بریانک | فروش آپارتمان   ۱٬۴۲۰٬۰۰۰٬۰۰۰ تومان   \n",
       "\n",
       "                                         Description    city  \n",
       "0  <p class= «kt-description-row__text kt-descrip...  tehran  \n",
       "1  <p class= «kt-description-row__text kt-descrip...  tehran  \n",
       "2  <p class= «kt-description-row__text kt-descrip...  tehran  \n",
       "3  <p class= «kt-description-row__text kt-descrip...  tehran  \n",
       "4  <p class= «kt-description-row__text kt-descrip...  tehran  "
      ]
     },
     "execution_count": 380,
     "metadata": {},
     "output_type": "execute_result"
    }
   ],
   "source": [
    "posts.head()"
   ]
  },
  {
   "cell_type": "markdown",
   "id": "6a8fb64a",
   "metadata": {},
   "source": [
    "### Number of words per description"
   ]
  },
  {
   "cell_type": "code",
   "execution_count": 381,
   "id": "275b8299",
   "metadata": {},
   "outputs": [],
   "source": [
    "tokenizer = WordTokenizer(join_verb_parts=False, replace_links=True)"
   ]
  },
  {
   "cell_type": "code",
   "execution_count": 382,
   "id": "e2c7431d",
   "metadata": {},
   "outputs": [],
   "source": [
    "# calculate number of words per description\n",
    "posts['n_words'] = posts.Description.apply(\n",
    "    lambda desc: len(tokenizer.tokenize(desc))\n",
    ")"
   ]
  },
  {
   "cell_type": "code",
   "execution_count": 383,
   "id": "277ef1cc",
   "metadata": {},
   "outputs": [],
   "source": [
    "n_words_per_city = posts.groupby(['city'])['n_words'].mean()"
   ]
  },
  {
   "cell_type": "code",
   "execution_count": 384,
   "id": "a3822c1c",
   "metadata": {},
   "outputs": [
    {
     "data": {
      "text/plain": [
       "<AxesSubplot:title={'center':'Arrests'}, xlabel='Home Team', ylabel='Mean Arrests'>"
      ]
     },
     "execution_count": 384,
     "metadata": {},
     "output_type": "execute_result"
    },
    {
     "data": {
      "image/png": "[encoded data removed]",
      "text/plain": [
       "<Figure size 432x360 with 1 Axes>"
      ]
     },
     "metadata": {
      "needs_background": "light"
     },
     "output_type": "display_data"
    }
   ],
   "source": [
    "n_words_per_city.plot(kind='bar', title='Arrests', ylabel='Mean Arrests',\n",
    "                      xlabel='Home Team', figsize=(6, 5))"
   ]
  },
  {
   "cell_type": "markdown",
   "id": "4f783f15",
   "metadata": {},
   "source": [
    "### Number of sentences  per description"
   ]
  },
  {
   "cell_type": "code",
   "execution_count": 385,
   "id": "8ad4ca94",
   "metadata": {},
   "outputs": [],
   "source": [
    "sentence_tokenizer = SentenceTokenizer()"
   ]
  },
  {
   "cell_type": "code",
   "execution_count": 386,
   "id": "81f9bcf6",
   "metadata": {},
   "outputs": [],
   "source": [
    "# calculate number of words per description\n",
    "posts['n_sentences'] = posts.Description.apply(\n",
    "    lambda desc: len(sentence_tokenizer.tokenize(desc))\n",
    ")"
   ]
  },
  {
   "cell_type": "code",
   "execution_count": 387,
   "id": "6661df8d",
   "metadata": {},
   "outputs": [],
   "source": [
    "n_sentences_per_city = posts.groupby(['city'])['n_sentences'].mean()"
   ]
  },
  {
   "cell_type": "code",
   "execution_count": 388,
   "id": "3c7772a2",
   "metadata": {},
   "outputs": [
    {
     "data": {
      "text/plain": [
       "<AxesSubplot:title={'center':'Arrests'}, xlabel='Home Team', ylabel='Mean Arrests'>"
      ]
     },
     "execution_count": 388,
     "metadata": {},
     "output_type": "execute_result"
    },
    {
     "data": {
      "image/png": "[encoded data removed]",
      "text/plain": [
       "<Figure size 432x360 with 1 Axes>"
      ]
     },
     "metadata": {
      "needs_background": "light"
     },
     "output_type": "display_data"
    }
   ],
   "source": [
    "n_sentences_per_city.plot(kind='bar', title='Arrests', ylabel='Mean Arrests',\n",
    "                          xlabel='Home Team', figsize=(6, 5))"
   ]
  },
  {
   "cell_type": "markdown",
   "id": "22a2dc44",
   "metadata": {},
   "source": [
    "### Most common words"
   ]
  },
  {
   "cell_type": "code",
   "execution_count": 389,
   "id": "28ebeab7",
   "metadata": {},
   "outputs": [],
   "source": [
    "preprocess_pipeline = Pipeline([\n",
    "    ('t1', RemoveTagTransformer()),\n",
    "    ('t2', RemoveEmojiesTransformer(column_name='Description')),\n",
    "    ('t3', DescriptionTransformer(column_name='Description')),\n",
    "    ('t4', RemoveStopwordsTransformer(column_name='Description'))\n",
    "])"
   ]
  },
  {
   "cell_type": "code",
   "execution_count": 390,
   "id": "96b58a4c",
   "metadata": {},
   "outputs": [],
   "source": [
    "posts = preprocess_pipeline.fit_transform(posts)"
   ]
  },
  {
   "cell_type": "code",
   "execution_count": 391,
   "id": "e0633b64",
   "metadata": {},
   "outputs": [
    {
     "data": {
      "text/plain": [
       "ardabil    910\n",
       "mashhad    456\n",
       "isfahan    453\n",
       "shiraz     451\n",
       "tabriz     450\n",
       "tehran     449\n",
       "Name: city, dtype: int64"
      ]
     },
     "execution_count": 391,
     "metadata": {},
     "output_type": "execute_result"
    }
   ],
   "source": [
    "posts.city.value_counts()"
   ]
  },
  {
   "cell_type": "code",
   "execution_count": 393,
   "id": "2114ea71",
   "metadata": {},
   "outputs": [],
   "source": [
    "tehran_posts = posts[posts.city == 'tehran']\n",
    "tabriz_posts = posts[posts.city == 'tabriz']\n",
    "isfahan_posts = posts[posts.city == 'isfahan']\n",
    "mashhad_posts = posts[posts.city == 'mashhad']\n",
    "ardabil_posts = posts[posts.city == 'ardabil']\n",
    "shiraz_posts = posts[posts.city == 'shiraz']"
   ]
  },
  {
   "cell_type": "code",
   "execution_count": 394,
   "id": "b8b865a9",
   "metadata": {},
   "outputs": [
    {
     "name": "stderr",
     "output_type": "stream",
     "text": [
      "100%|██████████| 3169/3169 [00:00<00:00, 29056.31it/s]\n",
      "100%|██████████| 449/449 [00:00<00:00, 34996.05it/s]\n",
      "100%|██████████| 450/450 [00:00<00:00, 27730.32it/s]\n",
      "100%|██████████| 453/453 [00:00<00:00, 34808.46it/s]\n",
      "100%|██████████| 456/456 [00:00<00:00, 32189.48it/s]\n",
      "100%|██████████| 910/910 [00:00<00:00, 29910.72it/s]\n",
      "100%|██████████| 451/451 [00:00<00:00, 38696.32it/s]\n"
     ]
    }
   ],
   "source": [
    "all_posts_tokens = [word_tokenize(desc) for desc in tqdm.tqdm(posts.Description)]\n",
    "tehran_posts_tokens = [word_tokenize(desc) for desc in tqdm.tqdm(tehran_posts.Description)]\n",
    "tabriz_posts_tokens = [word_tokenize(desc) for desc in tqdm.tqdm(tabriz_posts.Description)]\n",
    "isfahan_posts_tokens = [word_tokenize(desc) for desc in tqdm.tqdm(isfahan_posts.Description)]\n",
    "mashhad_posts_tokens = [word_tokenize(desc) for desc in tqdm.tqdm(mashhad_posts.Description)]\n",
    "ardabil_posts_tokens = [word_tokenize(desc) for desc in tqdm.tqdm(ardabil_posts.Description)]\n",
    "shiraz_posts_tokens = [word_tokenize(desc) for desc in tqdm.tqdm(shiraz_posts.Description)]"
   ]
  },
  {
   "cell_type": "code",
   "execution_count": 395,
   "id": "2281fa53",
   "metadata": {},
   "outputs": [],
   "source": [
    "all_tokens = list(itertools.chain(*all_posts_tokens))\n",
    "tehran_tokens = list(itertools.chain(*tehran_posts_tokens))\n",
    "tabriz_tokens = list(itertools.chain(*tabriz_posts_tokens))\n",
    "isfahan_tokens = list(itertools.chain(*isfahan_posts_tokens))\n",
    "mashhad_tokens = list(itertools.chain(*mashhad_posts_tokens))\n",
    "ardabil_tokens = list(itertools.chain(*ardabil_posts_tokens))\n",
    "shiraz_tokens = list(itertools.chain(*shiraz_posts_tokens))"
   ]
  },
  {
   "cell_type": "code",
   "execution_count": 396,
   "id": "ab5d4ebb",
   "metadata": {},
   "outputs": [],
   "source": [
    "dataframe = {}\n",
    "\n",
    "for opt in ['all', 'tehran', 'tabriz', 'isfahan', 'mashhad', 'ardabil', 'shiraz']:\n",
    "    dataframe[opt] = FreqDist(eval(F\"{opt}_tokens\")).most_common(50)\n",
    "\n",
    "freq_analysis = pd.DataFrame(dataframe)"
   ]
  },
  {
   "cell_type": "code",
   "execution_count": 397,
   "id": "2c26f225",
   "metadata": {},
   "outputs": [
    {
     "data": {
      "text/html": [
       "<div>\n",
       "<style scoped>\n",
       "    .dataframe tbody tr th:only-of-type {\n",
       "        vertical-align: middle;\n",
       "    }\n",
       "\n",
       "    .dataframe tbody tr th {\n",
       "        vertical-align: top;\n",
       "    }\n",
       "\n",
       "    .dataframe thead th {\n",
       "        text-align: right;\n",
       "    }\n",
       "</style>\n",
       "<table border=\"1\" class=\"dataframe\">\n",
       "  <thead>\n",
       "    <tr style=\"text-align: right;\">\n",
       "      <th></th>\n",
       "      <th>all</th>\n",
       "      <th>tehran</th>\n",
       "      <th>tabriz</th>\n",
       "      <th>isfahan</th>\n",
       "      <th>mashhad</th>\n",
       "      <th>ardabil</th>\n",
       "      <th>shiraz</th>\n",
       "    </tr>\n",
       "  </thead>\n",
       "  <tbody>\n",
       "    <tr>\n",
       "      <th>0</th>\n",
       "      <td>(واحد, 2435)</td>\n",
       "      <td>(متر, 276)</td>\n",
       "      <td>(املاک, 515)</td>\n",
       "      <td>(املاک, 356)</td>\n",
       "      <td>(واحد, 259)</td>\n",
       "      <td>(واحد, 799)</td>\n",
       "      <td>(املاک, 364)</td>\n",
       "    </tr>\n",
       "    <tr>\n",
       "      <th>1</th>\n",
       "      <td>(املاک, 2282)</td>\n",
       "      <td>(واحد, 275)</td>\n",
       "      <td>(واحد, 429)</td>\n",
       "      <td>(واحد, 330)</td>\n",
       "      <td>(عالی, 246)</td>\n",
       "      <td>(املاک, 736)</td>\n",
       "      <td>(واحد, 343)</td>\n",
       "    </tr>\n",
       "    <tr>\n",
       "      <th>2</th>\n",
       "      <td>(طبقه, 1587)</td>\n",
       "      <td>(منطقه, 222)</td>\n",
       "      <td>(ملک, 297)</td>\n",
       "      <td>(عالی, 261)</td>\n",
       "      <td>(خواب, 202)</td>\n",
       "      <td>(طبقه, 596)</td>\n",
       "      <td>(عالی, 222)</td>\n",
       "    </tr>\n",
       "    <tr>\n",
       "      <th>3</th>\n",
       "      <td>(عالی, 1470)</td>\n",
       "      <td>(سالن, 213)</td>\n",
       "      <td>(دارا, 280)</td>\n",
       "      <td>(طبقه, 240)</td>\n",
       "      <td>(دیوار, 199)</td>\n",
       "      <td>(تماس, 448)</td>\n",
       "      <td>(خواب, 182)</td>\n",
       "    </tr>\n",
       "    <tr>\n",
       "      <th>4</th>\n",
       "      <td>(تماس, 1340)</td>\n",
       "      <td>(خواب, 212)</td>\n",
       "      <td>(فروش, 277)</td>\n",
       "      <td>(نور, 238)</td>\n",
       "      <td>(کابینت, 192)</td>\n",
       "      <td>(عالی, 398)</td>\n",
       "      <td>(نقشه, 167)</td>\n",
       "    </tr>\n",
       "    <tr>\n",
       "      <th>5</th>\n",
       "      <td>(متر, 1219)</td>\n",
       "      <td>(عالی, 201)</td>\n",
       "      <td>(طبقه, 252)</td>\n",
       "      <td>(تماس, 223)</td>\n",
       "      <td>(طبقه, 190)</td>\n",
       "      <td>(متر, 387)</td>\n",
       "      <td>(آپارتمان, 163)</td>\n",
       "    </tr>\n",
       "    <tr>\n",
       "      <th>6</th>\n",
       "      <td>(خواب, 1165)</td>\n",
       "      <td>(طبقه, 196)</td>\n",
       "      <td>(آدرس, 233)</td>\n",
       "      <td>(پارکینگ, 185)</td>\n",
       "      <td>(املاک, 190)</td>\n",
       "      <td>(دارا, 355)</td>\n",
       "      <td>(تماس, 162)</td>\n",
       "    </tr>\n",
       "    <tr>\n",
       "      <th>7</th>\n",
       "      <td>(دارا, 1134)</td>\n",
       "      <td>(پارکینگ, 187)</td>\n",
       "      <td>(تماس, 210)</td>\n",
       "      <td>(خواب, 182)</td>\n",
       "      <td>(متری, 163)</td>\n",
       "      <td>(آپارتمان, 354)</td>\n",
       "      <td>(سالن, 161)</td>\n",
       "    </tr>\n",
       "    <tr>\n",
       "      <th>8</th>\n",
       "      <td>(ملک, 1131)</td>\n",
       "      <td>(نقشه, 184)</td>\n",
       "      <td>(دیوار, 197)</td>\n",
       "      <td>(آپارتمان, 181)</td>\n",
       "      <td>(سرامیک, 159)</td>\n",
       "      <td>(فروش, 341)</td>\n",
       "      <td>(سند, 160)</td>\n",
       "    </tr>\n",
       "    <tr>\n",
       "      <th>9</th>\n",
       "      <td>(آپارتمان, 1092)</td>\n",
       "      <td>(نور, 163)</td>\n",
       "      <td>(سند, 194)</td>\n",
       "      <td>(متر, 167)</td>\n",
       "      <td>(کف, 158)</td>\n",
       "      <td>(پارکینگ, 338)</td>\n",
       "      <td>(جنوبی, 148)</td>\n",
       "    </tr>\n",
       "    <tr>\n",
       "      <th>10</th>\n",
       "      <td>(فروش, 1078)</td>\n",
       "      <td>(دسترس, 162)</td>\n",
       "      <td>(وام, 191)</td>\n",
       "      <td>(دارا, 162)</td>\n",
       "      <td>(آپارتمان, 153)</td>\n",
       "      <td>(ملک, 332)</td>\n",
       "      <td>(کوچه, 143)</td>\n",
       "    </tr>\n",
       "    <tr>\n",
       "      <th>11</th>\n",
       "      <td>(پارکینگ, 1071)</td>\n",
       "      <td>(سند, 155)</td>\n",
       "      <td>(خرید, 186)</td>\n",
       "      <td>(ملک, 161)</td>\n",
       "      <td>(متر, 150)</td>\n",
       "      <td>(خیابان, 318)</td>\n",
       "      <td>(_, 141)</td>\n",
       "    </tr>\n",
       "    <tr>\n",
       "      <th>12</th>\n",
       "      <td>(نور, 1014)</td>\n",
       "      <td>(تماس, 155)</td>\n",
       "      <td>(آپارتمان, 185)</td>\n",
       "      <td>(خیابان, 158)</td>\n",
       "      <td>(تماس, 142)</td>\n",
       "      <td>(خواب, 305)</td>\n",
       "      <td>(ملک, 137)</td>\n",
       "    </tr>\n",
       "    <tr>\n",
       "      <th>13</th>\n",
       "      <td>(دیوار, 953)</td>\n",
       "      <td>(انباری, 147)</td>\n",
       "      <td>(دفتر, 169)</td>\n",
       "      <td>(مشاور, 153)</td>\n",
       "      <td>(نورگیر, 139)</td>\n",
       "      <td>(دیوار, 283)</td>\n",
       "      <td>(فروش, 131)</td>\n",
       "    </tr>\n",
       "    <tr>\n",
       "      <th>14</th>\n",
       "      <td>(سند, 951)</td>\n",
       "      <td>(مشاور, 143)</td>\n",
       "      <td>(پارکینگ, 167)</td>\n",
       "      <td>(جنوبی, 141)</td>\n",
       "      <td>(نور, 135)</td>\n",
       "      <td>(نور, 275)</td>\n",
       "      <td>(مشاور, 128)</td>\n",
       "    </tr>\n",
       "  </tbody>\n",
       "</table>\n",
       "</div>"
      ],
      "text/plain": [
       "                 all          tehran           tabriz          isfahan  \\\n",
       "0       (واحد, 2435)      (متر, 276)     (املاک, 515)     (املاک, 356)   \n",
       "1      (املاک, 2282)     (واحد, 275)      (واحد, 429)      (واحد, 330)   \n",
       "2       (طبقه, 1587)    (منطقه, 222)       (ملک, 297)      (عالی, 261)   \n",
       "3       (عالی, 1470)     (سالن, 213)      (دارا, 280)      (طبقه, 240)   \n",
       "4       (تماس, 1340)     (خواب, 212)      (فروش, 277)       (نور, 238)   \n",
       "5        (متر, 1219)     (عالی, 201)      (طبقه, 252)      (تماس, 223)   \n",
       "6       (خواب, 1165)     (طبقه, 196)      (آدرس, 233)   (پارکینگ, 185)   \n",
       "7       (دارا, 1134)  (پارکینگ, 187)      (تماس, 210)      (خواب, 182)   \n",
       "8        (ملک, 1131)     (نقشه, 184)     (دیوار, 197)  (آپارتمان, 181)   \n",
       "9   (آپارتمان, 1092)      (نور, 163)       (سند, 194)       (متر, 167)   \n",
       "10      (فروش, 1078)    (دسترس, 162)       (وام, 191)      (دارا, 162)   \n",
       "11   (پارکینگ, 1071)      (سند, 155)      (خرید, 186)       (ملک, 161)   \n",
       "12       (نور, 1014)     (تماس, 155)  (آپارتمان, 185)    (خیابان, 158)   \n",
       "13      (دیوار, 953)   (انباری, 147)      (دفتر, 169)     (مشاور, 153)   \n",
       "14        (سند, 951)    (مشاور, 143)   (پارکینگ, 167)     (جنوبی, 141)   \n",
       "\n",
       "            mashhad          ardabil           shiraz  \n",
       "0       (واحد, 259)      (واحد, 799)     (املاک, 364)  \n",
       "1       (عالی, 246)     (املاک, 736)      (واحد, 343)  \n",
       "2       (خواب, 202)      (طبقه, 596)      (عالی, 222)  \n",
       "3      (دیوار, 199)      (تماس, 448)      (خواب, 182)  \n",
       "4     (کابینت, 192)      (عالی, 398)      (نقشه, 167)  \n",
       "5       (طبقه, 190)       (متر, 387)  (آپارتمان, 163)  \n",
       "6      (املاک, 190)      (دارا, 355)      (تماس, 162)  \n",
       "7       (متری, 163)  (آپارتمان, 354)      (سالن, 161)  \n",
       "8     (سرامیک, 159)      (فروش, 341)       (سند, 160)  \n",
       "9         (کف, 158)   (پارکینگ, 338)     (جنوبی, 148)  \n",
       "10  (آپارتمان, 153)       (ملک, 332)      (کوچه, 143)  \n",
       "11       (متر, 150)    (خیابان, 318)         (_, 141)  \n",
       "12      (تماس, 142)      (خواب, 305)       (ملک, 137)  \n",
       "13    (نورگیر, 139)     (دیوار, 283)      (فروش, 131)  \n",
       "14       (نور, 135)       (نور, 275)     (مشاور, 128)  "
      ]
     },
     "execution_count": 397,
     "metadata": {},
     "output_type": "execute_result"
    }
   ],
   "source": [
    "freq_analysis.head(15)"
   ]
  },
  {
   "cell_type": "code",
   "execution_count": null,
   "id": "9a40023a",
   "metadata": {},
   "outputs": [],
   "source": []
  },
  {
   "cell_type": "code",
   "execution_count": null,
   "id": "eb764041",
   "metadata": {},
   "outputs": [],
   "source": []
  },
  {
   "cell_type": "code",
   "execution_count": null,
   "id": "341c3d00",
   "metadata": {},
   "outputs": [],
   "source": []
  },
  {
   "cell_type": "code",
   "execution_count": null,
   "id": "cea62704",
   "metadata": {},
   "outputs": [],
   "source": []
  },
  {
   "cell_type": "code",
   "execution_count": null,
   "id": "f3200c6e",
   "metadata": {},
   "outputs": [],
   "source": []
  },
  {
   "cell_type": "code",
   "execution_count": null,
   "id": "71f89934",
   "metadata": {},
   "outputs": [],
   "source": []
  },
  {
   "cell_type": "code",
   "execution_count": null,
   "id": "a5190382",
   "metadata": {},
   "outputs": [],
   "source": []
  },
  {
   "cell_type": "code",
   "execution_count": null,
   "id": "f66607d9",
   "metadata": {},
   "outputs": [],
   "source": []
  },
  {
   "cell_type": "code",
   "execution_count": null,
   "id": "c19c8e80",
   "metadata": {},
   "outputs": [],
   "source": []
  },
  {
   "cell_type": "code",
   "execution_count": null,
   "id": "3fd216f1",
   "metadata": {},
   "outputs": [],
   "source": []
  },
  {
   "cell_type": "code",
   "execution_count": null,
   "id": "db4b6711",
   "metadata": {},
   "outputs": [],
   "source": []
  },
  {
   "cell_type": "code",
   "execution_count": null,
   "id": "61266606",
   "metadata": {},
   "outputs": [],
   "source": []
  },
  {
   "cell_type": "code",
   "execution_count": null,
   "id": "fe5f9a08",
   "metadata": {},
   "outputs": [],
   "source": []
  },
  {
   "cell_type": "code",
   "execution_count": null,
   "id": "2de4cad1",
   "metadata": {},
   "outputs": [],
   "source": []
  },
  {
   "cell_type": "code",
   "execution_count": null,
   "id": "19a030a3",
   "metadata": {},
   "outputs": [],
   "source": []
  },
  {
   "cell_type": "code",
   "execution_count": null,
   "id": "aa66335c",
   "metadata": {},
   "outputs": [],
   "source": []
  },
  {
   "cell_type": "code",
   "execution_count": null,
   "id": "25de5162",
   "metadata": {},
   "outputs": [],
   "source": []
  },
  {
   "cell_type": "code",
   "execution_count": null,
   "id": "bb209a63",
   "metadata": {},
   "outputs": [],
   "source": []
  },
  {
   "cell_type": "code",
   "execution_count": null,
   "id": "4fec68b8",
   "metadata": {},
   "outputs": [],
   "source": []
  },
  {
   "cell_type": "code",
   "execution_count": null,
   "id": "fafc298b",
   "metadata": {},
   "outputs": [],
   "source": []
  },
  {
   "cell_type": "code",
   "execution_count": null,
   "id": "f44feaf8",
   "metadata": {},
   "outputs": [],
   "source": []
  },
  {
   "cell_type": "code",
   "execution_count": null,
   "id": "83e7b998",
   "metadata": {},
   "outputs": [],
   "source": []
  },
  {
   "cell_type": "code",
   "execution_count": null,
   "id": "4195d1da",
   "metadata": {},
   "outputs": [],
   "source": []
  },
  {
   "cell_type": "code",
   "execution_count": null,
   "id": "8f4b9bca",
   "metadata": {},
   "outputs": [],
   "source": []
  },
  {
   "cell_type": "code",
   "execution_count": null,
   "id": "c10f2602",
   "metadata": {},
   "outputs": [],
   "source": []
  },
  {
   "cell_type": "code",
   "execution_count": null,
   "id": "745b43aa",
   "metadata": {},
   "outputs": [],
   "source": []
  },
  {
   "cell_type": "code",
   "execution_count": null,
   "id": "76e66550",
   "metadata": {},
   "outputs": [],
   "source": []
  }
 ],
 "metadata": {
  "kernelspec": {
   "display_name": "Python 3",
   "language": "python",
   "name": "python3"
  },
  "language_info": {
   "codemirror_mode": {
    "name": "ipython",
    "version": 3
   },
   "file_extension": ".py",
   "mimetype": "text/x-python",
   "name": "python",
   "nbconvert_exporter": "python",
   "pygments_lexer": "ipython3",
   "version": "3.8.8"
  }
 },
 "nbformat": 4,
 "nbformat_minor": 5
}
